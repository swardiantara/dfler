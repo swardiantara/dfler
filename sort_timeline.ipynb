{
 "cells": [
  {
   "cell_type": "code",
   "execution_count": 17,
   "id": "8036c868",
   "metadata": {},
   "outputs": [],
   "source": [
    "import pandas as pd"
   ]
  },
  {
   "cell_type": "code",
   "execution_count": 46,
   "id": "b79e6af2",
   "metadata": {},
   "outputs": [
    {
     "data": {
      "text/html": [
       "<div>\n",
       "<style scoped>\n",
       "    .dataframe tbody tr th:only-of-type {\n",
       "        vertical-align: middle;\n",
       "    }\n",
       "\n",
       "    .dataframe tbody tr th {\n",
       "        vertical-align: top;\n",
       "    }\n",
       "\n",
       "    .dataframe thead th {\n",
       "        text-align: right;\n",
       "    }\n",
       "</style>\n",
       "<table border=\"1\" class=\"dataframe\">\n",
       "  <thead>\n",
       "    <tr style=\"text-align: right;\">\n",
       "      <th></th>\n",
       "      <th>date</th>\n",
       "      <th>time</th>\n",
       "      <th>message</th>\n",
       "    </tr>\n",
       "  </thead>\n",
       "  <tbody>\n",
       "    <tr>\n",
       "      <th>0</th>\n",
       "      <td>06/19/2018</td>\n",
       "      <td>15:33:55</td>\n",
       "      <td>Weak GPS signal. Aircraft is in Attitude mode ...</td>\n",
       "    </tr>\n",
       "    <tr>\n",
       "      <th>1</th>\n",
       "      <td>06/19/2018</td>\n",
       "      <td>15:34:06</td>\n",
       "      <td>Weak GPS signal. Aircraft is in Attitude mode ...</td>\n",
       "    </tr>\n",
       "    <tr>\n",
       "      <th>2</th>\n",
       "      <td>06/19/2018</td>\n",
       "      <td>15:34:25</td>\n",
       "      <td>Weak GPS signal. Aircraft is in Attitude mode ...</td>\n",
       "    </tr>\n",
       "    <tr>\n",
       "      <th>3</th>\n",
       "      <td>06/19/2018</td>\n",
       "      <td>15:34:39</td>\n",
       "      <td>Home Point recorded. Return-to-Home Altitude:98FT</td>\n",
       "    </tr>\n",
       "    <tr>\n",
       "      <th>4</th>\n",
       "      <td>06/19/2018</td>\n",
       "      <td>15:34:59</td>\n",
       "      <td>Home Point recorded. Return-to-Home Altitude:98FT</td>\n",
       "    </tr>\n",
       "    <tr>\n",
       "      <th>...</th>\n",
       "      <td>...</td>\n",
       "      <td>...</td>\n",
       "      <td>...</td>\n",
       "    </tr>\n",
       "    <tr>\n",
       "      <th>168</th>\n",
       "      <td>06/19/2018</td>\n",
       "      <td>14:51:37</td>\n",
       "      <td>Fly with caution and ensure the aircraft remai...</td>\n",
       "    </tr>\n",
       "    <tr>\n",
       "      <th>169</th>\n",
       "      <td>06/19/2018</td>\n",
       "      <td>14:52:01</td>\n",
       "      <td>High wind velocity. Fly with caution and land ...</td>\n",
       "    </tr>\n",
       "    <tr>\n",
       "      <th>170</th>\n",
       "      <td>06/19/2018</td>\n",
       "      <td>14:52:17</td>\n",
       "      <td>Fly with caution and ensure the aircraft remai...</td>\n",
       "    </tr>\n",
       "    <tr>\n",
       "      <th>171</th>\n",
       "      <td>06/19/2018</td>\n",
       "      <td>14:52:29</td>\n",
       "      <td>Fly with caution and ensure the aircraft remai...</td>\n",
       "    </tr>\n",
       "    <tr>\n",
       "      <th>172</th>\n",
       "      <td>06/19/2018</td>\n",
       "      <td>14:53:29</td>\n",
       "      <td>Fly with caution and ensure the aircraft remai...</td>\n",
       "    </tr>\n",
       "  </tbody>\n",
       "</table>\n",
       "<p>173 rows × 3 columns</p>\n",
       "</div>"
      ],
      "text/plain": [
       "           date      time                                            message\n",
       "0    06/19/2018  15:33:55  Weak GPS signal. Aircraft is in Attitude mode ...\n",
       "1    06/19/2018  15:34:06  Weak GPS signal. Aircraft is in Attitude mode ...\n",
       "2    06/19/2018  15:34:25  Weak GPS signal. Aircraft is in Attitude mode ...\n",
       "3    06/19/2018  15:34:39  Home Point recorded. Return-to-Home Altitude:98FT\n",
       "4    06/19/2018  15:34:59  Home Point recorded. Return-to-Home Altitude:98FT\n",
       "..          ...       ...                                                ...\n",
       "168  06/19/2018  14:51:37  Fly with caution and ensure the aircraft remai...\n",
       "169  06/19/2018  14:52:01  High wind velocity. Fly with caution and land ...\n",
       "170  06/19/2018  14:52:17  Fly with caution and ensure the aircraft remai...\n",
       "171  06/19/2018  14:52:29  Fly with caution and ensure the aircraft remai...\n",
       "172  06/19/2018  14:53:29  Fly with caution and ensure the aircraft remai...\n",
       "\n",
       "[173 rows x 3 columns]"
      ]
     },
     "execution_count": 46,
     "metadata": {},
     "output_type": "execute_result"
    }
   ],
   "source": [
    "timeline = './flight_logs/forensic_timeline.csv'\n",
    "timeline = pd.read_csv(timeline, encoding= 'unicode_escape')\n",
    "timeline"
   ]
  },
  {
   "cell_type": "code",
   "execution_count": 47,
   "id": "6774da59",
   "metadata": {},
   "outputs": [
    {
     "data": {
      "text/plain": [
       "Index(['date', 'time', 'message'], dtype='object')"
      ]
     },
     "execution_count": 47,
     "metadata": {},
     "output_type": "execute_result"
    }
   ],
   "source": [
    "timeline.columns"
   ]
  },
  {
   "cell_type": "code",
   "execution_count": 48,
   "id": "3c47b0d4",
   "metadata": {},
   "outputs": [
    {
     "data": {
      "text/html": [
       "<div>\n",
       "<style scoped>\n",
       "    .dataframe tbody tr th:only-of-type {\n",
       "        vertical-align: middle;\n",
       "    }\n",
       "\n",
       "    .dataframe tbody tr th {\n",
       "        vertical-align: top;\n",
       "    }\n",
       "\n",
       "    .dataframe thead th {\n",
       "        text-align: right;\n",
       "    }\n",
       "</style>\n",
       "<table border=\"1\" class=\"dataframe\">\n",
       "  <thead>\n",
       "    <tr style=\"text-align: right;\">\n",
       "      <th></th>\n",
       "      <th>timestamp</th>\n",
       "      <th>message</th>\n",
       "    </tr>\n",
       "  </thead>\n",
       "  <tbody>\n",
       "    <tr>\n",
       "      <th>0</th>\n",
       "      <td>06/19/2018 15:33:55</td>\n",
       "      <td>Weak GPS signal. Aircraft is in Attitude mode ...</td>\n",
       "    </tr>\n",
       "    <tr>\n",
       "      <th>1</th>\n",
       "      <td>06/19/2018 15:34:06</td>\n",
       "      <td>Weak GPS signal. Aircraft is in Attitude mode ...</td>\n",
       "    </tr>\n",
       "    <tr>\n",
       "      <th>2</th>\n",
       "      <td>06/19/2018 15:34:25</td>\n",
       "      <td>Weak GPS signal. Aircraft is in Attitude mode ...</td>\n",
       "    </tr>\n",
       "    <tr>\n",
       "      <th>3</th>\n",
       "      <td>06/19/2018 15:34:39</td>\n",
       "      <td>Home Point recorded. Return-to-Home Altitude:98FT</td>\n",
       "    </tr>\n",
       "    <tr>\n",
       "      <th>4</th>\n",
       "      <td>06/19/2018 15:34:59</td>\n",
       "      <td>Home Point recorded. Return-to-Home Altitude:98FT</td>\n",
       "    </tr>\n",
       "    <tr>\n",
       "      <th>...</th>\n",
       "      <td>...</td>\n",
       "      <td>...</td>\n",
       "    </tr>\n",
       "    <tr>\n",
       "      <th>168</th>\n",
       "      <td>06/19/2018 14:51:37</td>\n",
       "      <td>Fly with caution and ensure the aircraft remai...</td>\n",
       "    </tr>\n",
       "    <tr>\n",
       "      <th>169</th>\n",
       "      <td>06/19/2018 14:52:01</td>\n",
       "      <td>High wind velocity. Fly with caution and land ...</td>\n",
       "    </tr>\n",
       "    <tr>\n",
       "      <th>170</th>\n",
       "      <td>06/19/2018 14:52:17</td>\n",
       "      <td>Fly with caution and ensure the aircraft remai...</td>\n",
       "    </tr>\n",
       "    <tr>\n",
       "      <th>171</th>\n",
       "      <td>06/19/2018 14:52:29</td>\n",
       "      <td>Fly with caution and ensure the aircraft remai...</td>\n",
       "    </tr>\n",
       "    <tr>\n",
       "      <th>172</th>\n",
       "      <td>06/19/2018 14:53:29</td>\n",
       "      <td>Fly with caution and ensure the aircraft remai...</td>\n",
       "    </tr>\n",
       "  </tbody>\n",
       "</table>\n",
       "<p>173 rows × 2 columns</p>\n",
       "</div>"
      ],
      "text/plain": [
       "               timestamp                                            message\n",
       "0    06/19/2018 15:33:55  Weak GPS signal. Aircraft is in Attitude mode ...\n",
       "1    06/19/2018 15:34:06  Weak GPS signal. Aircraft is in Attitude mode ...\n",
       "2    06/19/2018 15:34:25  Weak GPS signal. Aircraft is in Attitude mode ...\n",
       "3    06/19/2018 15:34:39  Home Point recorded. Return-to-Home Altitude:98FT\n",
       "4    06/19/2018 15:34:59  Home Point recorded. Return-to-Home Altitude:98FT\n",
       "..                   ...                                                ...\n",
       "168  06/19/2018 14:51:37  Fly with caution and ensure the aircraft remai...\n",
       "169  06/19/2018 14:52:01  High wind velocity. Fly with caution and land ...\n",
       "170  06/19/2018 14:52:17  Fly with caution and ensure the aircraft remai...\n",
       "171  06/19/2018 14:52:29  Fly with caution and ensure the aircraft remai...\n",
       "172  06/19/2018 14:53:29  Fly with caution and ensure the aircraft remai...\n",
       "\n",
       "[173 rows x 2 columns]"
      ]
     },
     "execution_count": 48,
     "metadata": {},
     "output_type": "execute_result"
    }
   ],
   "source": [
    "# making copy of team column\n",
    "time = timeline[\"time\"].copy()\n",
    " \n",
    "# concatenating team with name column\n",
    "# overwriting name column\n",
    "timeline[\"timestamp\"] = timeline[\"date\"].str.cat(time, sep =\" \")\n",
    "timeline.drop(columns=['time', 'date'], inplace=True)\n",
    "timeline = timeline[['timestamp', 'message']]\n",
    "# display\n",
    "timeline"
   ]
  },
  {
   "cell_type": "code",
   "execution_count": 49,
   "id": "aa0acb26",
   "metadata": {},
   "outputs": [
    {
     "name": "stdout",
     "output_type": "stream",
     "text": [
      "<class 'str'>\n",
      "<class 'pandas._libs.tslibs.timestamps.Timestamp'>\n"
     ]
    }
   ],
   "source": [
    "# checking datatype\n",
    "print(type(timeline.timestamp[0]))\n",
    " \n",
    "# convert to date\n",
    "timeline['timestamp'] = pd.to_datetime(timeline['timestamp'])\n",
    " \n",
    "# verify datatype\n",
    "print(type(timeline.timestamp[0]))"
   ]
  },
  {
   "cell_type": "code",
   "execution_count": 12,
   "id": "0e1a8aad",
   "metadata": {},
   "outputs": [
    {
     "data": {
      "text/html": [
       "<div>\n",
       "<style scoped>\n",
       "    .dataframe tbody tr th:only-of-type {\n",
       "        vertical-align: middle;\n",
       "    }\n",
       "\n",
       "    .dataframe tbody tr th {\n",
       "        vertical-align: top;\n",
       "    }\n",
       "\n",
       "    .dataframe thead th {\n",
       "        text-align: right;\n",
       "    }\n",
       "</style>\n",
       "<table border=\"1\" class=\"dataframe\">\n",
       "  <thead>\n",
       "    <tr style=\"text-align: right;\">\n",
       "      <th></th>\n",
       "      <th>date</th>\n",
       "      <th>time</th>\n",
       "      <th>message</th>\n",
       "    </tr>\n",
       "  </thead>\n",
       "  <tbody>\n",
       "    <tr>\n",
       "      <th>0</th>\n",
       "      <td>2018-06-19 15:33:55</td>\n",
       "      <td>15:33:55</td>\n",
       "      <td>Weak GPS signal. Aircraft is in Attitude mode ...</td>\n",
       "    </tr>\n",
       "    <tr>\n",
       "      <th>1</th>\n",
       "      <td>2018-06-19 15:34:06</td>\n",
       "      <td>15:34:06</td>\n",
       "      <td>Weak GPS signal. Aircraft is in Attitude mode ...</td>\n",
       "    </tr>\n",
       "    <tr>\n",
       "      <th>2</th>\n",
       "      <td>2018-06-19 15:34:25</td>\n",
       "      <td>15:34:25</td>\n",
       "      <td>Weak GPS signal. Aircraft is in Attitude mode ...</td>\n",
       "    </tr>\n",
       "    <tr>\n",
       "      <th>3</th>\n",
       "      <td>2018-06-19 15:34:39</td>\n",
       "      <td>15:34:39</td>\n",
       "      <td>Home Point recorded. Return-to-Home Altitude:98FT</td>\n",
       "    </tr>\n",
       "    <tr>\n",
       "      <th>4</th>\n",
       "      <td>2018-06-19 15:34:59</td>\n",
       "      <td>15:34:59</td>\n",
       "      <td>Home Point recorded. Return-to-Home Altitude:98FT</td>\n",
       "    </tr>\n",
       "    <tr>\n",
       "      <th>...</th>\n",
       "      <td>...</td>\n",
       "      <td>...</td>\n",
       "      <td>...</td>\n",
       "    </tr>\n",
       "    <tr>\n",
       "      <th>168</th>\n",
       "      <td>2018-06-19 14:51:37</td>\n",
       "      <td>14:51:37</td>\n",
       "      <td>Fly with caution and ensure the aircraft remai...</td>\n",
       "    </tr>\n",
       "    <tr>\n",
       "      <th>169</th>\n",
       "      <td>2018-06-19 14:52:01</td>\n",
       "      <td>14:52:01</td>\n",
       "      <td>High wind velocity. Fly with caution and land ...</td>\n",
       "    </tr>\n",
       "    <tr>\n",
       "      <th>170</th>\n",
       "      <td>2018-06-19 14:52:17</td>\n",
       "      <td>14:52:17</td>\n",
       "      <td>Fly with caution and ensure the aircraft remai...</td>\n",
       "    </tr>\n",
       "    <tr>\n",
       "      <th>171</th>\n",
       "      <td>2018-06-19 14:52:29</td>\n",
       "      <td>14:52:29</td>\n",
       "      <td>Fly with caution and ensure the aircraft remai...</td>\n",
       "    </tr>\n",
       "    <tr>\n",
       "      <th>172</th>\n",
       "      <td>2018-06-19 14:53:29</td>\n",
       "      <td>14:53:29</td>\n",
       "      <td>Fly with caution and ensure the aircraft remai...</td>\n",
       "    </tr>\n",
       "  </tbody>\n",
       "</table>\n",
       "<p>173 rows × 3 columns</p>\n",
       "</div>"
      ],
      "text/plain": [
       "                   date      time  \\\n",
       "0   2018-06-19 15:33:55  15:33:55   \n",
       "1   2018-06-19 15:34:06  15:34:06   \n",
       "2   2018-06-19 15:34:25  15:34:25   \n",
       "3   2018-06-19 15:34:39  15:34:39   \n",
       "4   2018-06-19 15:34:59  15:34:59   \n",
       "..                  ...       ...   \n",
       "168 2018-06-19 14:51:37  14:51:37   \n",
       "169 2018-06-19 14:52:01  14:52:01   \n",
       "170 2018-06-19 14:52:17  14:52:17   \n",
       "171 2018-06-19 14:52:29  14:52:29   \n",
       "172 2018-06-19 14:53:29  14:53:29   \n",
       "\n",
       "                                               message  \n",
       "0    Weak GPS signal. Aircraft is in Attitude mode ...  \n",
       "1    Weak GPS signal. Aircraft is in Attitude mode ...  \n",
       "2    Weak GPS signal. Aircraft is in Attitude mode ...  \n",
       "3    Home Point recorded. Return-to-Home Altitude:98FT  \n",
       "4    Home Point recorded. Return-to-Home Altitude:98FT  \n",
       "..                                                 ...  \n",
       "168  Fly with caution and ensure the aircraft remai...  \n",
       "169  High wind velocity. Fly with caution and land ...  \n",
       "170  Fly with caution and ensure the aircraft remai...  \n",
       "171  Fly with caution and ensure the aircraft remai...  \n",
       "172  Fly with caution and ensure the aircraft remai...  \n",
       "\n",
       "[173 rows x 3 columns]"
      ]
     },
     "execution_count": 12,
     "metadata": {},
     "output_type": "execute_result"
    }
   ],
   "source": [
    "timeline"
   ]
  },
  {
   "cell_type": "code",
   "execution_count": 51,
   "id": "e874dee0",
   "metadata": {},
   "outputs": [],
   "source": [
    "# sorting DataFrame by giving first priority to Expiry Date and then Mfg. Date\n",
    "timeline.sort_values(by='timestamp', inplace=True)"
   ]
  },
  {
   "cell_type": "code",
   "execution_count": 52,
   "id": "887ddf1a",
   "metadata": {},
   "outputs": [
    {
     "data": {
      "text/html": [
       "<div>\n",
       "<style scoped>\n",
       "    .dataframe tbody tr th:only-of-type {\n",
       "        vertical-align: middle;\n",
       "    }\n",
       "\n",
       "    .dataframe tbody tr th {\n",
       "        vertical-align: top;\n",
       "    }\n",
       "\n",
       "    .dataframe thead th {\n",
       "        text-align: right;\n",
       "    }\n",
       "</style>\n",
       "<table border=\"1\" class=\"dataframe\">\n",
       "  <thead>\n",
       "    <tr style=\"text-align: right;\">\n",
       "      <th></th>\n",
       "      <th>timestamp</th>\n",
       "      <th>message</th>\n",
       "    </tr>\n",
       "  </thead>\n",
       "  <tbody>\n",
       "    <tr>\n",
       "      <th>101</th>\n",
       "      <td>2018-06-15 11:07:46</td>\n",
       "      <td>Aircraft is in Attitude mode, so that it will ...</td>\n",
       "    </tr>\n",
       "    <tr>\n",
       "      <th>102</th>\n",
       "      <td>2018-06-15 11:08:00</td>\n",
       "      <td>Aircraft is in Attitude mode, so that it will ...</td>\n",
       "    </tr>\n",
       "    <tr>\n",
       "      <th>103</th>\n",
       "      <td>2018-06-15 11:08:02</td>\n",
       "      <td>Aircraft is in Attitude mode, so that it will ...</td>\n",
       "    </tr>\n",
       "    <tr>\n",
       "      <th>104</th>\n",
       "      <td>2018-06-15 11:08:15</td>\n",
       "      <td>Aircraft is in Attitude mode, so that it will ...</td>\n",
       "    </tr>\n",
       "    <tr>\n",
       "      <th>105</th>\n",
       "      <td>2018-06-15 11:08:19</td>\n",
       "      <td>Cannot Takeoff in Travel Mode. Exit Travel Mode.</td>\n",
       "    </tr>\n",
       "    <tr>\n",
       "      <th>...</th>\n",
       "      <td>...</td>\n",
       "      <td>...</td>\n",
       "    </tr>\n",
       "    <tr>\n",
       "      <th>1</th>\n",
       "      <td>2018-06-19 15:34:06</td>\n",
       "      <td>Weak GPS signal. Aircraft is in Attitude mode ...</td>\n",
       "    </tr>\n",
       "    <tr>\n",
       "      <th>2</th>\n",
       "      <td>2018-06-19 15:34:25</td>\n",
       "      <td>Weak GPS signal. Aircraft is in Attitude mode ...</td>\n",
       "    </tr>\n",
       "    <tr>\n",
       "      <th>3</th>\n",
       "      <td>2018-06-19 15:34:39</td>\n",
       "      <td>Home Point recorded. Return-to-Home Altitude:98FT</td>\n",
       "    </tr>\n",
       "    <tr>\n",
       "      <th>4</th>\n",
       "      <td>2018-06-19 15:34:59</td>\n",
       "      <td>Home Point recorded. Return-to-Home Altitude:98FT</td>\n",
       "    </tr>\n",
       "    <tr>\n",
       "      <th>5</th>\n",
       "      <td>2018-06-19 15:39:36</td>\n",
       "      <td>Aircraft is close to the Home Point. Initiatin...</td>\n",
       "    </tr>\n",
       "  </tbody>\n",
       "</table>\n",
       "<p>173 rows × 2 columns</p>\n",
       "</div>"
      ],
      "text/plain": [
       "              timestamp                                            message\n",
       "101 2018-06-15 11:07:46  Aircraft is in Attitude mode, so that it will ...\n",
       "102 2018-06-15 11:08:00  Aircraft is in Attitude mode, so that it will ...\n",
       "103 2018-06-15 11:08:02  Aircraft is in Attitude mode, so that it will ...\n",
       "104 2018-06-15 11:08:15  Aircraft is in Attitude mode, so that it will ...\n",
       "105 2018-06-15 11:08:19   Cannot Takeoff in Travel Mode. Exit Travel Mode.\n",
       "..                  ...                                                ...\n",
       "1   2018-06-19 15:34:06  Weak GPS signal. Aircraft is in Attitude mode ...\n",
       "2   2018-06-19 15:34:25  Weak GPS signal. Aircraft is in Attitude mode ...\n",
       "3   2018-06-19 15:34:39  Home Point recorded. Return-to-Home Altitude:98FT\n",
       "4   2018-06-19 15:34:59  Home Point recorded. Return-to-Home Altitude:98FT\n",
       "5   2018-06-19 15:39:36  Aircraft is close to the Home Point. Initiatin...\n",
       "\n",
       "[173 rows x 2 columns]"
      ]
     },
     "execution_count": 52,
     "metadata": {},
     "output_type": "execute_result"
    }
   ],
   "source": [
    "timeline"
   ]
  },
  {
   "cell_type": "code",
   "execution_count": 53,
   "id": "34a3bcb7",
   "metadata": {},
   "outputs": [],
   "source": [
    "timeline.to_csv('./flight_logs/forensic_timeline_sorted.csv', index=False, encoding=\"utf-8\") "
   ]
  },
  {
   "cell_type": "code",
   "execution_count": 54,
   "id": "5cb64e66",
   "metadata": {},
   "outputs": [],
   "source": [
    "# Load the NER model\n",
    "from simpletransformers.ner import NERModel\n",
    "\n",
    "droner = NERModel(\"bert\", \"outputs\", use_cuda=True)"
   ]
  },
  {
   "cell_type": "code",
   "execution_count": 64,
   "id": "fa920c46",
   "metadata": {},
   "outputs": [
    {
     "data": {
      "application/vnd.jupyter.widget-view+json": {
       "model_id": "1c866181c5454f5ca81e360a772730b8",
       "version_major": 2,
       "version_minor": 0
      },
      "text/plain": [
       "  0%|          | 0/1 [00:00<?, ?it/s]"
      ]
     },
     "metadata": {},
     "output_type": "display_data"
    },
    {
     "data": {
      "application/vnd.jupyter.widget-view+json": {
       "model_id": "b9b778b26adc4ac38be4d318ecf25065",
       "version_major": 2,
       "version_minor": 0
      },
      "text/plain": [
       "Running Prediction:   0%|          | 0/1 [00:00<?, ?it/s]"
      ]
     },
     "metadata": {},
     "output_type": "display_data"
    },
    {
     "data": {
      "text/plain": [
       "[{'Aircraft': 'O'},\n",
       " {'is': 'O'},\n",
       " {'in': 'O'},\n",
       " {'Attitude': 'O'},\n",
       " {'mode,': 'O'},\n",
       " {'so': 'O'},\n",
       " {'that': 'O'},\n",
       " {'it': 'O'},\n",
       " {'will': 'O'},\n",
       " {'not': 'O'},\n",
       " {'hover.': 'O'},\n",
       " {'Please': 'O'},\n",
       " {'fly': 'O'},\n",
       " {'with': 'O'},\n",
       " {'caution.': 'O'}]"
      ]
     },
     "execution_count": 64,
     "metadata": {},
     "output_type": "execute_result"
    }
   ],
   "source": [
    "message = timeline.iloc[0,1]\n",
    "message\n",
    "[entities], _ = droner.predict([\"Aircraft is in Attitude mode, so that it will not hover. Please fly with caution.\"])\n",
    "entities"
   ]
  },
  {
   "cell_type": "code",
   "execution_count": 70,
   "id": "0030bc1f",
   "metadata": {},
   "outputs": [
    {
     "data": {
      "application/vnd.jupyter.widget-view+json": {
       "model_id": "8b5e0e2d9b39418e9bb3f8d8dc32fd03",
       "version_major": 2,
       "version_minor": 0
      },
      "text/plain": [
       "  0%|          | 0/1 [00:00<?, ?it/s]"
      ]
     },
     "metadata": {},
     "output_type": "display_data"
    },
    {
     "data": {
      "application/vnd.jupyter.widget-view+json": {
       "model_id": "8d84238d060043bb97b582ec1b2982a1",
       "version_major": 2,
       "version_minor": 0
      },
      "text/plain": [
       "Running Prediction:   0%|          | 0/1 [00:00<?, ?it/s]"
      ]
     },
     "metadata": {},
     "output_type": "display_data"
    },
    {
     "data": {
      "application/vnd.jupyter.widget-view+json": {
       "model_id": "b7c6b0862a834098958139bcad1ea0cb",
       "version_major": 2,
       "version_minor": 0
      },
      "text/plain": [
       "  0%|          | 0/1 [00:00<?, ?it/s]"
      ]
     },
     "metadata": {},
     "output_type": "display_data"
    },
    {
     "data": {
      "application/vnd.jupyter.widget-view+json": {
       "model_id": "833603ca51c5489fa0c76c131829e054",
       "version_major": 2,
       "version_minor": 0
      },
      "text/plain": [
       "Running Prediction:   0%|          | 0/1 [00:00<?, ?it/s]"
      ]
     },
     "metadata": {},
     "output_type": "display_data"
    },
    {
     "data": {
      "application/vnd.jupyter.widget-view+json": {
       "model_id": "1c398625e34c4c48aa893d2fe31e63c6",
       "version_major": 2,
       "version_minor": 0
      },
      "text/plain": [
       "  0%|          | 0/1 [00:00<?, ?it/s]"
      ]
     },
     "metadata": {},
     "output_type": "display_data"
    },
    {
     "data": {
      "application/vnd.jupyter.widget-view+json": {
       "model_id": "6c2925277c084df49903f2af3492ca68",
       "version_major": 2,
       "version_minor": 0
      },
      "text/plain": [
       "Running Prediction:   0%|          | 0/1 [00:00<?, ?it/s]"
      ]
     },
     "metadata": {},
     "output_type": "display_data"
    },
    {
     "data": {
      "application/vnd.jupyter.widget-view+json": {
       "model_id": "fbc5a5f400de4713839a495eb3979fe0",
       "version_major": 2,
       "version_minor": 0
      },
      "text/plain": [
       "  0%|          | 0/1 [00:00<?, ?it/s]"
      ]
     },
     "metadata": {},
     "output_type": "display_data"
    },
    {
     "data": {
      "application/vnd.jupyter.widget-view+json": {
       "model_id": "add56a4e2a974512a8966db34bbcee80",
       "version_major": 2,
       "version_minor": 0
      },
      "text/plain": [
       "Running Prediction:   0%|          | 0/1 [00:00<?, ?it/s]"
      ]
     },
     "metadata": {},
     "output_type": "display_data"
    },
    {
     "data": {
      "application/vnd.jupyter.widget-view+json": {
       "model_id": "7f7c54b3c77b433b93f142463f94aa75",
       "version_major": 2,
       "version_minor": 0
      },
      "text/plain": [
       "  0%|          | 0/1 [00:00<?, ?it/s]"
      ]
     },
     "metadata": {},
     "output_type": "display_data"
    },
    {
     "data": {
      "application/vnd.jupyter.widget-view+json": {
       "model_id": "541af8054e4b4eb6920721a4c1c710a5",
       "version_major": 2,
       "version_minor": 0
      },
      "text/plain": [
       "Running Prediction:   0%|          | 0/1 [00:00<?, ?it/s]"
      ]
     },
     "metadata": {},
     "output_type": "display_data"
    },
    {
     "data": {
      "application/vnd.jupyter.widget-view+json": {
       "model_id": "0d0baff383db4ec0b6ea4500ba945b30",
       "version_major": 2,
       "version_minor": 0
      },
      "text/plain": [
       "  0%|          | 0/1 [00:00<?, ?it/s]"
      ]
     },
     "metadata": {},
     "output_type": "display_data"
    },
    {
     "data": {
      "application/vnd.jupyter.widget-view+json": {
       "model_id": "c39da5c6723c400ab3b0a791ae06fb01",
       "version_major": 2,
       "version_minor": 0
      },
      "text/plain": [
       "Running Prediction:   0%|          | 0/1 [00:00<?, ?it/s]"
      ]
     },
     "metadata": {},
     "output_type": "display_data"
    },
    {
     "data": {
      "application/vnd.jupyter.widget-view+json": {
       "model_id": "fcc67ad741204861a58bd92cab2eae9a",
       "version_major": 2,
       "version_minor": 0
      },
      "text/plain": [
       "  0%|          | 0/1 [00:00<?, ?it/s]"
      ]
     },
     "metadata": {},
     "output_type": "display_data"
    },
    {
     "data": {
      "application/vnd.jupyter.widget-view+json": {
       "model_id": "b13a8fd114a546ae8cc1922fa704a46d",
       "version_major": 2,
       "version_minor": 0
      },
      "text/plain": [
       "Running Prediction:   0%|          | 0/1 [00:00<?, ?it/s]"
      ]
     },
     "metadata": {},
     "output_type": "display_data"
    },
    {
     "data": {
      "application/vnd.jupyter.widget-view+json": {
       "model_id": "f5b187eded6644969edc4518b4078a3b",
       "version_major": 2,
       "version_minor": 0
      },
      "text/plain": [
       "  0%|          | 0/1 [00:00<?, ?it/s]"
      ]
     },
     "metadata": {},
     "output_type": "display_data"
    },
    {
     "data": {
      "application/vnd.jupyter.widget-view+json": {
       "model_id": "8fcd203b42294659ad41b8f043a1bb6f",
       "version_major": 2,
       "version_minor": 0
      },
      "text/plain": [
       "Running Prediction:   0%|          | 0/1 [00:00<?, ?it/s]"
      ]
     },
     "metadata": {},
     "output_type": "display_data"
    },
    {
     "data": {
      "application/vnd.jupyter.widget-view+json": {
       "model_id": "45eb2951d7c042adb2469bfdc12c1997",
       "version_major": 2,
       "version_minor": 0
      },
      "text/plain": [
       "  0%|          | 0/1 [00:00<?, ?it/s]"
      ]
     },
     "metadata": {},
     "output_type": "display_data"
    },
    {
     "data": {
      "application/vnd.jupyter.widget-view+json": {
       "model_id": "4d313a2b24fb494ca2cdbd713de28f7d",
       "version_major": 2,
       "version_minor": 0
      },
      "text/plain": [
       "Running Prediction:   0%|          | 0/1 [00:00<?, ?it/s]"
      ]
     },
     "metadata": {},
     "output_type": "display_data"
    },
    {
     "data": {
      "application/vnd.jupyter.widget-view+json": {
       "model_id": "54d6beae09d24c9885a124b6439811b0",
       "version_major": 2,
       "version_minor": 0
      },
      "text/plain": [
       "  0%|          | 0/1 [00:00<?, ?it/s]"
      ]
     },
     "metadata": {},
     "output_type": "display_data"
    },
    {
     "data": {
      "application/vnd.jupyter.widget-view+json": {
       "model_id": "bfcd8067ce094e909cd0157b3cb1bb41",
       "version_major": 2,
       "version_minor": 0
      },
      "text/plain": [
       "Running Prediction:   0%|          | 0/1 [00:00<?, ?it/s]"
      ]
     },
     "metadata": {},
     "output_type": "display_data"
    },
    {
     "data": {
      "application/vnd.jupyter.widget-view+json": {
       "model_id": "54e5194250ee47deab9ce181fe2e80b2",
       "version_major": 2,
       "version_minor": 0
      },
      "text/plain": [
       "  0%|          | 0/1 [00:00<?, ?it/s]"
      ]
     },
     "metadata": {},
     "output_type": "display_data"
    },
    {
     "data": {
      "application/vnd.jupyter.widget-view+json": {
       "model_id": "61910683bb6d4b3ab7a3ff478dda80d8",
       "version_major": 2,
       "version_minor": 0
      },
      "text/plain": [
       "Running Prediction:   0%|          | 0/1 [00:00<?, ?it/s]"
      ]
     },
     "metadata": {},
     "output_type": "display_data"
    },
    {
     "data": {
      "application/vnd.jupyter.widget-view+json": {
       "model_id": "f945f0d0d79c411881eaaea065ef8b5c",
       "version_major": 2,
       "version_minor": 0
      },
      "text/plain": [
       "  0%|          | 0/1 [00:00<?, ?it/s]"
      ]
     },
     "metadata": {},
     "output_type": "display_data"
    },
    {
     "data": {
      "application/vnd.jupyter.widget-view+json": {
       "model_id": "3f57ed4dbf0944afbdd4ade471c5e5f5",
       "version_major": 2,
       "version_minor": 0
      },
      "text/plain": [
       "Running Prediction:   0%|          | 0/1 [00:00<?, ?it/s]"
      ]
     },
     "metadata": {},
     "output_type": "display_data"
    },
    {
     "data": {
      "application/vnd.jupyter.widget-view+json": {
       "model_id": "fc5cbb05b9d145af91efdf14e3eb214c",
       "version_major": 2,
       "version_minor": 0
      },
      "text/plain": [
       "  0%|          | 0/1 [00:00<?, ?it/s]"
      ]
     },
     "metadata": {},
     "output_type": "display_data"
    },
    {
     "data": {
      "application/vnd.jupyter.widget-view+json": {
       "model_id": "57c897794abe46d3b1c9fb2e7773c9a7",
       "version_major": 2,
       "version_minor": 0
      },
      "text/plain": [
       "Running Prediction:   0%|          | 0/1 [00:00<?, ?it/s]"
      ]
     },
     "metadata": {},
     "output_type": "display_data"
    },
    {
     "data": {
      "application/vnd.jupyter.widget-view+json": {
       "model_id": "08888e7423ae4d2993707b7fbdfc34ad",
       "version_major": 2,
       "version_minor": 0
      },
      "text/plain": [
       "  0%|          | 0/1 [00:00<?, ?it/s]"
      ]
     },
     "metadata": {},
     "output_type": "display_data"
    },
    {
     "data": {
      "application/vnd.jupyter.widget-view+json": {
       "model_id": "b36109359167470391708063f26ad360",
       "version_major": 2,
       "version_minor": 0
      },
      "text/plain": [
       "Running Prediction:   0%|          | 0/1 [00:00<?, ?it/s]"
      ]
     },
     "metadata": {},
     "output_type": "display_data"
    },
    {
     "data": {
      "application/vnd.jupyter.widget-view+json": {
       "model_id": "0f60a9559b2b4fc68eeeaf296a1bdc3c",
       "version_major": 2,
       "version_minor": 0
      },
      "text/plain": [
       "  0%|          | 0/1 [00:00<?, ?it/s]"
      ]
     },
     "metadata": {},
     "output_type": "display_data"
    },
    {
     "data": {
      "application/vnd.jupyter.widget-view+json": {
       "model_id": "56c926f9d03b4b738b83e820d27f4586",
       "version_major": 2,
       "version_minor": 0
      },
      "text/plain": [
       "Running Prediction:   0%|          | 0/1 [00:00<?, ?it/s]"
      ]
     },
     "metadata": {},
     "output_type": "display_data"
    },
    {
     "data": {
      "application/vnd.jupyter.widget-view+json": {
       "model_id": "57e7e74189b0480887be88e330bda8fc",
       "version_major": 2,
       "version_minor": 0
      },
      "text/plain": [
       "  0%|          | 0/1 [00:00<?, ?it/s]"
      ]
     },
     "metadata": {},
     "output_type": "display_data"
    },
    {
     "data": {
      "application/vnd.jupyter.widget-view+json": {
       "model_id": "5d31b31c914e4995b889397638a9237e",
       "version_major": 2,
       "version_minor": 0
      },
      "text/plain": [
       "Running Prediction:   0%|          | 0/1 [00:00<?, ?it/s]"
      ]
     },
     "metadata": {},
     "output_type": "display_data"
    },
    {
     "data": {
      "application/vnd.jupyter.widget-view+json": {
       "model_id": "5d76d89b3337460aadce6964dbccb2bd",
       "version_major": 2,
       "version_minor": 0
      },
      "text/plain": [
       "  0%|          | 0/1 [00:00<?, ?it/s]"
      ]
     },
     "metadata": {},
     "output_type": "display_data"
    },
    {
     "data": {
      "application/vnd.jupyter.widget-view+json": {
       "model_id": "57f73bbbe9314fbcba81b3f1f65f3b83",
       "version_major": 2,
       "version_minor": 0
      },
      "text/plain": [
       "Running Prediction:   0%|          | 0/1 [00:00<?, ?it/s]"
      ]
     },
     "metadata": {},
     "output_type": "display_data"
    },
    {
     "data": {
      "application/vnd.jupyter.widget-view+json": {
       "model_id": "dec8f748a77145b1bfe551f37385f81a",
       "version_major": 2,
       "version_minor": 0
      },
      "text/plain": [
       "  0%|          | 0/1 [00:00<?, ?it/s]"
      ]
     },
     "metadata": {},
     "output_type": "display_data"
    },
    {
     "data": {
      "application/vnd.jupyter.widget-view+json": {
       "model_id": "1272a61ec335421cb09088903ba20395",
       "version_major": 2,
       "version_minor": 0
      },
      "text/plain": [
       "Running Prediction:   0%|          | 0/1 [00:00<?, ?it/s]"
      ]
     },
     "metadata": {},
     "output_type": "display_data"
    },
    {
     "data": {
      "application/vnd.jupyter.widget-view+json": {
       "model_id": "30b2a6d1b767401bad9d3a1b4256894b",
       "version_major": 2,
       "version_minor": 0
      },
      "text/plain": [
       "  0%|          | 0/1 [00:00<?, ?it/s]"
      ]
     },
     "metadata": {},
     "output_type": "display_data"
    },
    {
     "data": {
      "application/vnd.jupyter.widget-view+json": {
       "model_id": "684e3f74b1374e38a26ab455ca042fbb",
       "version_major": 2,
       "version_minor": 0
      },
      "text/plain": [
       "Running Prediction:   0%|          | 0/1 [00:00<?, ?it/s]"
      ]
     },
     "metadata": {},
     "output_type": "display_data"
    },
    {
     "data": {
      "application/vnd.jupyter.widget-view+json": {
       "model_id": "d125a8dfbd7240fabf8c7ab5a94812de",
       "version_major": 2,
       "version_minor": 0
      },
      "text/plain": [
       "  0%|          | 0/1 [00:00<?, ?it/s]"
      ]
     },
     "metadata": {},
     "output_type": "display_data"
    },
    {
     "data": {
      "application/vnd.jupyter.widget-view+json": {
       "model_id": "81bff4fbaf534ffc886f3cbdb449f897",
       "version_major": 2,
       "version_minor": 0
      },
      "text/plain": [
       "Running Prediction:   0%|          | 0/1 [00:00<?, ?it/s]"
      ]
     },
     "metadata": {},
     "output_type": "display_data"
    },
    {
     "data": {
      "application/vnd.jupyter.widget-view+json": {
       "model_id": "20b5eb1d28d045308cb3b8310daca401",
       "version_major": 2,
       "version_minor": 0
      },
      "text/plain": [
       "  0%|          | 0/1 [00:00<?, ?it/s]"
      ]
     },
     "metadata": {},
     "output_type": "display_data"
    },
    {
     "data": {
      "application/vnd.jupyter.widget-view+json": {
       "model_id": "209a312c508543e18fd7d6cad643194d",
       "version_major": 2,
       "version_minor": 0
      },
      "text/plain": [
       "Running Prediction:   0%|          | 0/1 [00:00<?, ?it/s]"
      ]
     },
     "metadata": {},
     "output_type": "display_data"
    },
    {
     "data": {
      "application/vnd.jupyter.widget-view+json": {
       "model_id": "a94aa5c394f445fdb5239f796793a8ba",
       "version_major": 2,
       "version_minor": 0
      },
      "text/plain": [
       "  0%|          | 0/1 [00:00<?, ?it/s]"
      ]
     },
     "metadata": {},
     "output_type": "display_data"
    },
    {
     "data": {
      "application/vnd.jupyter.widget-view+json": {
       "model_id": "bf8859bf258b40f09935ded3e16dafea",
       "version_major": 2,
       "version_minor": 0
      },
      "text/plain": [
       "Running Prediction:   0%|          | 0/1 [00:00<?, ?it/s]"
      ]
     },
     "metadata": {},
     "output_type": "display_data"
    },
    {
     "data": {
      "application/vnd.jupyter.widget-view+json": {
       "model_id": "43735aecb0d74ec1b093f65f5c89410e",
       "version_major": 2,
       "version_minor": 0
      },
      "text/plain": [
       "  0%|          | 0/1 [00:00<?, ?it/s]"
      ]
     },
     "metadata": {},
     "output_type": "display_data"
    },
    {
     "data": {
      "application/vnd.jupyter.widget-view+json": {
       "model_id": "562d363cb85241faa09debdf7a1475b9",
       "version_major": 2,
       "version_minor": 0
      },
      "text/plain": [
       "Running Prediction:   0%|          | 0/1 [00:00<?, ?it/s]"
      ]
     },
     "metadata": {},
     "output_type": "display_data"
    },
    {
     "data": {
      "application/vnd.jupyter.widget-view+json": {
       "model_id": "f83000451c03418b93112bad6ddc18bf",
       "version_major": 2,
       "version_minor": 0
      },
      "text/plain": [
       "  0%|          | 0/1 [00:00<?, ?it/s]"
      ]
     },
     "metadata": {},
     "output_type": "display_data"
    },
    {
     "data": {
      "application/vnd.jupyter.widget-view+json": {
       "model_id": "8d0b574e9dcd4a36b9b646e7bae3a423",
       "version_major": 2,
       "version_minor": 0
      },
      "text/plain": [
       "Running Prediction:   0%|          | 0/1 [00:00<?, ?it/s]"
      ]
     },
     "metadata": {},
     "output_type": "display_data"
    },
    {
     "data": {
      "application/vnd.jupyter.widget-view+json": {
       "model_id": "1d7817966fd44daf993aad7c860dd7b2",
       "version_major": 2,
       "version_minor": 0
      },
      "text/plain": [
       "  0%|          | 0/1 [00:00<?, ?it/s]"
      ]
     },
     "metadata": {},
     "output_type": "display_data"
    },
    {
     "data": {
      "application/vnd.jupyter.widget-view+json": {
       "model_id": "b7b66e2c1f104ad49ea461df587d627d",
       "version_major": 2,
       "version_minor": 0
      },
      "text/plain": [
       "Running Prediction:   0%|          | 0/1 [00:00<?, ?it/s]"
      ]
     },
     "metadata": {},
     "output_type": "display_data"
    },
    {
     "data": {
      "application/vnd.jupyter.widget-view+json": {
       "model_id": "7e9f79118be440acb6801f646f0b9152",
       "version_major": 2,
       "version_minor": 0
      },
      "text/plain": [
       "  0%|          | 0/1 [00:00<?, ?it/s]"
      ]
     },
     "metadata": {},
     "output_type": "display_data"
    },
    {
     "data": {
      "application/vnd.jupyter.widget-view+json": {
       "model_id": "60044073daaa46c9a3c8a2c078e34f13",
       "version_major": 2,
       "version_minor": 0
      },
      "text/plain": [
       "Running Prediction:   0%|          | 0/1 [00:00<?, ?it/s]"
      ]
     },
     "metadata": {},
     "output_type": "display_data"
    },
    {
     "data": {
      "application/vnd.jupyter.widget-view+json": {
       "model_id": "9fd35a62349f4483806882b8cf3c715a",
       "version_major": 2,
       "version_minor": 0
      },
      "text/plain": [
       "  0%|          | 0/1 [00:00<?, ?it/s]"
      ]
     },
     "metadata": {},
     "output_type": "display_data"
    },
    {
     "data": {
      "application/vnd.jupyter.widget-view+json": {
       "model_id": "1d79d1cf921e4beda1c98bb8b2784be5",
       "version_major": 2,
       "version_minor": 0
      },
      "text/plain": [
       "Running Prediction:   0%|          | 0/1 [00:00<?, ?it/s]"
      ]
     },
     "metadata": {},
     "output_type": "display_data"
    },
    {
     "data": {
      "application/vnd.jupyter.widget-view+json": {
       "model_id": "e4c9213e8e384ce9952580742788bd11",
       "version_major": 2,
       "version_minor": 0
      },
      "text/plain": [
       "  0%|          | 0/1 [00:00<?, ?it/s]"
      ]
     },
     "metadata": {},
     "output_type": "display_data"
    },
    {
     "data": {
      "application/vnd.jupyter.widget-view+json": {
       "model_id": "fe03dcc052454121a669da268ff6b213",
       "version_major": 2,
       "version_minor": 0
      },
      "text/plain": [
       "Running Prediction:   0%|          | 0/1 [00:00<?, ?it/s]"
      ]
     },
     "metadata": {},
     "output_type": "display_data"
    },
    {
     "data": {
      "application/vnd.jupyter.widget-view+json": {
       "model_id": "ac7f98f867ce416d85139ca78b1903ff",
       "version_major": 2,
       "version_minor": 0
      },
      "text/plain": [
       "  0%|          | 0/1 [00:00<?, ?it/s]"
      ]
     },
     "metadata": {},
     "output_type": "display_data"
    },
    {
     "data": {
      "application/vnd.jupyter.widget-view+json": {
       "model_id": "7e369191481a45ff875fc42d184bc295",
       "version_major": 2,
       "version_minor": 0
      },
      "text/plain": [
       "Running Prediction:   0%|          | 0/1 [00:00<?, ?it/s]"
      ]
     },
     "metadata": {},
     "output_type": "display_data"
    },
    {
     "data": {
      "application/vnd.jupyter.widget-view+json": {
       "model_id": "ef31014184a54366b58ae5fdbfb403b3",
       "version_major": 2,
       "version_minor": 0
      },
      "text/plain": [
       "  0%|          | 0/1 [00:00<?, ?it/s]"
      ]
     },
     "metadata": {},
     "output_type": "display_data"
    },
    {
     "data": {
      "application/vnd.jupyter.widget-view+json": {
       "model_id": "ab4fe98306d747ee9270a4575e717356",
       "version_major": 2,
       "version_minor": 0
      },
      "text/plain": [
       "Running Prediction:   0%|          | 0/1 [00:00<?, ?it/s]"
      ]
     },
     "metadata": {},
     "output_type": "display_data"
    },
    {
     "data": {
      "application/vnd.jupyter.widget-view+json": {
       "model_id": "bcd0cd0350cb4d5e83a86a44d904b783",
       "version_major": 2,
       "version_minor": 0
      },
      "text/plain": [
       "  0%|          | 0/1 [00:00<?, ?it/s]"
      ]
     },
     "metadata": {},
     "output_type": "display_data"
    },
    {
     "data": {
      "application/vnd.jupyter.widget-view+json": {
       "model_id": "cdfc5960a25b4cd3a9540a351d1e1084",
       "version_major": 2,
       "version_minor": 0
      },
      "text/plain": [
       "Running Prediction:   0%|          | 0/1 [00:00<?, ?it/s]"
      ]
     },
     "metadata": {},
     "output_type": "display_data"
    },
    {
     "data": {
      "application/vnd.jupyter.widget-view+json": {
       "model_id": "e12b21ca14354f02936a4dbf598d2180",
       "version_major": 2,
       "version_minor": 0
      },
      "text/plain": [
       "  0%|          | 0/1 [00:00<?, ?it/s]"
      ]
     },
     "metadata": {},
     "output_type": "display_data"
    },
    {
     "data": {
      "application/vnd.jupyter.widget-view+json": {
       "model_id": "0eec289e5b7e49d3ae6ce213dc61318e",
       "version_major": 2,
       "version_minor": 0
      },
      "text/plain": [
       "Running Prediction:   0%|          | 0/1 [00:00<?, ?it/s]"
      ]
     },
     "metadata": {},
     "output_type": "display_data"
    },
    {
     "data": {
      "application/vnd.jupyter.widget-view+json": {
       "model_id": "bc3338698c204e81b4d3ecc883efce26",
       "version_major": 2,
       "version_minor": 0
      },
      "text/plain": [
       "  0%|          | 0/1 [00:00<?, ?it/s]"
      ]
     },
     "metadata": {},
     "output_type": "display_data"
    },
    {
     "data": {
      "application/vnd.jupyter.widget-view+json": {
       "model_id": "f2ce0629c178405a97402fa5fa322388",
       "version_major": 2,
       "version_minor": 0
      },
      "text/plain": [
       "Running Prediction:   0%|          | 0/1 [00:00<?, ?it/s]"
      ]
     },
     "metadata": {},
     "output_type": "display_data"
    },
    {
     "data": {
      "application/vnd.jupyter.widget-view+json": {
       "model_id": "8d37685b3246429caba4fefbf9712791",
       "version_major": 2,
       "version_minor": 0
      },
      "text/plain": [
       "  0%|          | 0/1 [00:00<?, ?it/s]"
      ]
     },
     "metadata": {},
     "output_type": "display_data"
    },
    {
     "data": {
      "application/vnd.jupyter.widget-view+json": {
       "model_id": "3a19953d31e44c999751584364dfa423",
       "version_major": 2,
       "version_minor": 0
      },
      "text/plain": [
       "Running Prediction:   0%|          | 0/1 [00:00<?, ?it/s]"
      ]
     },
     "metadata": {},
     "output_type": "display_data"
    },
    {
     "data": {
      "application/vnd.jupyter.widget-view+json": {
       "model_id": "5c836609b5244a3fa4a992ef90385fe0",
       "version_major": 2,
       "version_minor": 0
      },
      "text/plain": [
       "  0%|          | 0/1 [00:00<?, ?it/s]"
      ]
     },
     "metadata": {},
     "output_type": "display_data"
    },
    {
     "data": {
      "application/vnd.jupyter.widget-view+json": {
       "model_id": "0d8241991ba6480d99256d38ff4d0646",
       "version_major": 2,
       "version_minor": 0
      },
      "text/plain": [
       "Running Prediction:   0%|          | 0/1 [00:00<?, ?it/s]"
      ]
     },
     "metadata": {},
     "output_type": "display_data"
    },
    {
     "data": {
      "application/vnd.jupyter.widget-view+json": {
       "model_id": "c205d5de64e44ee4b41245c940b62ef2",
       "version_major": 2,
       "version_minor": 0
      },
      "text/plain": [
       "  0%|          | 0/1 [00:00<?, ?it/s]"
      ]
     },
     "metadata": {},
     "output_type": "display_data"
    },
    {
     "data": {
      "application/vnd.jupyter.widget-view+json": {
       "model_id": "bee50c92e7294aee8daac45f788e9598",
       "version_major": 2,
       "version_minor": 0
      },
      "text/plain": [
       "Running Prediction:   0%|          | 0/1 [00:00<?, ?it/s]"
      ]
     },
     "metadata": {},
     "output_type": "display_data"
    },
    {
     "data": {
      "application/vnd.jupyter.widget-view+json": {
       "model_id": "cec7b81183de4e4fbbaad0f30ec0984f",
       "version_major": 2,
       "version_minor": 0
      },
      "text/plain": [
       "  0%|          | 0/1 [00:00<?, ?it/s]"
      ]
     },
     "metadata": {},
     "output_type": "display_data"
    },
    {
     "data": {
      "application/vnd.jupyter.widget-view+json": {
       "model_id": "2820008fcfd84753ab9f03a3d541319b",
       "version_major": 2,
       "version_minor": 0
      },
      "text/plain": [
       "Running Prediction:   0%|          | 0/1 [00:00<?, ?it/s]"
      ]
     },
     "metadata": {},
     "output_type": "display_data"
    },
    {
     "data": {
      "application/vnd.jupyter.widget-view+json": {
       "model_id": "12425269b54649d7bae62a26f5c3c7c9",
       "version_major": 2,
       "version_minor": 0
      },
      "text/plain": [
       "  0%|          | 0/1 [00:00<?, ?it/s]"
      ]
     },
     "metadata": {},
     "output_type": "display_data"
    },
    {
     "data": {
      "application/vnd.jupyter.widget-view+json": {
       "model_id": "bc8b0dec454c41a3a73fa4d668a4a932",
       "version_major": 2,
       "version_minor": 0
      },
      "text/plain": [
       "Running Prediction:   0%|          | 0/1 [00:00<?, ?it/s]"
      ]
     },
     "metadata": {},
     "output_type": "display_data"
    },
    {
     "data": {
      "application/vnd.jupyter.widget-view+json": {
       "model_id": "374afd61e380435a8f0c26f08c98a025",
       "version_major": 2,
       "version_minor": 0
      },
      "text/plain": [
       "  0%|          | 0/1 [00:00<?, ?it/s]"
      ]
     },
     "metadata": {},
     "output_type": "display_data"
    },
    {
     "data": {
      "application/vnd.jupyter.widget-view+json": {
       "model_id": "67af0cf5d79147b184ddde507d146645",
       "version_major": 2,
       "version_minor": 0
      },
      "text/plain": [
       "Running Prediction:   0%|          | 0/1 [00:00<?, ?it/s]"
      ]
     },
     "metadata": {},
     "output_type": "display_data"
    },
    {
     "data": {
      "application/vnd.jupyter.widget-view+json": {
       "model_id": "74ec940c38334f02be6edc8e101145b5",
       "version_major": 2,
       "version_minor": 0
      },
      "text/plain": [
       "  0%|          | 0/1 [00:00<?, ?it/s]"
      ]
     },
     "metadata": {},
     "output_type": "display_data"
    },
    {
     "data": {
      "application/vnd.jupyter.widget-view+json": {
       "model_id": "42647330465e4734aa2186c731ed3b1b",
       "version_major": 2,
       "version_minor": 0
      },
      "text/plain": [
       "Running Prediction:   0%|          | 0/1 [00:00<?, ?it/s]"
      ]
     },
     "metadata": {},
     "output_type": "display_data"
    },
    {
     "data": {
      "application/vnd.jupyter.widget-view+json": {
       "model_id": "cd7f237d5a134dd4ae69fba5e97856cc",
       "version_major": 2,
       "version_minor": 0
      },
      "text/plain": [
       "  0%|          | 0/1 [00:00<?, ?it/s]"
      ]
     },
     "metadata": {},
     "output_type": "display_data"
    },
    {
     "data": {
      "application/vnd.jupyter.widget-view+json": {
       "model_id": "0f57f4e1054542b2a3bc12e84fb5c3b8",
       "version_major": 2,
       "version_minor": 0
      },
      "text/plain": [
       "Running Prediction:   0%|          | 0/1 [00:00<?, ?it/s]"
      ]
     },
     "metadata": {},
     "output_type": "display_data"
    },
    {
     "data": {
      "application/vnd.jupyter.widget-view+json": {
       "model_id": "eeb22fc4f3b341f8845c8c02365d2bef",
       "version_major": 2,
       "version_minor": 0
      },
      "text/plain": [
       "  0%|          | 0/1 [00:00<?, ?it/s]"
      ]
     },
     "metadata": {},
     "output_type": "display_data"
    },
    {
     "data": {
      "application/vnd.jupyter.widget-view+json": {
       "model_id": "96e8dee5e35b41c9b400d9bb28a8edbe",
       "version_major": 2,
       "version_minor": 0
      },
      "text/plain": [
       "Running Prediction:   0%|          | 0/1 [00:00<?, ?it/s]"
      ]
     },
     "metadata": {},
     "output_type": "display_data"
    },
    {
     "data": {
      "application/vnd.jupyter.widget-view+json": {
       "model_id": "06653b0b54fa404cada98d487aafaab8",
       "version_major": 2,
       "version_minor": 0
      },
      "text/plain": [
       "  0%|          | 0/1 [00:00<?, ?it/s]"
      ]
     },
     "metadata": {},
     "output_type": "display_data"
    },
    {
     "data": {
      "application/vnd.jupyter.widget-view+json": {
       "model_id": "79e8ab790ba84f9686c84ec44b07ba4d",
       "version_major": 2,
       "version_minor": 0
      },
      "text/plain": [
       "Running Prediction:   0%|          | 0/1 [00:00<?, ?it/s]"
      ]
     },
     "metadata": {},
     "output_type": "display_data"
    },
    {
     "data": {
      "application/vnd.jupyter.widget-view+json": {
       "model_id": "e32f765c708d4b7fb5cd71d5045137a1",
       "version_major": 2,
       "version_minor": 0
      },
      "text/plain": [
       "  0%|          | 0/1 [00:00<?, ?it/s]"
      ]
     },
     "metadata": {},
     "output_type": "display_data"
    },
    {
     "data": {
      "application/vnd.jupyter.widget-view+json": {
       "model_id": "c5a3b3c16d98441dbf7eb5f72f9c7d5c",
       "version_major": 2,
       "version_minor": 0
      },
      "text/plain": [
       "Running Prediction:   0%|          | 0/1 [00:00<?, ?it/s]"
      ]
     },
     "metadata": {},
     "output_type": "display_data"
    },
    {
     "data": {
      "application/vnd.jupyter.widget-view+json": {
       "model_id": "795be9cd0c814974abbabeaf8b190048",
       "version_major": 2,
       "version_minor": 0
      },
      "text/plain": [
       "  0%|          | 0/1 [00:00<?, ?it/s]"
      ]
     },
     "metadata": {},
     "output_type": "display_data"
    },
    {
     "data": {
      "application/vnd.jupyter.widget-view+json": {
       "model_id": "407cc65e858b4ca6abe0fac71cd6c8ba",
       "version_major": 2,
       "version_minor": 0
      },
      "text/plain": [
       "Running Prediction:   0%|          | 0/1 [00:00<?, ?it/s]"
      ]
     },
     "metadata": {},
     "output_type": "display_data"
    },
    {
     "data": {
      "application/vnd.jupyter.widget-view+json": {
       "model_id": "addb9b77a90f450195aef013fae3a303",
       "version_major": 2,
       "version_minor": 0
      },
      "text/plain": [
       "  0%|          | 0/1 [00:00<?, ?it/s]"
      ]
     },
     "metadata": {},
     "output_type": "display_data"
    },
    {
     "data": {
      "application/vnd.jupyter.widget-view+json": {
       "model_id": "44e67d9af51547958659dd27240f5954",
       "version_major": 2,
       "version_minor": 0
      },
      "text/plain": [
       "Running Prediction:   0%|          | 0/1 [00:00<?, ?it/s]"
      ]
     },
     "metadata": {},
     "output_type": "display_data"
    },
    {
     "data": {
      "application/vnd.jupyter.widget-view+json": {
       "model_id": "33b5ae4a54c24cd48f072229bd63b06e",
       "version_major": 2,
       "version_minor": 0
      },
      "text/plain": [
       "  0%|          | 0/1 [00:00<?, ?it/s]"
      ]
     },
     "metadata": {},
     "output_type": "display_data"
    },
    {
     "data": {
      "application/vnd.jupyter.widget-view+json": {
       "model_id": "063e99306a74472d98c8e7791cf3d1b6",
       "version_major": 2,
       "version_minor": 0
      },
      "text/plain": [
       "Running Prediction:   0%|          | 0/1 [00:00<?, ?it/s]"
      ]
     },
     "metadata": {},
     "output_type": "display_data"
    },
    {
     "data": {
      "application/vnd.jupyter.widget-view+json": {
       "model_id": "98fe8eea9c5a4bfd874c02392fd6743f",
       "version_major": 2,
       "version_minor": 0
      },
      "text/plain": [
       "  0%|          | 0/1 [00:00<?, ?it/s]"
      ]
     },
     "metadata": {},
     "output_type": "display_data"
    },
    {
     "data": {
      "application/vnd.jupyter.widget-view+json": {
       "model_id": "5ee55ec327174b1c91f291ec529f0a29",
       "version_major": 2,
       "version_minor": 0
      },
      "text/plain": [
       "Running Prediction:   0%|          | 0/1 [00:00<?, ?it/s]"
      ]
     },
     "metadata": {},
     "output_type": "display_data"
    },
    {
     "data": {
      "application/vnd.jupyter.widget-view+json": {
       "model_id": "cf30a1f392a84245b667cff966659090",
       "version_major": 2,
       "version_minor": 0
      },
      "text/plain": [
       "  0%|          | 0/1 [00:00<?, ?it/s]"
      ]
     },
     "metadata": {},
     "output_type": "display_data"
    },
    {
     "data": {
      "application/vnd.jupyter.widget-view+json": {
       "model_id": "51e81b7fc68d4e9cb2f6136928d45863",
       "version_major": 2,
       "version_minor": 0
      },
      "text/plain": [
       "Running Prediction:   0%|          | 0/1 [00:00<?, ?it/s]"
      ]
     },
     "metadata": {},
     "output_type": "display_data"
    },
    {
     "data": {
      "application/vnd.jupyter.widget-view+json": {
       "model_id": "ad5abc3d2c994eff9dfabf60b5c30533",
       "version_major": 2,
       "version_minor": 0
      },
      "text/plain": [
       "  0%|          | 0/1 [00:00<?, ?it/s]"
      ]
     },
     "metadata": {},
     "output_type": "display_data"
    },
    {
     "data": {
      "application/vnd.jupyter.widget-view+json": {
       "model_id": "00b0985a9438450abc0b8915bca98949",
       "version_major": 2,
       "version_minor": 0
      },
      "text/plain": [
       "Running Prediction:   0%|          | 0/1 [00:00<?, ?it/s]"
      ]
     },
     "metadata": {},
     "output_type": "display_data"
    },
    {
     "data": {
      "application/vnd.jupyter.widget-view+json": {
       "model_id": "96f6cfc1dd274dddadf56b6f31a632ff",
       "version_major": 2,
       "version_minor": 0
      },
      "text/plain": [
       "  0%|          | 0/1 [00:00<?, ?it/s]"
      ]
     },
     "metadata": {},
     "output_type": "display_data"
    },
    {
     "data": {
      "application/vnd.jupyter.widget-view+json": {
       "model_id": "522508ff905043e1a6917352aced5dea",
       "version_major": 2,
       "version_minor": 0
      },
      "text/plain": [
       "Running Prediction:   0%|          | 0/1 [00:00<?, ?it/s]"
      ]
     },
     "metadata": {},
     "output_type": "display_data"
    },
    {
     "data": {
      "application/vnd.jupyter.widget-view+json": {
       "model_id": "0e83ce4c014047c1833b8b63f8561632",
       "version_major": 2,
       "version_minor": 0
      },
      "text/plain": [
       "  0%|          | 0/1 [00:00<?, ?it/s]"
      ]
     },
     "metadata": {},
     "output_type": "display_data"
    },
    {
     "data": {
      "application/vnd.jupyter.widget-view+json": {
       "model_id": "dfa93e440ada4212bb430e96e50b8920",
       "version_major": 2,
       "version_minor": 0
      },
      "text/plain": [
       "Running Prediction:   0%|          | 0/1 [00:00<?, ?it/s]"
      ]
     },
     "metadata": {},
     "output_type": "display_data"
    },
    {
     "data": {
      "application/vnd.jupyter.widget-view+json": {
       "model_id": "476c2c9ecb474838bbf75fdced99ff8e",
       "version_major": 2,
       "version_minor": 0
      },
      "text/plain": [
       "  0%|          | 0/1 [00:00<?, ?it/s]"
      ]
     },
     "metadata": {},
     "output_type": "display_data"
    },
    {
     "data": {
      "application/vnd.jupyter.widget-view+json": {
       "model_id": "56cb4b2db2064193a98e47e14a4b7420",
       "version_major": 2,
       "version_minor": 0
      },
      "text/plain": [
       "Running Prediction:   0%|          | 0/1 [00:00<?, ?it/s]"
      ]
     },
     "metadata": {},
     "output_type": "display_data"
    },
    {
     "data": {
      "application/vnd.jupyter.widget-view+json": {
       "model_id": "83c0b0c3407143a695e561293a01fa3b",
       "version_major": 2,
       "version_minor": 0
      },
      "text/plain": [
       "  0%|          | 0/1 [00:00<?, ?it/s]"
      ]
     },
     "metadata": {},
     "output_type": "display_data"
    },
    {
     "data": {
      "application/vnd.jupyter.widget-view+json": {
       "model_id": "99ced15b56854493b0f160cc7817130d",
       "version_major": 2,
       "version_minor": 0
      },
      "text/plain": [
       "Running Prediction:   0%|          | 0/1 [00:00<?, ?it/s]"
      ]
     },
     "metadata": {},
     "output_type": "display_data"
    },
    {
     "data": {
      "application/vnd.jupyter.widget-view+json": {
       "model_id": "3598ad3422924e289f1bab1329bf7e15",
       "version_major": 2,
       "version_minor": 0
      },
      "text/plain": [
       "  0%|          | 0/1 [00:00<?, ?it/s]"
      ]
     },
     "metadata": {},
     "output_type": "display_data"
    },
    {
     "data": {
      "application/vnd.jupyter.widget-view+json": {
       "model_id": "2d5552f45dd04f71bc4fa54c03b21c92",
       "version_major": 2,
       "version_minor": 0
      },
      "text/plain": [
       "Running Prediction:   0%|          | 0/1 [00:00<?, ?it/s]"
      ]
     },
     "metadata": {},
     "output_type": "display_data"
    },
    {
     "data": {
      "application/vnd.jupyter.widget-view+json": {
       "model_id": "36920e50536141d88619da8c01979869",
       "version_major": 2,
       "version_minor": 0
      },
      "text/plain": [
       "  0%|          | 0/1 [00:00<?, ?it/s]"
      ]
     },
     "metadata": {},
     "output_type": "display_data"
    },
    {
     "data": {
      "application/vnd.jupyter.widget-view+json": {
       "model_id": "b6a880099eec47acb98f5da15cfba138",
       "version_major": 2,
       "version_minor": 0
      },
      "text/plain": [
       "Running Prediction:   0%|          | 0/1 [00:00<?, ?it/s]"
      ]
     },
     "metadata": {},
     "output_type": "display_data"
    },
    {
     "data": {
      "application/vnd.jupyter.widget-view+json": {
       "model_id": "8efcfdf7c2ec41849353a358aaf3b334",
       "version_major": 2,
       "version_minor": 0
      },
      "text/plain": [
       "  0%|          | 0/1 [00:00<?, ?it/s]"
      ]
     },
     "metadata": {},
     "output_type": "display_data"
    },
    {
     "data": {
      "application/vnd.jupyter.widget-view+json": {
       "model_id": "c6caf4faa502473b861d77dd051f29ac",
       "version_major": 2,
       "version_minor": 0
      },
      "text/plain": [
       "Running Prediction:   0%|          | 0/1 [00:00<?, ?it/s]"
      ]
     },
     "metadata": {},
     "output_type": "display_data"
    },
    {
     "data": {
      "application/vnd.jupyter.widget-view+json": {
       "model_id": "b6540c4e1227436cb97264713763c343",
       "version_major": 2,
       "version_minor": 0
      },
      "text/plain": [
       "  0%|          | 0/1 [00:00<?, ?it/s]"
      ]
     },
     "metadata": {},
     "output_type": "display_data"
    },
    {
     "data": {
      "application/vnd.jupyter.widget-view+json": {
       "model_id": "ea71ca439ff746b9b28aa36f2d935cfc",
       "version_major": 2,
       "version_minor": 0
      },
      "text/plain": [
       "Running Prediction:   0%|          | 0/1 [00:00<?, ?it/s]"
      ]
     },
     "metadata": {},
     "output_type": "display_data"
    },
    {
     "data": {
      "application/vnd.jupyter.widget-view+json": {
       "model_id": "23000b5124c14c489047e0b694f76abf",
       "version_major": 2,
       "version_minor": 0
      },
      "text/plain": [
       "  0%|          | 0/1 [00:00<?, ?it/s]"
      ]
     },
     "metadata": {},
     "output_type": "display_data"
    },
    {
     "data": {
      "application/vnd.jupyter.widget-view+json": {
       "model_id": "5d03a5bcdcd34a30b809dd8a9dc819e0",
       "version_major": 2,
       "version_minor": 0
      },
      "text/plain": [
       "Running Prediction:   0%|          | 0/1 [00:00<?, ?it/s]"
      ]
     },
     "metadata": {},
     "output_type": "display_data"
    },
    {
     "data": {
      "application/vnd.jupyter.widget-view+json": {
       "model_id": "fac32c8c66844e278937702b9eebf8d5",
       "version_major": 2,
       "version_minor": 0
      },
      "text/plain": [
       "  0%|          | 0/1 [00:00<?, ?it/s]"
      ]
     },
     "metadata": {},
     "output_type": "display_data"
    },
    {
     "data": {
      "application/vnd.jupyter.widget-view+json": {
       "model_id": "e54999122d974089b2fdf0ef29d03eaf",
       "version_major": 2,
       "version_minor": 0
      },
      "text/plain": [
       "Running Prediction:   0%|          | 0/1 [00:00<?, ?it/s]"
      ]
     },
     "metadata": {},
     "output_type": "display_data"
    },
    {
     "data": {
      "application/vnd.jupyter.widget-view+json": {
       "model_id": "c79a793e0fad4baf9dd63de28a42403a",
       "version_major": 2,
       "version_minor": 0
      },
      "text/plain": [
       "  0%|          | 0/1 [00:00<?, ?it/s]"
      ]
     },
     "metadata": {},
     "output_type": "display_data"
    },
    {
     "data": {
      "application/vnd.jupyter.widget-view+json": {
       "model_id": "155ba01ef61742c8b2ce49f318ef071a",
       "version_major": 2,
       "version_minor": 0
      },
      "text/plain": [
       "Running Prediction:   0%|          | 0/1 [00:00<?, ?it/s]"
      ]
     },
     "metadata": {},
     "output_type": "display_data"
    },
    {
     "data": {
      "application/vnd.jupyter.widget-view+json": {
       "model_id": "2fd8757203044ac5a49099b07c5a8a45",
       "version_major": 2,
       "version_minor": 0
      },
      "text/plain": [
       "  0%|          | 0/1 [00:00<?, ?it/s]"
      ]
     },
     "metadata": {},
     "output_type": "display_data"
    },
    {
     "data": {
      "application/vnd.jupyter.widget-view+json": {
       "model_id": "8e7b63eba118408c992578387fa6f463",
       "version_major": 2,
       "version_minor": 0
      },
      "text/plain": [
       "Running Prediction:   0%|          | 0/1 [00:00<?, ?it/s]"
      ]
     },
     "metadata": {},
     "output_type": "display_data"
    },
    {
     "data": {
      "application/vnd.jupyter.widget-view+json": {
       "model_id": "94ebb0ea096449dd99ca08dff81c9998",
       "version_major": 2,
       "version_minor": 0
      },
      "text/plain": [
       "  0%|          | 0/1 [00:00<?, ?it/s]"
      ]
     },
     "metadata": {},
     "output_type": "display_data"
    },
    {
     "data": {
      "application/vnd.jupyter.widget-view+json": {
       "model_id": "dae7a3e6a8734f83bf277b81b9713f7f",
       "version_major": 2,
       "version_minor": 0
      },
      "text/plain": [
       "Running Prediction:   0%|          | 0/1 [00:00<?, ?it/s]"
      ]
     },
     "metadata": {},
     "output_type": "display_data"
    },
    {
     "data": {
      "application/vnd.jupyter.widget-view+json": {
       "model_id": "09ac0289ab6845daa664ead6f70ce482",
       "version_major": 2,
       "version_minor": 0
      },
      "text/plain": [
       "  0%|          | 0/1 [00:00<?, ?it/s]"
      ]
     },
     "metadata": {},
     "output_type": "display_data"
    },
    {
     "data": {
      "application/vnd.jupyter.widget-view+json": {
       "model_id": "b92907fa8c4c424f83e4018f53d7345c",
       "version_major": 2,
       "version_minor": 0
      },
      "text/plain": [
       "Running Prediction:   0%|          | 0/1 [00:00<?, ?it/s]"
      ]
     },
     "metadata": {},
     "output_type": "display_data"
    },
    {
     "data": {
      "application/vnd.jupyter.widget-view+json": {
       "model_id": "8f08b17ef3dd43b79b3e4b6bfc155af0",
       "version_major": 2,
       "version_minor": 0
      },
      "text/plain": [
       "  0%|          | 0/1 [00:00<?, ?it/s]"
      ]
     },
     "metadata": {},
     "output_type": "display_data"
    },
    {
     "data": {
      "application/vnd.jupyter.widget-view+json": {
       "model_id": "fbea9209ff4a42cea298d6487b846de9",
       "version_major": 2,
       "version_minor": 0
      },
      "text/plain": [
       "Running Prediction:   0%|          | 0/1 [00:00<?, ?it/s]"
      ]
     },
     "metadata": {},
     "output_type": "display_data"
    },
    {
     "data": {
      "application/vnd.jupyter.widget-view+json": {
       "model_id": "01613dc7adca43b28a96e1fae99d5e14",
       "version_major": 2,
       "version_minor": 0
      },
      "text/plain": [
       "  0%|          | 0/1 [00:00<?, ?it/s]"
      ]
     },
     "metadata": {},
     "output_type": "display_data"
    },
    {
     "data": {
      "application/vnd.jupyter.widget-view+json": {
       "model_id": "f4161ee5c10f410f9b05a7bee298afda",
       "version_major": 2,
       "version_minor": 0
      },
      "text/plain": [
       "Running Prediction:   0%|          | 0/1 [00:00<?, ?it/s]"
      ]
     },
     "metadata": {},
     "output_type": "display_data"
    },
    {
     "data": {
      "application/vnd.jupyter.widget-view+json": {
       "model_id": "c0de90729da94eabb808f266997ac8a6",
       "version_major": 2,
       "version_minor": 0
      },
      "text/plain": [
       "  0%|          | 0/1 [00:00<?, ?it/s]"
      ]
     },
     "metadata": {},
     "output_type": "display_data"
    },
    {
     "data": {
      "application/vnd.jupyter.widget-view+json": {
       "model_id": "b53aa3a1db1a4f7c9f33251d70df253a",
       "version_major": 2,
       "version_minor": 0
      },
      "text/plain": [
       "Running Prediction:   0%|          | 0/1 [00:00<?, ?it/s]"
      ]
     },
     "metadata": {},
     "output_type": "display_data"
    },
    {
     "data": {
      "application/vnd.jupyter.widget-view+json": {
       "model_id": "03916d2a4bae4e0f8708c05a7bb4522f",
       "version_major": 2,
       "version_minor": 0
      },
      "text/plain": [
       "  0%|          | 0/1 [00:00<?, ?it/s]"
      ]
     },
     "metadata": {},
     "output_type": "display_data"
    },
    {
     "data": {
      "application/vnd.jupyter.widget-view+json": {
       "model_id": "82179cbce8754e25a98cbfea4d375237",
       "version_major": 2,
       "version_minor": 0
      },
      "text/plain": [
       "Running Prediction:   0%|          | 0/1 [00:00<?, ?it/s]"
      ]
     },
     "metadata": {},
     "output_type": "display_data"
    },
    {
     "data": {
      "application/vnd.jupyter.widget-view+json": {
       "model_id": "cc13023c96ff48529a40395779195993",
       "version_major": 2,
       "version_minor": 0
      },
      "text/plain": [
       "  0%|          | 0/1 [00:00<?, ?it/s]"
      ]
     },
     "metadata": {},
     "output_type": "display_data"
    },
    {
     "data": {
      "application/vnd.jupyter.widget-view+json": {
       "model_id": "8ea45f3ee0f047ad8161f7ca8e45ef9c",
       "version_major": 2,
       "version_minor": 0
      },
      "text/plain": [
       "Running Prediction:   0%|          | 0/1 [00:00<?, ?it/s]"
      ]
     },
     "metadata": {},
     "output_type": "display_data"
    },
    {
     "data": {
      "application/vnd.jupyter.widget-view+json": {
       "model_id": "17806047b1c24daf93e70117f8fbb36b",
       "version_major": 2,
       "version_minor": 0
      },
      "text/plain": [
       "  0%|          | 0/1 [00:00<?, ?it/s]"
      ]
     },
     "metadata": {},
     "output_type": "display_data"
    },
    {
     "data": {
      "application/vnd.jupyter.widget-view+json": {
       "model_id": "94349136127942ecbc72ded04f2b6c0a",
       "version_major": 2,
       "version_minor": 0
      },
      "text/plain": [
       "Running Prediction:   0%|          | 0/1 [00:00<?, ?it/s]"
      ]
     },
     "metadata": {},
     "output_type": "display_data"
    },
    {
     "data": {
      "application/vnd.jupyter.widget-view+json": {
       "model_id": "1d15ff0d597943868766f7fc2d16b44c",
       "version_major": 2,
       "version_minor": 0
      },
      "text/plain": [
       "  0%|          | 0/1 [00:00<?, ?it/s]"
      ]
     },
     "metadata": {},
     "output_type": "display_data"
    },
    {
     "data": {
      "application/vnd.jupyter.widget-view+json": {
       "model_id": "cacebfc666e24fd998e49d50424278c8",
       "version_major": 2,
       "version_minor": 0
      },
      "text/plain": [
       "Running Prediction:   0%|          | 0/1 [00:00<?, ?it/s]"
      ]
     },
     "metadata": {},
     "output_type": "display_data"
    },
    {
     "data": {
      "application/vnd.jupyter.widget-view+json": {
       "model_id": "f26233e543be40ecbff36f9f2ec6224f",
       "version_major": 2,
       "version_minor": 0
      },
      "text/plain": [
       "  0%|          | 0/1 [00:00<?, ?it/s]"
      ]
     },
     "metadata": {},
     "output_type": "display_data"
    },
    {
     "data": {
      "application/vnd.jupyter.widget-view+json": {
       "model_id": "454846fc1b6e48099de5f2e00d94ba01",
       "version_major": 2,
       "version_minor": 0
      },
      "text/plain": [
       "Running Prediction:   0%|          | 0/1 [00:00<?, ?it/s]"
      ]
     },
     "metadata": {},
     "output_type": "display_data"
    },
    {
     "data": {
      "application/vnd.jupyter.widget-view+json": {
       "model_id": "a857d9496ac04f67ae444a284cc1007f",
       "version_major": 2,
       "version_minor": 0
      },
      "text/plain": [
       "  0%|          | 0/1 [00:00<?, ?it/s]"
      ]
     },
     "metadata": {},
     "output_type": "display_data"
    },
    {
     "data": {
      "application/vnd.jupyter.widget-view+json": {
       "model_id": "7d471ff40ad54292a6e85982a66a0795",
       "version_major": 2,
       "version_minor": 0
      },
      "text/plain": [
       "Running Prediction:   0%|          | 0/1 [00:00<?, ?it/s]"
      ]
     },
     "metadata": {},
     "output_type": "display_data"
    },
    {
     "data": {
      "application/vnd.jupyter.widget-view+json": {
       "model_id": "285559df21c246a1bf8838a4153248f7",
       "version_major": 2,
       "version_minor": 0
      },
      "text/plain": [
       "  0%|          | 0/1 [00:00<?, ?it/s]"
      ]
     },
     "metadata": {},
     "output_type": "display_data"
    },
    {
     "data": {
      "application/vnd.jupyter.widget-view+json": {
       "model_id": "24c0e687fe1a422aa15001047c4963da",
       "version_major": 2,
       "version_minor": 0
      },
      "text/plain": [
       "Running Prediction:   0%|          | 0/1 [00:00<?, ?it/s]"
      ]
     },
     "metadata": {},
     "output_type": "display_data"
    },
    {
     "data": {
      "application/vnd.jupyter.widget-view+json": {
       "model_id": "dd40475db2474611baf891a44074f329",
       "version_major": 2,
       "version_minor": 0
      },
      "text/plain": [
       "  0%|          | 0/1 [00:00<?, ?it/s]"
      ]
     },
     "metadata": {},
     "output_type": "display_data"
    },
    {
     "data": {
      "application/vnd.jupyter.widget-view+json": {
       "model_id": "57c8cc3a3a1c4cc18a2af00f3388106d",
       "version_major": 2,
       "version_minor": 0
      },
      "text/plain": [
       "Running Prediction:   0%|          | 0/1 [00:00<?, ?it/s]"
      ]
     },
     "metadata": {},
     "output_type": "display_data"
    },
    {
     "data": {
      "application/vnd.jupyter.widget-view+json": {
       "model_id": "3917c594e71342908e9a89a0e7b5e6f4",
       "version_major": 2,
       "version_minor": 0
      },
      "text/plain": [
       "  0%|          | 0/1 [00:00<?, ?it/s]"
      ]
     },
     "metadata": {},
     "output_type": "display_data"
    },
    {
     "data": {
      "application/vnd.jupyter.widget-view+json": {
       "model_id": "9961920c633c4eb39602cead35ee1451",
       "version_major": 2,
       "version_minor": 0
      },
      "text/plain": [
       "Running Prediction:   0%|          | 0/1 [00:00<?, ?it/s]"
      ]
     },
     "metadata": {},
     "output_type": "display_data"
    },
    {
     "data": {
      "application/vnd.jupyter.widget-view+json": {
       "model_id": "586d7ed1f8624a3195d242349e826e0c",
       "version_major": 2,
       "version_minor": 0
      },
      "text/plain": [
       "  0%|          | 0/1 [00:00<?, ?it/s]"
      ]
     },
     "metadata": {},
     "output_type": "display_data"
    },
    {
     "data": {
      "application/vnd.jupyter.widget-view+json": {
       "model_id": "f6c8ff176d7a4aa3bfad2ece111ffa40",
       "version_major": 2,
       "version_minor": 0
      },
      "text/plain": [
       "Running Prediction:   0%|          | 0/1 [00:00<?, ?it/s]"
      ]
     },
     "metadata": {},
     "output_type": "display_data"
    },
    {
     "data": {
      "application/vnd.jupyter.widget-view+json": {
       "model_id": "62894fcf01a545fa9da2c56f291e55f1",
       "version_major": 2,
       "version_minor": 0
      },
      "text/plain": [
       "  0%|          | 0/1 [00:00<?, ?it/s]"
      ]
     },
     "metadata": {},
     "output_type": "display_data"
    },
    {
     "data": {
      "application/vnd.jupyter.widget-view+json": {
       "model_id": "65bcd623b3184b2bb27cf6cf3e053275",
       "version_major": 2,
       "version_minor": 0
      },
      "text/plain": [
       "Running Prediction:   0%|          | 0/1 [00:00<?, ?it/s]"
      ]
     },
     "metadata": {},
     "output_type": "display_data"
    },
    {
     "data": {
      "application/vnd.jupyter.widget-view+json": {
       "model_id": "e49d7cf784fb4605b6b086dbe35ce3f9",
       "version_major": 2,
       "version_minor": 0
      },
      "text/plain": [
       "  0%|          | 0/1 [00:00<?, ?it/s]"
      ]
     },
     "metadata": {},
     "output_type": "display_data"
    },
    {
     "data": {
      "application/vnd.jupyter.widget-view+json": {
       "model_id": "ab4d06a8a87a47ba9b26ea380bb26ecf",
       "version_major": 2,
       "version_minor": 0
      },
      "text/plain": [
       "Running Prediction:   0%|          | 0/1 [00:00<?, ?it/s]"
      ]
     },
     "metadata": {},
     "output_type": "display_data"
    },
    {
     "data": {
      "application/vnd.jupyter.widget-view+json": {
       "model_id": "f93688303f65470299f5a88d70eecb93",
       "version_major": 2,
       "version_minor": 0
      },
      "text/plain": [
       "  0%|          | 0/1 [00:00<?, ?it/s]"
      ]
     },
     "metadata": {},
     "output_type": "display_data"
    },
    {
     "data": {
      "application/vnd.jupyter.widget-view+json": {
       "model_id": "03937b38ab984965a4acc1a4f0307b88",
       "version_major": 2,
       "version_minor": 0
      },
      "text/plain": [
       "Running Prediction:   0%|          | 0/1 [00:00<?, ?it/s]"
      ]
     },
     "metadata": {},
     "output_type": "display_data"
    },
    {
     "data": {
      "application/vnd.jupyter.widget-view+json": {
       "model_id": "ad90616808974bb98b1951dc77fde7a8",
       "version_major": 2,
       "version_minor": 0
      },
      "text/plain": [
       "  0%|          | 0/1 [00:00<?, ?it/s]"
      ]
     },
     "metadata": {},
     "output_type": "display_data"
    },
    {
     "data": {
      "application/vnd.jupyter.widget-view+json": {
       "model_id": "4d6bac65b0394360828d3e5b23b502ed",
       "version_major": 2,
       "version_minor": 0
      },
      "text/plain": [
       "Running Prediction:   0%|          | 0/1 [00:00<?, ?it/s]"
      ]
     },
     "metadata": {},
     "output_type": "display_data"
    },
    {
     "data": {
      "application/vnd.jupyter.widget-view+json": {
       "model_id": "d5f30321b9a542c5a5011eaf3bbbd7d8",
       "version_major": 2,
       "version_minor": 0
      },
      "text/plain": [
       "  0%|          | 0/1 [00:00<?, ?it/s]"
      ]
     },
     "metadata": {},
     "output_type": "display_data"
    },
    {
     "data": {
      "application/vnd.jupyter.widget-view+json": {
       "model_id": "75821f796cf74444891d33e4ce603d7a",
       "version_major": 2,
       "version_minor": 0
      },
      "text/plain": [
       "Running Prediction:   0%|          | 0/1 [00:00<?, ?it/s]"
      ]
     },
     "metadata": {},
     "output_type": "display_data"
    },
    {
     "data": {
      "application/vnd.jupyter.widget-view+json": {
       "model_id": "cdeb0a937c354d13a23916ad9bf44d72",
       "version_major": 2,
       "version_minor": 0
      },
      "text/plain": [
       "  0%|          | 0/1 [00:00<?, ?it/s]"
      ]
     },
     "metadata": {},
     "output_type": "display_data"
    },
    {
     "data": {
      "application/vnd.jupyter.widget-view+json": {
       "model_id": "0cc9c8708bb04670ac39c7039ef90098",
       "version_major": 2,
       "version_minor": 0
      },
      "text/plain": [
       "Running Prediction:   0%|          | 0/1 [00:00<?, ?it/s]"
      ]
     },
     "metadata": {},
     "output_type": "display_data"
    },
    {
     "data": {
      "application/vnd.jupyter.widget-view+json": {
       "model_id": "d39a0a9fc05d4fda88d967b0cc115df1",
       "version_major": 2,
       "version_minor": 0
      },
      "text/plain": [
       "  0%|          | 0/1 [00:00<?, ?it/s]"
      ]
     },
     "metadata": {},
     "output_type": "display_data"
    },
    {
     "data": {
      "application/vnd.jupyter.widget-view+json": {
       "model_id": "8cbc6f3e149d4f18b5fb3a7678a071e8",
       "version_major": 2,
       "version_minor": 0
      },
      "text/plain": [
       "Running Prediction:   0%|          | 0/1 [00:00<?, ?it/s]"
      ]
     },
     "metadata": {},
     "output_type": "display_data"
    },
    {
     "data": {
      "application/vnd.jupyter.widget-view+json": {
       "model_id": "83a21b7e0b0a44d79f219167204016e2",
       "version_major": 2,
       "version_minor": 0
      },
      "text/plain": [
       "  0%|          | 0/1 [00:00<?, ?it/s]"
      ]
     },
     "metadata": {},
     "output_type": "display_data"
    },
    {
     "data": {
      "application/vnd.jupyter.widget-view+json": {
       "model_id": "3f9cf2a5df08494aa4b6029daafc48a0",
       "version_major": 2,
       "version_minor": 0
      },
      "text/plain": [
       "Running Prediction:   0%|          | 0/1 [00:00<?, ?it/s]"
      ]
     },
     "metadata": {},
     "output_type": "display_data"
    },
    {
     "data": {
      "application/vnd.jupyter.widget-view+json": {
       "model_id": "b514fe3a83fe41cc9972bc3e7287f1f7",
       "version_major": 2,
       "version_minor": 0
      },
      "text/plain": [
       "  0%|          | 0/1 [00:00<?, ?it/s]"
      ]
     },
     "metadata": {},
     "output_type": "display_data"
    },
    {
     "data": {
      "application/vnd.jupyter.widget-view+json": {
       "model_id": "00a353b1ecb1440f9339a558a9b540d3",
       "version_major": 2,
       "version_minor": 0
      },
      "text/plain": [
       "Running Prediction:   0%|          | 0/1 [00:00<?, ?it/s]"
      ]
     },
     "metadata": {},
     "output_type": "display_data"
    },
    {
     "data": {
      "application/vnd.jupyter.widget-view+json": {
       "model_id": "4bf789dff30b4bdca80ee375d7ad205c",
       "version_major": 2,
       "version_minor": 0
      },
      "text/plain": [
       "  0%|          | 0/1 [00:00<?, ?it/s]"
      ]
     },
     "metadata": {},
     "output_type": "display_data"
    },
    {
     "data": {
      "application/vnd.jupyter.widget-view+json": {
       "model_id": "e780c6921d4140f386861b9e49d763b1",
       "version_major": 2,
       "version_minor": 0
      },
      "text/plain": [
       "Running Prediction:   0%|          | 0/1 [00:00<?, ?it/s]"
      ]
     },
     "metadata": {},
     "output_type": "display_data"
    },
    {
     "data": {
      "application/vnd.jupyter.widget-view+json": {
       "model_id": "7bd1b5ff42dc4440bb2335cfc2ee08e5",
       "version_major": 2,
       "version_minor": 0
      },
      "text/plain": [
       "  0%|          | 0/1 [00:00<?, ?it/s]"
      ]
     },
     "metadata": {},
     "output_type": "display_data"
    },
    {
     "data": {
      "application/vnd.jupyter.widget-view+json": {
       "model_id": "9171de79a4e54e2c9d1fde4bc396b3e9",
       "version_major": 2,
       "version_minor": 0
      },
      "text/plain": [
       "Running Prediction:   0%|          | 0/1 [00:00<?, ?it/s]"
      ]
     },
     "metadata": {},
     "output_type": "display_data"
    },
    {
     "data": {
      "application/vnd.jupyter.widget-view+json": {
       "model_id": "e4dc34f437974fa1abe509d2f584cbd6",
       "version_major": 2,
       "version_minor": 0
      },
      "text/plain": [
       "  0%|          | 0/1 [00:00<?, ?it/s]"
      ]
     },
     "metadata": {},
     "output_type": "display_data"
    },
    {
     "data": {
      "application/vnd.jupyter.widget-view+json": {
       "model_id": "ebfa1d4e8cf74ca7b1ede102498a3d9b",
       "version_major": 2,
       "version_minor": 0
      },
      "text/plain": [
       "Running Prediction:   0%|          | 0/1 [00:00<?, ?it/s]"
      ]
     },
     "metadata": {},
     "output_type": "display_data"
    },
    {
     "data": {
      "application/vnd.jupyter.widget-view+json": {
       "model_id": "72b34d9560e844b69145034870bbb0bd",
       "version_major": 2,
       "version_minor": 0
      },
      "text/plain": [
       "  0%|          | 0/1 [00:00<?, ?it/s]"
      ]
     },
     "metadata": {},
     "output_type": "display_data"
    },
    {
     "data": {
      "application/vnd.jupyter.widget-view+json": {
       "model_id": "a3f7832e376f48cca850d9308fde75c4",
       "version_major": 2,
       "version_minor": 0
      },
      "text/plain": [
       "Running Prediction:   0%|          | 0/1 [00:00<?, ?it/s]"
      ]
     },
     "metadata": {},
     "output_type": "display_data"
    },
    {
     "data": {
      "application/vnd.jupyter.widget-view+json": {
       "model_id": "18fcd77a6d5e46b1af9eb274cea7d220",
       "version_major": 2,
       "version_minor": 0
      },
      "text/plain": [
       "  0%|          | 0/1 [00:00<?, ?it/s]"
      ]
     },
     "metadata": {},
     "output_type": "display_data"
    },
    {
     "data": {
      "application/vnd.jupyter.widget-view+json": {
       "model_id": "b4ab88e5f09e42d3bffe9fde59a2b54c",
       "version_major": 2,
       "version_minor": 0
      },
      "text/plain": [
       "Running Prediction:   0%|          | 0/1 [00:00<?, ?it/s]"
      ]
     },
     "metadata": {},
     "output_type": "display_data"
    },
    {
     "data": {
      "application/vnd.jupyter.widget-view+json": {
       "model_id": "8ec4feadf3e44b969167590c538efcfa",
       "version_major": 2,
       "version_minor": 0
      },
      "text/plain": [
       "  0%|          | 0/1 [00:00<?, ?it/s]"
      ]
     },
     "metadata": {},
     "output_type": "display_data"
    },
    {
     "data": {
      "application/vnd.jupyter.widget-view+json": {
       "model_id": "085b16d934e44562a5fc6fdb1137c1d7",
       "version_major": 2,
       "version_minor": 0
      },
      "text/plain": [
       "Running Prediction:   0%|          | 0/1 [00:00<?, ?it/s]"
      ]
     },
     "metadata": {},
     "output_type": "display_data"
    },
    {
     "data": {
      "application/vnd.jupyter.widget-view+json": {
       "model_id": "3802349d945244f8998e318b263a04dc",
       "version_major": 2,
       "version_minor": 0
      },
      "text/plain": [
       "  0%|          | 0/1 [00:00<?, ?it/s]"
      ]
     },
     "metadata": {},
     "output_type": "display_data"
    },
    {
     "data": {
      "application/vnd.jupyter.widget-view+json": {
       "model_id": "dbf826269ae44e06a654599f8c610965",
       "version_major": 2,
       "version_minor": 0
      },
      "text/plain": [
       "Running Prediction:   0%|          | 0/1 [00:00<?, ?it/s]"
      ]
     },
     "metadata": {},
     "output_type": "display_data"
    },
    {
     "data": {
      "application/vnd.jupyter.widget-view+json": {
       "model_id": "8b272cbcca2a483798b274cfaf880892",
       "version_major": 2,
       "version_minor": 0
      },
      "text/plain": [
       "  0%|          | 0/1 [00:00<?, ?it/s]"
      ]
     },
     "metadata": {},
     "output_type": "display_data"
    },
    {
     "data": {
      "application/vnd.jupyter.widget-view+json": {
       "model_id": "67c1f8adb2634481b1a247ee27563f14",
       "version_major": 2,
       "version_minor": 0
      },
      "text/plain": [
       "Running Prediction:   0%|          | 0/1 [00:00<?, ?it/s]"
      ]
     },
     "metadata": {},
     "output_type": "display_data"
    },
    {
     "data": {
      "application/vnd.jupyter.widget-view+json": {
       "model_id": "9b85125a43d244e3aac2f52c5af5c4bb",
       "version_major": 2,
       "version_minor": 0
      },
      "text/plain": [
       "  0%|          | 0/1 [00:00<?, ?it/s]"
      ]
     },
     "metadata": {},
     "output_type": "display_data"
    },
    {
     "data": {
      "application/vnd.jupyter.widget-view+json": {
       "model_id": "a14049248e2d41e5b081f3aa541adc1f",
       "version_major": 2,
       "version_minor": 0
      },
      "text/plain": [
       "Running Prediction:   0%|          | 0/1 [00:00<?, ?it/s]"
      ]
     },
     "metadata": {},
     "output_type": "display_data"
    },
    {
     "data": {
      "application/vnd.jupyter.widget-view+json": {
       "model_id": "ca727c4b55fd44889190714811f20535",
       "version_major": 2,
       "version_minor": 0
      },
      "text/plain": [
       "  0%|          | 0/1 [00:00<?, ?it/s]"
      ]
     },
     "metadata": {},
     "output_type": "display_data"
    },
    {
     "data": {
      "application/vnd.jupyter.widget-view+json": {
       "model_id": "eeb8c9f7034a471990c4144f5232e445",
       "version_major": 2,
       "version_minor": 0
      },
      "text/plain": [
       "Running Prediction:   0%|          | 0/1 [00:00<?, ?it/s]"
      ]
     },
     "metadata": {},
     "output_type": "display_data"
    },
    {
     "data": {
      "application/vnd.jupyter.widget-view+json": {
       "model_id": "b62ce717b3c345be90f4551552736115",
       "version_major": 2,
       "version_minor": 0
      },
      "text/plain": [
       "  0%|          | 0/1 [00:00<?, ?it/s]"
      ]
     },
     "metadata": {},
     "output_type": "display_data"
    },
    {
     "data": {
      "application/vnd.jupyter.widget-view+json": {
       "model_id": "c5e4bf6d199448d3b99522f42365a87a",
       "version_major": 2,
       "version_minor": 0
      },
      "text/plain": [
       "Running Prediction:   0%|          | 0/1 [00:00<?, ?it/s]"
      ]
     },
     "metadata": {},
     "output_type": "display_data"
    },
    {
     "data": {
      "application/vnd.jupyter.widget-view+json": {
       "model_id": "f136447539eb43cd86fc922d9b2f7828",
       "version_major": 2,
       "version_minor": 0
      },
      "text/plain": [
       "  0%|          | 0/1 [00:00<?, ?it/s]"
      ]
     },
     "metadata": {},
     "output_type": "display_data"
    },
    {
     "data": {
      "application/vnd.jupyter.widget-view+json": {
       "model_id": "bf0de71cd35a433aa772de92ef706bd4",
       "version_major": 2,
       "version_minor": 0
      },
      "text/plain": [
       "Running Prediction:   0%|          | 0/1 [00:00<?, ?it/s]"
      ]
     },
     "metadata": {},
     "output_type": "display_data"
    },
    {
     "data": {
      "application/vnd.jupyter.widget-view+json": {
       "model_id": "133d7b3bc413403ba0a28a09f9a1978a",
       "version_major": 2,
       "version_minor": 0
      },
      "text/plain": [
       "  0%|          | 0/1 [00:00<?, ?it/s]"
      ]
     },
     "metadata": {},
     "output_type": "display_data"
    },
    {
     "data": {
      "application/vnd.jupyter.widget-view+json": {
       "model_id": "ef70f062ca8b473388d48685a749859b",
       "version_major": 2,
       "version_minor": 0
      },
      "text/plain": [
       "Running Prediction:   0%|          | 0/1 [00:00<?, ?it/s]"
      ]
     },
     "metadata": {},
     "output_type": "display_data"
    },
    {
     "data": {
      "application/vnd.jupyter.widget-view+json": {
       "model_id": "bd5f52f02fb0404cb2d7316c9c821cad",
       "version_major": 2,
       "version_minor": 0
      },
      "text/plain": [
       "  0%|          | 0/1 [00:00<?, ?it/s]"
      ]
     },
     "metadata": {},
     "output_type": "display_data"
    },
    {
     "data": {
      "application/vnd.jupyter.widget-view+json": {
       "model_id": "8498a5323e3d47b2a7a733cbff4a1a9f",
       "version_major": 2,
       "version_minor": 0
      },
      "text/plain": [
       "Running Prediction:   0%|          | 0/1 [00:00<?, ?it/s]"
      ]
     },
     "metadata": {},
     "output_type": "display_data"
    },
    {
     "data": {
      "application/vnd.jupyter.widget-view+json": {
       "model_id": "091b838741894739a74998106bb2d89e",
       "version_major": 2,
       "version_minor": 0
      },
      "text/plain": [
       "  0%|          | 0/1 [00:00<?, ?it/s]"
      ]
     },
     "metadata": {},
     "output_type": "display_data"
    },
    {
     "data": {
      "application/vnd.jupyter.widget-view+json": {
       "model_id": "d6fa4fff6699419a92a81a340a31d7bc",
       "version_major": 2,
       "version_minor": 0
      },
      "text/plain": [
       "Running Prediction:   0%|          | 0/1 [00:00<?, ?it/s]"
      ]
     },
     "metadata": {},
     "output_type": "display_data"
    },
    {
     "data": {
      "application/vnd.jupyter.widget-view+json": {
       "model_id": "63c96dcdab15487db7c096e0fc147183",
       "version_major": 2,
       "version_minor": 0
      },
      "text/plain": [
       "  0%|          | 0/1 [00:00<?, ?it/s]"
      ]
     },
     "metadata": {},
     "output_type": "display_data"
    },
    {
     "data": {
      "application/vnd.jupyter.widget-view+json": {
       "model_id": "abf92ff63c954f328c4d0895bba21504",
       "version_major": 2,
       "version_minor": 0
      },
      "text/plain": [
       "Running Prediction:   0%|          | 0/1 [00:00<?, ?it/s]"
      ]
     },
     "metadata": {},
     "output_type": "display_data"
    },
    {
     "data": {
      "application/vnd.jupyter.widget-view+json": {
       "model_id": "ef4c1d537176483e80a2fe91bc94e557",
       "version_major": 2,
       "version_minor": 0
      },
      "text/plain": [
       "  0%|          | 0/1 [00:00<?, ?it/s]"
      ]
     },
     "metadata": {},
     "output_type": "display_data"
    },
    {
     "data": {
      "application/vnd.jupyter.widget-view+json": {
       "model_id": "e854e39485cf457d833369140464d0cc",
       "version_major": 2,
       "version_minor": 0
      },
      "text/plain": [
       "Running Prediction:   0%|          | 0/1 [00:00<?, ?it/s]"
      ]
     },
     "metadata": {},
     "output_type": "display_data"
    },
    {
     "data": {
      "application/vnd.jupyter.widget-view+json": {
       "model_id": "dd54833977154606bf162337d573ef13",
       "version_major": 2,
       "version_minor": 0
      },
      "text/plain": [
       "  0%|          | 0/1 [00:00<?, ?it/s]"
      ]
     },
     "metadata": {},
     "output_type": "display_data"
    },
    {
     "data": {
      "application/vnd.jupyter.widget-view+json": {
       "model_id": "c9a71b9478aa47ffb0d9e7cbb3542a88",
       "version_major": 2,
       "version_minor": 0
      },
      "text/plain": [
       "Running Prediction:   0%|          | 0/1 [00:00<?, ?it/s]"
      ]
     },
     "metadata": {},
     "output_type": "display_data"
    },
    {
     "data": {
      "application/vnd.jupyter.widget-view+json": {
       "model_id": "a6a6962864af460594d2b5688d6ebd4f",
       "version_major": 2,
       "version_minor": 0
      },
      "text/plain": [
       "  0%|          | 0/1 [00:00<?, ?it/s]"
      ]
     },
     "metadata": {},
     "output_type": "display_data"
    },
    {
     "data": {
      "application/vnd.jupyter.widget-view+json": {
       "model_id": "98c071edea4345c8998d8286900efb5c",
       "version_major": 2,
       "version_minor": 0
      },
      "text/plain": [
       "Running Prediction:   0%|          | 0/1 [00:00<?, ?it/s]"
      ]
     },
     "metadata": {},
     "output_type": "display_data"
    },
    {
     "data": {
      "application/vnd.jupyter.widget-view+json": {
       "model_id": "d67139e4f0af4bbc8424c7fcbe7716f6",
       "version_major": 2,
       "version_minor": 0
      },
      "text/plain": [
       "  0%|          | 0/1 [00:00<?, ?it/s]"
      ]
     },
     "metadata": {},
     "output_type": "display_data"
    },
    {
     "data": {
      "application/vnd.jupyter.widget-view+json": {
       "model_id": "5d1998da7a0b4274835aeb7b763e8206",
       "version_major": 2,
       "version_minor": 0
      },
      "text/plain": [
       "Running Prediction:   0%|          | 0/1 [00:00<?, ?it/s]"
      ]
     },
     "metadata": {},
     "output_type": "display_data"
    },
    {
     "data": {
      "application/vnd.jupyter.widget-view+json": {
       "model_id": "aac8c8634766415f9d70a338a9a87934",
       "version_major": 2,
       "version_minor": 0
      },
      "text/plain": [
       "  0%|          | 0/1 [00:00<?, ?it/s]"
      ]
     },
     "metadata": {},
     "output_type": "display_data"
    },
    {
     "data": {
      "application/vnd.jupyter.widget-view+json": {
       "model_id": "43c1cc84a7944597b5ab9517c56c51a7",
       "version_major": 2,
       "version_minor": 0
      },
      "text/plain": [
       "Running Prediction:   0%|          | 0/1 [00:00<?, ?it/s]"
      ]
     },
     "metadata": {},
     "output_type": "display_data"
    },
    {
     "data": {
      "application/vnd.jupyter.widget-view+json": {
       "model_id": "cc2d11a0a7d1498caafbde0f972b3bcb",
       "version_major": 2,
       "version_minor": 0
      },
      "text/plain": [
       "  0%|          | 0/1 [00:00<?, ?it/s]"
      ]
     },
     "metadata": {},
     "output_type": "display_data"
    },
    {
     "data": {
      "application/vnd.jupyter.widget-view+json": {
       "model_id": "95d89d1512cf47229d97a09decd988be",
       "version_major": 2,
       "version_minor": 0
      },
      "text/plain": [
       "Running Prediction:   0%|          | 0/1 [00:00<?, ?it/s]"
      ]
     },
     "metadata": {},
     "output_type": "display_data"
    },
    {
     "data": {
      "application/vnd.jupyter.widget-view+json": {
       "model_id": "abad3758d64f4777b21f5a3b7993d4c0",
       "version_major": 2,
       "version_minor": 0
      },
      "text/plain": [
       "  0%|          | 0/1 [00:00<?, ?it/s]"
      ]
     },
     "metadata": {},
     "output_type": "display_data"
    },
    {
     "data": {
      "application/vnd.jupyter.widget-view+json": {
       "model_id": "c30ace2d5e504da499a3ad9117ca14f6",
       "version_major": 2,
       "version_minor": 0
      },
      "text/plain": [
       "Running Prediction:   0%|          | 0/1 [00:00<?, ?it/s]"
      ]
     },
     "metadata": {},
     "output_type": "display_data"
    },
    {
     "data": {
      "application/vnd.jupyter.widget-view+json": {
       "model_id": "edeec0735ee344b8a4be5249c9d7bc07",
       "version_major": 2,
       "version_minor": 0
      },
      "text/plain": [
       "  0%|          | 0/1 [00:00<?, ?it/s]"
      ]
     },
     "metadata": {},
     "output_type": "display_data"
    },
    {
     "data": {
      "application/vnd.jupyter.widget-view+json": {
       "model_id": "bc707d558dc54e02bca4f805a4180e46",
       "version_major": 2,
       "version_minor": 0
      },
      "text/plain": [
       "Running Prediction:   0%|          | 0/1 [00:00<?, ?it/s]"
      ]
     },
     "metadata": {},
     "output_type": "display_data"
    },
    {
     "data": {
      "application/vnd.jupyter.widget-view+json": {
       "model_id": "b13451ac20ad4ee7afff8f83da3c6aac",
       "version_major": 2,
       "version_minor": 0
      },
      "text/plain": [
       "  0%|          | 0/1 [00:00<?, ?it/s]"
      ]
     },
     "metadata": {},
     "output_type": "display_data"
    },
    {
     "data": {
      "application/vnd.jupyter.widget-view+json": {
       "model_id": "ccc9adc086f340b89fa43f29f9136b8f",
       "version_major": 2,
       "version_minor": 0
      },
      "text/plain": [
       "Running Prediction:   0%|          | 0/1 [00:00<?, ?it/s]"
      ]
     },
     "metadata": {},
     "output_type": "display_data"
    },
    {
     "data": {
      "application/vnd.jupyter.widget-view+json": {
       "model_id": "5279a28923054faf8cf94ac01c235efb",
       "version_major": 2,
       "version_minor": 0
      },
      "text/plain": [
       "  0%|          | 0/1 [00:00<?, ?it/s]"
      ]
     },
     "metadata": {},
     "output_type": "display_data"
    },
    {
     "data": {
      "application/vnd.jupyter.widget-view+json": {
       "model_id": "3409bcf779cb4ab39e6134ff67b51f69",
       "version_major": 2,
       "version_minor": 0
      },
      "text/plain": [
       "Running Prediction:   0%|          | 0/1 [00:00<?, ?it/s]"
      ]
     },
     "metadata": {},
     "output_type": "display_data"
    },
    {
     "data": {
      "application/vnd.jupyter.widget-view+json": {
       "model_id": "053fda356c4c47dfb756b7ac1b803848",
       "version_major": 2,
       "version_minor": 0
      },
      "text/plain": [
       "  0%|          | 0/1 [00:00<?, ?it/s]"
      ]
     },
     "metadata": {},
     "output_type": "display_data"
    },
    {
     "data": {
      "application/vnd.jupyter.widget-view+json": {
       "model_id": "a935910a7f1b4827be941522293f9223",
       "version_major": 2,
       "version_minor": 0
      },
      "text/plain": [
       "Running Prediction:   0%|          | 0/1 [00:00<?, ?it/s]"
      ]
     },
     "metadata": {},
     "output_type": "display_data"
    },
    {
     "data": {
      "application/vnd.jupyter.widget-view+json": {
       "model_id": "6a209651b6964aa7a50d468073cfea1c",
       "version_major": 2,
       "version_minor": 0
      },
      "text/plain": [
       "  0%|          | 0/1 [00:00<?, ?it/s]"
      ]
     },
     "metadata": {},
     "output_type": "display_data"
    },
    {
     "data": {
      "application/vnd.jupyter.widget-view+json": {
       "model_id": "0203c9338587442ca18c63338afd424a",
       "version_major": 2,
       "version_minor": 0
      },
      "text/plain": [
       "Running Prediction:   0%|          | 0/1 [00:00<?, ?it/s]"
      ]
     },
     "metadata": {},
     "output_type": "display_data"
    },
    {
     "data": {
      "application/vnd.jupyter.widget-view+json": {
       "model_id": "a353c41c9c63411cbaf3998fcaf75e7a",
       "version_major": 2,
       "version_minor": 0
      },
      "text/plain": [
       "  0%|          | 0/1 [00:00<?, ?it/s]"
      ]
     },
     "metadata": {},
     "output_type": "display_data"
    },
    {
     "data": {
      "application/vnd.jupyter.widget-view+json": {
       "model_id": "761e4a3a831449afa8ceb54cb5ec6a1e",
       "version_major": 2,
       "version_minor": 0
      },
      "text/plain": [
       "Running Prediction:   0%|          | 0/1 [00:00<?, ?it/s]"
      ]
     },
     "metadata": {},
     "output_type": "display_data"
    },
    {
     "data": {
      "application/vnd.jupyter.widget-view+json": {
       "model_id": "f9222fff5193446d90a98f17af02bb3a",
       "version_major": 2,
       "version_minor": 0
      },
      "text/plain": [
       "  0%|          | 0/1 [00:00<?, ?it/s]"
      ]
     },
     "metadata": {},
     "output_type": "display_data"
    },
    {
     "data": {
      "application/vnd.jupyter.widget-view+json": {
       "model_id": "a49f3dd9b4d043cfb81de8dd1185d0a2",
       "version_major": 2,
       "version_minor": 0
      },
      "text/plain": [
       "Running Prediction:   0%|          | 0/1 [00:00<?, ?it/s]"
      ]
     },
     "metadata": {},
     "output_type": "display_data"
    },
    {
     "data": {
      "application/vnd.jupyter.widget-view+json": {
       "model_id": "39c2a5e68589468eae9a50d7fbac56f2",
       "version_major": 2,
       "version_minor": 0
      },
      "text/plain": [
       "  0%|          | 0/1 [00:00<?, ?it/s]"
      ]
     },
     "metadata": {},
     "output_type": "display_data"
    },
    {
     "data": {
      "application/vnd.jupyter.widget-view+json": {
       "model_id": "c78fb086c7d84aa187a31bdf3c76b836",
       "version_major": 2,
       "version_minor": 0
      },
      "text/plain": [
       "Running Prediction:   0%|          | 0/1 [00:00<?, ?it/s]"
      ]
     },
     "metadata": {},
     "output_type": "display_data"
    },
    {
     "data": {
      "application/vnd.jupyter.widget-view+json": {
       "model_id": "4c9bfb359ace448a84436199abfeedf0",
       "version_major": 2,
       "version_minor": 0
      },
      "text/plain": [
       "  0%|          | 0/1 [00:00<?, ?it/s]"
      ]
     },
     "metadata": {},
     "output_type": "display_data"
    },
    {
     "data": {
      "application/vnd.jupyter.widget-view+json": {
       "model_id": "629b06dfab924cc5b3c9f2c5a15fdce9",
       "version_major": 2,
       "version_minor": 0
      },
      "text/plain": [
       "Running Prediction:   0%|          | 0/1 [00:00<?, ?it/s]"
      ]
     },
     "metadata": {},
     "output_type": "display_data"
    },
    {
     "data": {
      "application/vnd.jupyter.widget-view+json": {
       "model_id": "ba8e17b99b804a5eb75ec6710c487984",
       "version_major": 2,
       "version_minor": 0
      },
      "text/plain": [
       "  0%|          | 0/1 [00:00<?, ?it/s]"
      ]
     },
     "metadata": {},
     "output_type": "display_data"
    },
    {
     "data": {
      "application/vnd.jupyter.widget-view+json": {
       "model_id": "98f4db4ff6b74e0788d428fd1cc9abca",
       "version_major": 2,
       "version_minor": 0
      },
      "text/plain": [
       "Running Prediction:   0%|          | 0/1 [00:00<?, ?it/s]"
      ]
     },
     "metadata": {},
     "output_type": "display_data"
    },
    {
     "data": {
      "application/vnd.jupyter.widget-view+json": {
       "model_id": "77e67300f7bb49228a14857aa2b0504b",
       "version_major": 2,
       "version_minor": 0
      },
      "text/plain": [
       "  0%|          | 0/1 [00:00<?, ?it/s]"
      ]
     },
     "metadata": {},
     "output_type": "display_data"
    },
    {
     "data": {
      "application/vnd.jupyter.widget-view+json": {
       "model_id": "99b38626b99b40768a50fa2b9139e9cb",
       "version_major": 2,
       "version_minor": 0
      },
      "text/plain": [
       "Running Prediction:   0%|          | 0/1 [00:00<?, ?it/s]"
      ]
     },
     "metadata": {},
     "output_type": "display_data"
    },
    {
     "data": {
      "application/vnd.jupyter.widget-view+json": {
       "model_id": "f0619d06af524ca785435c36dcc763bd",
       "version_major": 2,
       "version_minor": 0
      },
      "text/plain": [
       "  0%|          | 0/1 [00:00<?, ?it/s]"
      ]
     },
     "metadata": {},
     "output_type": "display_data"
    },
    {
     "data": {
      "application/vnd.jupyter.widget-view+json": {
       "model_id": "263d6bb2334349798222d619e5015f38",
       "version_major": 2,
       "version_minor": 0
      },
      "text/plain": [
       "Running Prediction:   0%|          | 0/1 [00:00<?, ?it/s]"
      ]
     },
     "metadata": {},
     "output_type": "display_data"
    },
    {
     "data": {
      "application/vnd.jupyter.widget-view+json": {
       "model_id": "103b9faee5a949bbab97ed0a5b860585",
       "version_major": 2,
       "version_minor": 0
      },
      "text/plain": [
       "  0%|          | 0/1 [00:00<?, ?it/s]"
      ]
     },
     "metadata": {},
     "output_type": "display_data"
    },
    {
     "data": {
      "application/vnd.jupyter.widget-view+json": {
       "model_id": "a2a24d0642334eaeb17381b120e1afa4",
       "version_major": 2,
       "version_minor": 0
      },
      "text/plain": [
       "Running Prediction:   0%|          | 0/1 [00:00<?, ?it/s]"
      ]
     },
     "metadata": {},
     "output_type": "display_data"
    },
    {
     "data": {
      "application/vnd.jupyter.widget-view+json": {
       "model_id": "dc564ee951034921b66bb0b09bcbc328",
       "version_major": 2,
       "version_minor": 0
      },
      "text/plain": [
       "  0%|          | 0/1 [00:00<?, ?it/s]"
      ]
     },
     "metadata": {},
     "output_type": "display_data"
    },
    {
     "data": {
      "application/vnd.jupyter.widget-view+json": {
       "model_id": "73e9b08a22cf4b9499c88245c4ce9b49",
       "version_major": 2,
       "version_minor": 0
      },
      "text/plain": [
       "Running Prediction:   0%|          | 0/1 [00:00<?, ?it/s]"
      ]
     },
     "metadata": {},
     "output_type": "display_data"
    },
    {
     "data": {
      "application/vnd.jupyter.widget-view+json": {
       "model_id": "464667a3e35e4cceb1bd901cce4d359a",
       "version_major": 2,
       "version_minor": 0
      },
      "text/plain": [
       "  0%|          | 0/1 [00:00<?, ?it/s]"
      ]
     },
     "metadata": {},
     "output_type": "display_data"
    },
    {
     "data": {
      "application/vnd.jupyter.widget-view+json": {
       "model_id": "78d2ac459e304edf804eacfc2fbe99a2",
       "version_major": 2,
       "version_minor": 0
      },
      "text/plain": [
       "Running Prediction:   0%|          | 0/1 [00:00<?, ?it/s]"
      ]
     },
     "metadata": {},
     "output_type": "display_data"
    },
    {
     "data": {
      "application/vnd.jupyter.widget-view+json": {
       "model_id": "585cbc0c94814c57b7037259280b67e2",
       "version_major": 2,
       "version_minor": 0
      },
      "text/plain": [
       "  0%|          | 0/1 [00:00<?, ?it/s]"
      ]
     },
     "metadata": {},
     "output_type": "display_data"
    },
    {
     "data": {
      "application/vnd.jupyter.widget-view+json": {
       "model_id": "f178c1d3025547a0bab0d61d798c19e1",
       "version_major": 2,
       "version_minor": 0
      },
      "text/plain": [
       "Running Prediction:   0%|          | 0/1 [00:00<?, ?it/s]"
      ]
     },
     "metadata": {},
     "output_type": "display_data"
    },
    {
     "data": {
      "application/vnd.jupyter.widget-view+json": {
       "model_id": "b96573c29e2243fcb6af8798d9aabc6a",
       "version_major": 2,
       "version_minor": 0
      },
      "text/plain": [
       "  0%|          | 0/1 [00:00<?, ?it/s]"
      ]
     },
     "metadata": {},
     "output_type": "display_data"
    },
    {
     "data": {
      "application/vnd.jupyter.widget-view+json": {
       "model_id": "7fda63e2d14f451b93397bf5165e47b6",
       "version_major": 2,
       "version_minor": 0
      },
      "text/plain": [
       "Running Prediction:   0%|          | 0/1 [00:00<?, ?it/s]"
      ]
     },
     "metadata": {},
     "output_type": "display_data"
    },
    {
     "data": {
      "application/vnd.jupyter.widget-view+json": {
       "model_id": "4e598b402cf344f9983c918a8cc68b16",
       "version_major": 2,
       "version_minor": 0
      },
      "text/plain": [
       "  0%|          | 0/1 [00:00<?, ?it/s]"
      ]
     },
     "metadata": {},
     "output_type": "display_data"
    },
    {
     "data": {
      "application/vnd.jupyter.widget-view+json": {
       "model_id": "1e9e864fc47e4909a6f87092cc056df2",
       "version_major": 2,
       "version_minor": 0
      },
      "text/plain": [
       "Running Prediction:   0%|          | 0/1 [00:00<?, ?it/s]"
      ]
     },
     "metadata": {},
     "output_type": "display_data"
    },
    {
     "data": {
      "application/vnd.jupyter.widget-view+json": {
       "model_id": "8e8c190c679b4a38ae1ed4a32eabac88",
       "version_major": 2,
       "version_minor": 0
      },
      "text/plain": [
       "  0%|          | 0/1 [00:00<?, ?it/s]"
      ]
     },
     "metadata": {},
     "output_type": "display_data"
    },
    {
     "data": {
      "application/vnd.jupyter.widget-view+json": {
       "model_id": "ba5449b307424b4e9ad0fe684eac46ce",
       "version_major": 2,
       "version_minor": 0
      },
      "text/plain": [
       "Running Prediction:   0%|          | 0/1 [00:00<?, ?it/s]"
      ]
     },
     "metadata": {},
     "output_type": "display_data"
    },
    {
     "data": {
      "application/vnd.jupyter.widget-view+json": {
       "model_id": "ca661d63a864463e8571f8dfc12f5e6d",
       "version_major": 2,
       "version_minor": 0
      },
      "text/plain": [
       "  0%|          | 0/1 [00:00<?, ?it/s]"
      ]
     },
     "metadata": {},
     "output_type": "display_data"
    },
    {
     "data": {
      "application/vnd.jupyter.widget-view+json": {
       "model_id": "6c1fbae34ed9461295b12e19df414fb5",
       "version_major": 2,
       "version_minor": 0
      },
      "text/plain": [
       "Running Prediction:   0%|          | 0/1 [00:00<?, ?it/s]"
      ]
     },
     "metadata": {},
     "output_type": "display_data"
    },
    {
     "data": {
      "application/vnd.jupyter.widget-view+json": {
       "model_id": "b61bca9b77ac4574869bbb9b3ab3e015",
       "version_major": 2,
       "version_minor": 0
      },
      "text/plain": [
       "  0%|          | 0/1 [00:00<?, ?it/s]"
      ]
     },
     "metadata": {},
     "output_type": "display_data"
    },
    {
     "data": {
      "application/vnd.jupyter.widget-view+json": {
       "model_id": "800a313ed02546eab9edbd0214f43982",
       "version_major": 2,
       "version_minor": 0
      },
      "text/plain": [
       "Running Prediction:   0%|          | 0/1 [00:00<?, ?it/s]"
      ]
     },
     "metadata": {},
     "output_type": "display_data"
    },
    {
     "data": {
      "application/vnd.jupyter.widget-view+json": {
       "model_id": "4f6512ac71e6483da1b66535b1046204",
       "version_major": 2,
       "version_minor": 0
      },
      "text/plain": [
       "  0%|          | 0/1 [00:00<?, ?it/s]"
      ]
     },
     "metadata": {},
     "output_type": "display_data"
    },
    {
     "data": {
      "application/vnd.jupyter.widget-view+json": {
       "model_id": "e9ee5b3e597142d596f202dc48e9cfb8",
       "version_major": 2,
       "version_minor": 0
      },
      "text/plain": [
       "Running Prediction:   0%|          | 0/1 [00:00<?, ?it/s]"
      ]
     },
     "metadata": {},
     "output_type": "display_data"
    },
    {
     "data": {
      "application/vnd.jupyter.widget-view+json": {
       "model_id": "f9c6fb2fe55e4e0595abdb54657e73e5",
       "version_major": 2,
       "version_minor": 0
      },
      "text/plain": [
       "  0%|          | 0/1 [00:00<?, ?it/s]"
      ]
     },
     "metadata": {},
     "output_type": "display_data"
    },
    {
     "data": {
      "application/vnd.jupyter.widget-view+json": {
       "model_id": "06d3396f0cfd4994bb6bce1694525257",
       "version_major": 2,
       "version_minor": 0
      },
      "text/plain": [
       "Running Prediction:   0%|          | 0/1 [00:00<?, ?it/s]"
      ]
     },
     "metadata": {},
     "output_type": "display_data"
    },
    {
     "data": {
      "application/vnd.jupyter.widget-view+json": {
       "model_id": "a5869aa8de9e4a2f8ae5caa5ff357b7b",
       "version_major": 2,
       "version_minor": 0
      },
      "text/plain": [
       "  0%|          | 0/1 [00:00<?, ?it/s]"
      ]
     },
     "metadata": {},
     "output_type": "display_data"
    },
    {
     "data": {
      "application/vnd.jupyter.widget-view+json": {
       "model_id": "da422b4dcca64525bd97474df885f3ef",
       "version_major": 2,
       "version_minor": 0
      },
      "text/plain": [
       "Running Prediction:   0%|          | 0/1 [00:00<?, ?it/s]"
      ]
     },
     "metadata": {},
     "output_type": "display_data"
    },
    {
     "data": {
      "application/vnd.jupyter.widget-view+json": {
       "model_id": "f4ca0b032d99466cacc1d6929cd4dc9c",
       "version_major": 2,
       "version_minor": 0
      },
      "text/plain": [
       "  0%|          | 0/1 [00:00<?, ?it/s]"
      ]
     },
     "metadata": {},
     "output_type": "display_data"
    },
    {
     "data": {
      "application/vnd.jupyter.widget-view+json": {
       "model_id": "a769771f322a46fe841eabaab4abe0fb",
       "version_major": 2,
       "version_minor": 0
      },
      "text/plain": [
       "Running Prediction:   0%|          | 0/1 [00:00<?, ?it/s]"
      ]
     },
     "metadata": {},
     "output_type": "display_data"
    },
    {
     "data": {
      "application/vnd.jupyter.widget-view+json": {
       "model_id": "f63179c1409442feab4122c0e8a594b9",
       "version_major": 2,
       "version_minor": 0
      },
      "text/plain": [
       "  0%|          | 0/1 [00:00<?, ?it/s]"
      ]
     },
     "metadata": {},
     "output_type": "display_data"
    },
    {
     "data": {
      "application/vnd.jupyter.widget-view+json": {
       "model_id": "5a209cc05ac9468eab87911838e67026",
       "version_major": 2,
       "version_minor": 0
      },
      "text/plain": [
       "Running Prediction:   0%|          | 0/1 [00:00<?, ?it/s]"
      ]
     },
     "metadata": {},
     "output_type": "display_data"
    },
    {
     "data": {
      "application/vnd.jupyter.widget-view+json": {
       "model_id": "9623a0c096384b8c80dbf743d22e4754",
       "version_major": 2,
       "version_minor": 0
      },
      "text/plain": [
       "  0%|          | 0/1 [00:00<?, ?it/s]"
      ]
     },
     "metadata": {},
     "output_type": "display_data"
    },
    {
     "data": {
      "application/vnd.jupyter.widget-view+json": {
       "model_id": "947692fecf914e148e7c1310dfb5c9d0",
       "version_major": 2,
       "version_minor": 0
      },
      "text/plain": [
       "Running Prediction:   0%|          | 0/1 [00:00<?, ?it/s]"
      ]
     },
     "metadata": {},
     "output_type": "display_data"
    },
    {
     "data": {
      "application/vnd.jupyter.widget-view+json": {
       "model_id": "8c328c78119446319e2cc154aafdefa9",
       "version_major": 2,
       "version_minor": 0
      },
      "text/plain": [
       "  0%|          | 0/1 [00:00<?, ?it/s]"
      ]
     },
     "metadata": {},
     "output_type": "display_data"
    },
    {
     "data": {
      "application/vnd.jupyter.widget-view+json": {
       "model_id": "11abcaf41a8643ceb1d7599398de7bb3",
       "version_major": 2,
       "version_minor": 0
      },
      "text/plain": [
       "Running Prediction:   0%|          | 0/1 [00:00<?, ?it/s]"
      ]
     },
     "metadata": {},
     "output_type": "display_data"
    },
    {
     "data": {
      "application/vnd.jupyter.widget-view+json": {
       "model_id": "3ad210d0adaa4493843733aa64f72e81",
       "version_major": 2,
       "version_minor": 0
      },
      "text/plain": [
       "  0%|          | 0/1 [00:00<?, ?it/s]"
      ]
     },
     "metadata": {},
     "output_type": "display_data"
    },
    {
     "data": {
      "application/vnd.jupyter.widget-view+json": {
       "model_id": "f669a7fff421455c9d3447c1abbfc21c",
       "version_major": 2,
       "version_minor": 0
      },
      "text/plain": [
       "Running Prediction:   0%|          | 0/1 [00:00<?, ?it/s]"
      ]
     },
     "metadata": {},
     "output_type": "display_data"
    },
    {
     "data": {
      "application/vnd.jupyter.widget-view+json": {
       "model_id": "aefa553106414c869dd9818f6d3a760f",
       "version_major": 2,
       "version_minor": 0
      },
      "text/plain": [
       "  0%|          | 0/1 [00:00<?, ?it/s]"
      ]
     },
     "metadata": {},
     "output_type": "display_data"
    },
    {
     "data": {
      "application/vnd.jupyter.widget-view+json": {
       "model_id": "430f0c5a7f3e474e9a5812a27eef8306",
       "version_major": 2,
       "version_minor": 0
      },
      "text/plain": [
       "Running Prediction:   0%|          | 0/1 [00:00<?, ?it/s]"
      ]
     },
     "metadata": {},
     "output_type": "display_data"
    },
    {
     "data": {
      "application/vnd.jupyter.widget-view+json": {
       "model_id": "9039eab14cd44e3da8f0e2a4e597a94f",
       "version_major": 2,
       "version_minor": 0
      },
      "text/plain": [
       "  0%|          | 0/1 [00:00<?, ?it/s]"
      ]
     },
     "metadata": {},
     "output_type": "display_data"
    },
    {
     "data": {
      "application/vnd.jupyter.widget-view+json": {
       "model_id": "b1606093d0004fe1bc59c4795146dc6c",
       "version_major": 2,
       "version_minor": 0
      },
      "text/plain": [
       "Running Prediction:   0%|          | 0/1 [00:00<?, ?it/s]"
      ]
     },
     "metadata": {},
     "output_type": "display_data"
    },
    {
     "data": {
      "application/vnd.jupyter.widget-view+json": {
       "model_id": "8782ac652da94e3db457f62b10da1288",
       "version_major": 2,
       "version_minor": 0
      },
      "text/plain": [
       "  0%|          | 0/1 [00:00<?, ?it/s]"
      ]
     },
     "metadata": {},
     "output_type": "display_data"
    },
    {
     "data": {
      "application/vnd.jupyter.widget-view+json": {
       "model_id": "6674df8d800b4697b86ced386f8fd5ff",
       "version_major": 2,
       "version_minor": 0
      },
      "text/plain": [
       "Running Prediction:   0%|          | 0/1 [00:00<?, ?it/s]"
      ]
     },
     "metadata": {},
     "output_type": "display_data"
    },
    {
     "data": {
      "application/vnd.jupyter.widget-view+json": {
       "model_id": "67efeb6b46f44ca7bbb538b15c76eac4",
       "version_major": 2,
       "version_minor": 0
      },
      "text/plain": [
       "  0%|          | 0/1 [00:00<?, ?it/s]"
      ]
     },
     "metadata": {},
     "output_type": "display_data"
    },
    {
     "data": {
      "application/vnd.jupyter.widget-view+json": {
       "model_id": "7fe961f19bc440f9ba67af1420713823",
       "version_major": 2,
       "version_minor": 0
      },
      "text/plain": [
       "Running Prediction:   0%|          | 0/1 [00:00<?, ?it/s]"
      ]
     },
     "metadata": {},
     "output_type": "display_data"
    },
    {
     "data": {
      "application/vnd.jupyter.widget-view+json": {
       "model_id": "87982a51f6a542c5a7355621003e3674",
       "version_major": 2,
       "version_minor": 0
      },
      "text/plain": [
       "  0%|          | 0/1 [00:00<?, ?it/s]"
      ]
     },
     "metadata": {},
     "output_type": "display_data"
    },
    {
     "data": {
      "application/vnd.jupyter.widget-view+json": {
       "model_id": "0e833bb3ec314e1fb4dc4ca42323c38f",
       "version_major": 2,
       "version_minor": 0
      },
      "text/plain": [
       "Running Prediction:   0%|          | 0/1 [00:00<?, ?it/s]"
      ]
     },
     "metadata": {},
     "output_type": "display_data"
    },
    {
     "data": {
      "application/vnd.jupyter.widget-view+json": {
       "model_id": "392ba8519cc546d3a08ca5142c8334f2",
       "version_major": 2,
       "version_minor": 0
      },
      "text/plain": [
       "  0%|          | 0/1 [00:00<?, ?it/s]"
      ]
     },
     "metadata": {},
     "output_type": "display_data"
    },
    {
     "data": {
      "application/vnd.jupyter.widget-view+json": {
       "model_id": "6904aae0074441f58a708b3f622b6630",
       "version_major": 2,
       "version_minor": 0
      },
      "text/plain": [
       "Running Prediction:   0%|          | 0/1 [00:00<?, ?it/s]"
      ]
     },
     "metadata": {},
     "output_type": "display_data"
    },
    {
     "data": {
      "application/vnd.jupyter.widget-view+json": {
       "model_id": "b9463b70822842dfb157c4da211fa8c0",
       "version_major": 2,
       "version_minor": 0
      },
      "text/plain": [
       "  0%|          | 0/1 [00:00<?, ?it/s]"
      ]
     },
     "metadata": {},
     "output_type": "display_data"
    },
    {
     "data": {
      "application/vnd.jupyter.widget-view+json": {
       "model_id": "5217878c1dc84238b605b92818f2e3a9",
       "version_major": 2,
       "version_minor": 0
      },
      "text/plain": [
       "Running Prediction:   0%|          | 0/1 [00:00<?, ?it/s]"
      ]
     },
     "metadata": {},
     "output_type": "display_data"
    },
    {
     "data": {
      "application/vnd.jupyter.widget-view+json": {
       "model_id": "12d1a9e15d8f4425939959870dcdae52",
       "version_major": 2,
       "version_minor": 0
      },
      "text/plain": [
       "  0%|          | 0/1 [00:00<?, ?it/s]"
      ]
     },
     "metadata": {},
     "output_type": "display_data"
    },
    {
     "data": {
      "application/vnd.jupyter.widget-view+json": {
       "model_id": "2547a8174fa34c2f8d6f13f1a999e26d",
       "version_major": 2,
       "version_minor": 0
      },
      "text/plain": [
       "Running Prediction:   0%|          | 0/1 [00:00<?, ?it/s]"
      ]
     },
     "metadata": {},
     "output_type": "display_data"
    },
    {
     "data": {
      "application/vnd.jupyter.widget-view+json": {
       "model_id": "58ff5ea70fbe4bd980a63ad9feffa47e",
       "version_major": 2,
       "version_minor": 0
      },
      "text/plain": [
       "  0%|          | 0/1 [00:00<?, ?it/s]"
      ]
     },
     "metadata": {},
     "output_type": "display_data"
    },
    {
     "data": {
      "application/vnd.jupyter.widget-view+json": {
       "model_id": "e56106ef56c74118b4aa839be54f2081",
       "version_major": 2,
       "version_minor": 0
      },
      "text/plain": [
       "Running Prediction:   0%|          | 0/1 [00:00<?, ?it/s]"
      ]
     },
     "metadata": {},
     "output_type": "display_data"
    },
    {
     "data": {
      "application/vnd.jupyter.widget-view+json": {
       "model_id": "46810a6e969c435da8c636ecbf0bcb3a",
       "version_major": 2,
       "version_minor": 0
      },
      "text/plain": [
       "  0%|          | 0/1 [00:00<?, ?it/s]"
      ]
     },
     "metadata": {},
     "output_type": "display_data"
    },
    {
     "data": {
      "application/vnd.jupyter.widget-view+json": {
       "model_id": "67dc923dba604a28b65f261b77583b01",
       "version_major": 2,
       "version_minor": 0
      },
      "text/plain": [
       "Running Prediction:   0%|          | 0/1 [00:00<?, ?it/s]"
      ]
     },
     "metadata": {},
     "output_type": "display_data"
    },
    {
     "data": {
      "application/vnd.jupyter.widget-view+json": {
       "model_id": "23dd7dcc20cf4d379925212b636da28c",
       "version_major": 2,
       "version_minor": 0
      },
      "text/plain": [
       "  0%|          | 0/1 [00:00<?, ?it/s]"
      ]
     },
     "metadata": {},
     "output_type": "display_data"
    },
    {
     "data": {
      "application/vnd.jupyter.widget-view+json": {
       "model_id": "9357c896e6b046e5ad3027c42076b610",
       "version_major": 2,
       "version_minor": 0
      },
      "text/plain": [
       "Running Prediction:   0%|          | 0/1 [00:00<?, ?it/s]"
      ]
     },
     "metadata": {},
     "output_type": "display_data"
    },
    {
     "data": {
      "application/vnd.jupyter.widget-view+json": {
       "model_id": "6ed11a58db2645f887e1f1c3a9ea998b",
       "version_major": 2,
       "version_minor": 0
      },
      "text/plain": [
       "  0%|          | 0/1 [00:00<?, ?it/s]"
      ]
     },
     "metadata": {},
     "output_type": "display_data"
    },
    {
     "data": {
      "application/vnd.jupyter.widget-view+json": {
       "model_id": "435dc7f0f3274bdb9b8dce2097c02fe1",
       "version_major": 2,
       "version_minor": 0
      },
      "text/plain": [
       "Running Prediction:   0%|          | 0/1 [00:00<?, ?it/s]"
      ]
     },
     "metadata": {},
     "output_type": "display_data"
    },
    {
     "data": {
      "application/vnd.jupyter.widget-view+json": {
       "model_id": "b4f08c4ce7d6423f8d1120cd96afc0da",
       "version_major": 2,
       "version_minor": 0
      },
      "text/plain": [
       "  0%|          | 0/1 [00:00<?, ?it/s]"
      ]
     },
     "metadata": {},
     "output_type": "display_data"
    },
    {
     "data": {
      "application/vnd.jupyter.widget-view+json": {
       "model_id": "0f7b166061eb478d8ca8e8bcf904a879",
       "version_major": 2,
       "version_minor": 0
      },
      "text/plain": [
       "Running Prediction:   0%|          | 0/1 [00:00<?, ?it/s]"
      ]
     },
     "metadata": {},
     "output_type": "display_data"
    },
    {
     "data": {
      "application/vnd.jupyter.widget-view+json": {
       "model_id": "8cfdd4bf0ace447fa8a8574e6e9401f9",
       "version_major": 2,
       "version_minor": 0
      },
      "text/plain": [
       "  0%|          | 0/1 [00:00<?, ?it/s]"
      ]
     },
     "metadata": {},
     "output_type": "display_data"
    },
    {
     "data": {
      "application/vnd.jupyter.widget-view+json": {
       "model_id": "26b5b8eecb8d4569885a00542d62497c",
       "version_major": 2,
       "version_minor": 0
      },
      "text/plain": [
       "Running Prediction:   0%|          | 0/1 [00:00<?, ?it/s]"
      ]
     },
     "metadata": {},
     "output_type": "display_data"
    },
    {
     "data": {
      "application/vnd.jupyter.widget-view+json": {
       "model_id": "54d3d08e0b0b4ac3a4fe55fbf0a5b6f5",
       "version_major": 2,
       "version_minor": 0
      },
      "text/plain": [
       "  0%|          | 0/1 [00:00<?, ?it/s]"
      ]
     },
     "metadata": {},
     "output_type": "display_data"
    },
    {
     "data": {
      "application/vnd.jupyter.widget-view+json": {
       "model_id": "fdb9912acdcb4dcc93b32cfd4433f4b5",
       "version_major": 2,
       "version_minor": 0
      },
      "text/plain": [
       "Running Prediction:   0%|          | 0/1 [00:00<?, ?it/s]"
      ]
     },
     "metadata": {},
     "output_type": "display_data"
    },
    {
     "data": {
      "application/vnd.jupyter.widget-view+json": {
       "model_id": "849728229511487eb809797487949981",
       "version_major": 2,
       "version_minor": 0
      },
      "text/plain": [
       "  0%|          | 0/1 [00:00<?, ?it/s]"
      ]
     },
     "metadata": {},
     "output_type": "display_data"
    },
    {
     "data": {
      "application/vnd.jupyter.widget-view+json": {
       "model_id": "8da200d49c1249d198e7716e8173623c",
       "version_major": 2,
       "version_minor": 0
      },
      "text/plain": [
       "Running Prediction:   0%|          | 0/1 [00:00<?, ?it/s]"
      ]
     },
     "metadata": {},
     "output_type": "display_data"
    },
    {
     "data": {
      "application/vnd.jupyter.widget-view+json": {
       "model_id": "df8d974cd34b4f8a9b826e192fba7b48",
       "version_major": 2,
       "version_minor": 0
      },
      "text/plain": [
       "  0%|          | 0/1 [00:00<?, ?it/s]"
      ]
     },
     "metadata": {},
     "output_type": "display_data"
    },
    {
     "data": {
      "application/vnd.jupyter.widget-view+json": {
       "model_id": "f7784ac04a5746608d6080ad39c72be5",
       "version_major": 2,
       "version_minor": 0
      },
      "text/plain": [
       "Running Prediction:   0%|          | 0/1 [00:00<?, ?it/s]"
      ]
     },
     "metadata": {},
     "output_type": "display_data"
    },
    {
     "data": {
      "application/vnd.jupyter.widget-view+json": {
       "model_id": "82d89e94a32f45a593ee3883b51ea389",
       "version_major": 2,
       "version_minor": 0
      },
      "text/plain": [
       "  0%|          | 0/1 [00:00<?, ?it/s]"
      ]
     },
     "metadata": {},
     "output_type": "display_data"
    },
    {
     "data": {
      "application/vnd.jupyter.widget-view+json": {
       "model_id": "6ff8ccf32b184dfe88a3466054597cec",
       "version_major": 2,
       "version_minor": 0
      },
      "text/plain": [
       "Running Prediction:   0%|          | 0/1 [00:00<?, ?it/s]"
      ]
     },
     "metadata": {},
     "output_type": "display_data"
    },
    {
     "data": {
      "application/vnd.jupyter.widget-view+json": {
       "model_id": "e1efaa143487410481e1ccdc08ebfef4",
       "version_major": 2,
       "version_minor": 0
      },
      "text/plain": [
       "  0%|          | 0/1 [00:00<?, ?it/s]"
      ]
     },
     "metadata": {},
     "output_type": "display_data"
    },
    {
     "data": {
      "application/vnd.jupyter.widget-view+json": {
       "model_id": "5314e281839c49beb0e8dc79aa6adfb4",
       "version_major": 2,
       "version_minor": 0
      },
      "text/plain": [
       "Running Prediction:   0%|          | 0/1 [00:00<?, ?it/s]"
      ]
     },
     "metadata": {},
     "output_type": "display_data"
    },
    {
     "data": {
      "application/vnd.jupyter.widget-view+json": {
       "model_id": "06adeac481db47c2b22e68efc36ff9b5",
       "version_major": 2,
       "version_minor": 0
      },
      "text/plain": [
       "  0%|          | 0/1 [00:00<?, ?it/s]"
      ]
     },
     "metadata": {},
     "output_type": "display_data"
    },
    {
     "data": {
      "application/vnd.jupyter.widget-view+json": {
       "model_id": "8e8d545bc66f49f69750f38729eebb34",
       "version_major": 2,
       "version_minor": 0
      },
      "text/plain": [
       "Running Prediction:   0%|          | 0/1 [00:00<?, ?it/s]"
      ]
     },
     "metadata": {},
     "output_type": "display_data"
    },
    {
     "data": {
      "application/vnd.jupyter.widget-view+json": {
       "model_id": "708ddfdabd394fcd8c3cc9bb8b01216c",
       "version_major": 2,
       "version_minor": 0
      },
      "text/plain": [
       "  0%|          | 0/1 [00:00<?, ?it/s]"
      ]
     },
     "metadata": {},
     "output_type": "display_data"
    },
    {
     "data": {
      "application/vnd.jupyter.widget-view+json": {
       "model_id": "d0fe9a68198d4b46b360d9b22296907d",
       "version_major": 2,
       "version_minor": 0
      },
      "text/plain": [
       "Running Prediction:   0%|          | 0/1 [00:00<?, ?it/s]"
      ]
     },
     "metadata": {},
     "output_type": "display_data"
    },
    {
     "data": {
      "application/vnd.jupyter.widget-view+json": {
       "model_id": "4677d584d20944f0b61eeb5652a8a51b",
       "version_major": 2,
       "version_minor": 0
      },
      "text/plain": [
       "  0%|          | 0/1 [00:00<?, ?it/s]"
      ]
     },
     "metadata": {},
     "output_type": "display_data"
    },
    {
     "data": {
      "application/vnd.jupyter.widget-view+json": {
       "model_id": "3bc5ec18f16046bdafa9f2fc9da6d0b0",
       "version_major": 2,
       "version_minor": 0
      },
      "text/plain": [
       "Running Prediction:   0%|          | 0/1 [00:00<?, ?it/s]"
      ]
     },
     "metadata": {},
     "output_type": "display_data"
    },
    {
     "data": {
      "application/vnd.jupyter.widget-view+json": {
       "model_id": "e7ce0e150bd54f9989920cfb695ed17d",
       "version_major": 2,
       "version_minor": 0
      },
      "text/plain": [
       "  0%|          | 0/1 [00:00<?, ?it/s]"
      ]
     },
     "metadata": {},
     "output_type": "display_data"
    },
    {
     "data": {
      "application/vnd.jupyter.widget-view+json": {
       "model_id": "8db2535e3c4f45a7b87e165f71ae4b7d",
       "version_major": 2,
       "version_minor": 0
      },
      "text/plain": [
       "Running Prediction:   0%|          | 0/1 [00:00<?, ?it/s]"
      ]
     },
     "metadata": {},
     "output_type": "display_data"
    },
    {
     "data": {
      "application/vnd.jupyter.widget-view+json": {
       "model_id": "d0cccaf038534126a1e6e2f56d039952",
       "version_major": 2,
       "version_minor": 0
      },
      "text/plain": [
       "  0%|          | 0/1 [00:00<?, ?it/s]"
      ]
     },
     "metadata": {},
     "output_type": "display_data"
    },
    {
     "data": {
      "application/vnd.jupyter.widget-view+json": {
       "model_id": "456b67e1a4974690a6b82553ea310941",
       "version_major": 2,
       "version_minor": 0
      },
      "text/plain": [
       "Running Prediction:   0%|          | 0/1 [00:00<?, ?it/s]"
      ]
     },
     "metadata": {},
     "output_type": "display_data"
    },
    {
     "data": {
      "application/vnd.jupyter.widget-view+json": {
       "model_id": "a5c870c0824947f795686c9a50181e70",
       "version_major": 2,
       "version_minor": 0
      },
      "text/plain": [
       "  0%|          | 0/1 [00:00<?, ?it/s]"
      ]
     },
     "metadata": {},
     "output_type": "display_data"
    },
    {
     "data": {
      "application/vnd.jupyter.widget-view+json": {
       "model_id": "3be68215087a456084344e27cdab20cf",
       "version_major": 2,
       "version_minor": 0
      },
      "text/plain": [
       "Running Prediction:   0%|          | 0/1 [00:00<?, ?it/s]"
      ]
     },
     "metadata": {},
     "output_type": "display_data"
    },
    {
     "data": {
      "application/vnd.jupyter.widget-view+json": {
       "model_id": "ea22f08f9f174be3b7b1aa33e57d154b",
       "version_major": 2,
       "version_minor": 0
      },
      "text/plain": [
       "  0%|          | 0/1 [00:00<?, ?it/s]"
      ]
     },
     "metadata": {},
     "output_type": "display_data"
    },
    {
     "data": {
      "application/vnd.jupyter.widget-view+json": {
       "model_id": "629538f5c9284d228a3a606331fb6599",
       "version_major": 2,
       "version_minor": 0
      },
      "text/plain": [
       "Running Prediction:   0%|          | 0/1 [00:00<?, ?it/s]"
      ]
     },
     "metadata": {},
     "output_type": "display_data"
    },
    {
     "data": {
      "application/vnd.jupyter.widget-view+json": {
       "model_id": "84ff52c1d9bc42dba1eaac82e401ce3a",
       "version_major": 2,
       "version_minor": 0
      },
      "text/plain": [
       "  0%|          | 0/1 [00:00<?, ?it/s]"
      ]
     },
     "metadata": {},
     "output_type": "display_data"
    },
    {
     "data": {
      "application/vnd.jupyter.widget-view+json": {
       "model_id": "d02c5a3982cb4d699236532f75044987",
       "version_major": 2,
       "version_minor": 0
      },
      "text/plain": [
       "Running Prediction:   0%|          | 0/1 [00:00<?, ?it/s]"
      ]
     },
     "metadata": {},
     "output_type": "display_data"
    },
    {
     "data": {
      "application/vnd.jupyter.widget-view+json": {
       "model_id": "4e240c8aee6f47a6ab97d03e008f316e",
       "version_major": 2,
       "version_minor": 0
      },
      "text/plain": [
       "  0%|          | 0/1 [00:00<?, ?it/s]"
      ]
     },
     "metadata": {},
     "output_type": "display_data"
    },
    {
     "data": {
      "application/vnd.jupyter.widget-view+json": {
       "model_id": "672fca2c6d5648d38eebc7c46e38bb9c",
       "version_major": 2,
       "version_minor": 0
      },
      "text/plain": [
       "Running Prediction:   0%|          | 0/1 [00:00<?, ?it/s]"
      ]
     },
     "metadata": {},
     "output_type": "display_data"
    },
    {
     "data": {
      "application/vnd.jupyter.widget-view+json": {
       "model_id": "45e1bfc44b3640f1b927c68a1c9f6c21",
       "version_major": 2,
       "version_minor": 0
      },
      "text/plain": [
       "  0%|          | 0/1 [00:00<?, ?it/s]"
      ]
     },
     "metadata": {},
     "output_type": "display_data"
    },
    {
     "data": {
      "application/vnd.jupyter.widget-view+json": {
       "model_id": "08b41e45e26c4f85ad3d0803f9336bc0",
       "version_major": 2,
       "version_minor": 0
      },
      "text/plain": [
       "Running Prediction:   0%|          | 0/1 [00:00<?, ?it/s]"
      ]
     },
     "metadata": {},
     "output_type": "display_data"
    },
    {
     "data": {
      "application/vnd.jupyter.widget-view+json": {
       "model_id": "c875e5a1ca194d4194481c5df925c258",
       "version_major": 2,
       "version_minor": 0
      },
      "text/plain": [
       "  0%|          | 0/1 [00:00<?, ?it/s]"
      ]
     },
     "metadata": {},
     "output_type": "display_data"
    },
    {
     "data": {
      "application/vnd.jupyter.widget-view+json": {
       "model_id": "8a4d8ecf4a944d3181e5b438e89d3150",
       "version_major": 2,
       "version_minor": 0
      },
      "text/plain": [
       "Running Prediction:   0%|          | 0/1 [00:00<?, ?it/s]"
      ]
     },
     "metadata": {},
     "output_type": "display_data"
    },
    {
     "data": {
      "application/vnd.jupyter.widget-view+json": {
       "model_id": "9c7892e8eb27448488d21be2793b33d1",
       "version_major": 2,
       "version_minor": 0
      },
      "text/plain": [
       "  0%|          | 0/1 [00:00<?, ?it/s]"
      ]
     },
     "metadata": {},
     "output_type": "display_data"
    },
    {
     "data": {
      "application/vnd.jupyter.widget-view+json": {
       "model_id": "e839290b719146efbe06cce5471e8046",
       "version_major": 2,
       "version_minor": 0
      },
      "text/plain": [
       "Running Prediction:   0%|          | 0/1 [00:00<?, ?it/s]"
      ]
     },
     "metadata": {},
     "output_type": "display_data"
    },
    {
     "data": {
      "application/vnd.jupyter.widget-view+json": {
       "model_id": "8667672d97944913831828bfe50410d4",
       "version_major": 2,
       "version_minor": 0
      },
      "text/plain": [
       "  0%|          | 0/1 [00:00<?, ?it/s]"
      ]
     },
     "metadata": {},
     "output_type": "display_data"
    },
    {
     "data": {
      "application/vnd.jupyter.widget-view+json": {
       "model_id": "7d3dee0effc544c49eebc8963730f56e",
       "version_major": 2,
       "version_minor": 0
      },
      "text/plain": [
       "Running Prediction:   0%|          | 0/1 [00:00<?, ?it/s]"
      ]
     },
     "metadata": {},
     "output_type": "display_data"
    },
    {
     "data": {
      "application/vnd.jupyter.widget-view+json": {
       "model_id": "470bca2859b541769a13940fe3d5341e",
       "version_major": 2,
       "version_minor": 0
      },
      "text/plain": [
       "  0%|          | 0/1 [00:00<?, ?it/s]"
      ]
     },
     "metadata": {},
     "output_type": "display_data"
    },
    {
     "data": {
      "application/vnd.jupyter.widget-view+json": {
       "model_id": "94468e52b9564fb7883ab89a5d9f9c8c",
       "version_major": 2,
       "version_minor": 0
      },
      "text/plain": [
       "Running Prediction:   0%|          | 0/1 [00:00<?, ?it/s]"
      ]
     },
     "metadata": {},
     "output_type": "display_data"
    },
    {
     "data": {
      "application/vnd.jupyter.widget-view+json": {
       "model_id": "5f50d8127fb043a7885786efcebb07bd",
       "version_major": 2,
       "version_minor": 0
      },
      "text/plain": [
       "  0%|          | 0/1 [00:00<?, ?it/s]"
      ]
     },
     "metadata": {},
     "output_type": "display_data"
    },
    {
     "data": {
      "application/vnd.jupyter.widget-view+json": {
       "model_id": "418e1461b75445499eb74a85c7a59d0a",
       "version_major": 2,
       "version_minor": 0
      },
      "text/plain": [
       "Running Prediction:   0%|          | 0/1 [00:00<?, ?it/s]"
      ]
     },
     "metadata": {},
     "output_type": "display_data"
    },
    {
     "data": {
      "application/vnd.jupyter.widget-view+json": {
       "model_id": "0f1ce7329c1849e899aaae3a5ef3df2c",
       "version_major": 2,
       "version_minor": 0
      },
      "text/plain": [
       "  0%|          | 0/1 [00:00<?, ?it/s]"
      ]
     },
     "metadata": {},
     "output_type": "display_data"
    },
    {
     "data": {
      "application/vnd.jupyter.widget-view+json": {
       "model_id": "c00aa91256554b3687586f63334c8246",
       "version_major": 2,
       "version_minor": 0
      },
      "text/plain": [
       "Running Prediction:   0%|          | 0/1 [00:00<?, ?it/s]"
      ]
     },
     "metadata": {},
     "output_type": "display_data"
    }
   ],
   "source": [
    "pred_list = []\n",
    "for row in range(0, timeline.shape[0]):\n",
    "    message = timeline.iloc[row,1]\n",
    "    [entities], _ = droner.predict([message])\n",
    "    pred_list.append({'timestamp': string(timeline.iloc[row, 0]), 'entities': entities})"
   ]
  },
  {
   "cell_type": "code",
   "execution_count": 71,
   "id": "4d8ad41a",
   "metadata": {},
   "outputs": [
    {
     "data": {
      "text/plain": [
       "[{'timestamp': Timestamp('2018-06-15 11:07:46'),\n",
       "  'entities': [{'Aircraft': 'O'},\n",
       "   {'is': 'O'},\n",
       "   {'in': 'O'},\n",
       "   {'Attitude': 'O'},\n",
       "   {'mode,': 'O'},\n",
       "   {'so': 'O'},\n",
       "   {'that': 'O'},\n",
       "   {'it': 'O'},\n",
       "   {'will': 'O'},\n",
       "   {'not': 'O'},\n",
       "   {'hover.': 'O'},\n",
       "   {'Please': 'O'},\n",
       "   {'fly': 'O'},\n",
       "   {'with': 'O'},\n",
       "   {'caution.': 'O'}]},\n",
       " {'timestamp': Timestamp('2018-06-15 11:08:00'),\n",
       "  'entities': [{'Aircraft': 'O'},\n",
       "   {'is': 'O'},\n",
       "   {'in': 'O'},\n",
       "   {'Attitude': 'O'},\n",
       "   {'mode,': 'O'},\n",
       "   {'so': 'O'},\n",
       "   {'that': 'O'},\n",
       "   {'it': 'O'},\n",
       "   {'will': 'O'},\n",
       "   {'not': 'O'},\n",
       "   {'hover.': 'O'},\n",
       "   {'Please': 'O'},\n",
       "   {'fly': 'O'},\n",
       "   {'with': 'O'},\n",
       "   {'caution.': 'O'}]},\n",
       " {'timestamp': Timestamp('2018-06-15 11:08:02'),\n",
       "  'entities': [{'Aircraft': 'O'},\n",
       "   {'is': 'O'},\n",
       "   {'in': 'O'},\n",
       "   {'Attitude': 'O'},\n",
       "   {'mode,': 'O'},\n",
       "   {'so': 'O'},\n",
       "   {'that': 'O'},\n",
       "   {'it': 'O'},\n",
       "   {'will': 'O'},\n",
       "   {'not': 'O'},\n",
       "   {'hover.': 'O'},\n",
       "   {'Please': 'O'},\n",
       "   {'fly': 'O'},\n",
       "   {'with': 'O'},\n",
       "   {'caution.': 'O'}]},\n",
       " {'timestamp': Timestamp('2018-06-15 11:08:15'),\n",
       "  'entities': [{'Aircraft': 'O'},\n",
       "   {'is': 'O'},\n",
       "   {'in': 'O'},\n",
       "   {'Attitude': 'O'},\n",
       "   {'mode,': 'O'},\n",
       "   {'so': 'O'},\n",
       "   {'that': 'O'},\n",
       "   {'it': 'O'},\n",
       "   {'will': 'O'},\n",
       "   {'not': 'O'},\n",
       "   {'hover.': 'O'},\n",
       "   {'Please': 'O'},\n",
       "   {'fly': 'O'},\n",
       "   {'with': 'O'},\n",
       "   {'caution.': 'O'}]},\n",
       " {'timestamp': Timestamp('2018-06-15 11:08:19'),\n",
       "  'entities': [{'Cannot': 'O'},\n",
       "   {'Takeoff': 'O'},\n",
       "   {'in': 'O'},\n",
       "   {'Travel': 'B-PARAMETER'},\n",
       "   {'Mode.': 'I-PARAMETER'},\n",
       "   {'Exit': 'B-ACTION'},\n",
       "   {'Travel': 'B-PARAMETER'},\n",
       "   {'Mode.': 'I-STATE'}]},\n",
       " {'timestamp': Timestamp('2018-06-15 11:08:38'),\n",
       "  'entities': [{'Cannot': 'O'},\n",
       "   {'Takeoff': 'O'},\n",
       "   {'in': 'O'},\n",
       "   {'Travel': 'B-PARAMETER'},\n",
       "   {'Mode.': 'I-PARAMETER'},\n",
       "   {'Exit': 'B-ACTION'},\n",
       "   {'Travel': 'B-PARAMETER'},\n",
       "   {'Mode.': 'I-STATE'}]},\n",
       " {'timestamp': Timestamp('2018-06-15 11:08:48'),\n",
       "  'entities': [{'Cannot': 'O'},\n",
       "   {'Takeoff': 'O'},\n",
       "   {'in': 'O'},\n",
       "   {'Travel': 'B-PARAMETER'},\n",
       "   {'Mode.': 'I-PARAMETER'},\n",
       "   {'Exit': 'B-ACTION'},\n",
       "   {'Travel': 'B-PARAMETER'},\n",
       "   {'Mode.': 'I-STATE'}]},\n",
       " {'timestamp': Timestamp('2018-06-15 11:09:09'),\n",
       "  'entities': [{'Aircraft': 'O'},\n",
       "   {'is': 'O'},\n",
       "   {'in': 'O'},\n",
       "   {'Attitude': 'O'},\n",
       "   {'mode,': 'O'},\n",
       "   {'so': 'O'},\n",
       "   {'that': 'O'},\n",
       "   {'it': 'O'},\n",
       "   {'will': 'O'},\n",
       "   {'not': 'O'},\n",
       "   {'hover.': 'O'},\n",
       "   {'Please': 'O'},\n",
       "   {'fly': 'O'},\n",
       "   {'with': 'O'},\n",
       "   {'caution.': 'O'}]},\n",
       " {'timestamp': Timestamp('2018-06-15 11:09:16'),\n",
       "  'entities': [{'Aircraft': 'O'},\n",
       "   {'is': 'O'},\n",
       "   {'in': 'O'},\n",
       "   {'Attitude': 'O'},\n",
       "   {'mode,': 'O'},\n",
       "   {'so': 'O'},\n",
       "   {'that': 'O'},\n",
       "   {'it': 'O'},\n",
       "   {'will': 'O'},\n",
       "   {'not': 'O'},\n",
       "   {'hover.': 'O'},\n",
       "   {'Please': 'O'},\n",
       "   {'fly': 'O'},\n",
       "   {'with': 'O'},\n",
       "   {'caution.': 'O'}]},\n",
       " {'timestamp': Timestamp('2018-06-15 11:09:18'),\n",
       "  'entities': [{'Aircraft': 'O'},\n",
       "   {'is': 'O'},\n",
       "   {'in': 'O'},\n",
       "   {'Attitude': 'O'},\n",
       "   {'mode,': 'O'},\n",
       "   {'so': 'O'},\n",
       "   {'that': 'O'},\n",
       "   {'it': 'O'},\n",
       "   {'will': 'O'},\n",
       "   {'not': 'O'},\n",
       "   {'hover.': 'O'},\n",
       "   {'Please': 'O'},\n",
       "   {'fly': 'O'},\n",
       "   {'with': 'O'},\n",
       "   {'caution.': 'O'}]},\n",
       " {'timestamp': Timestamp('2018-06-15 11:09:26'),\n",
       "  'entities': [{'Aircraft': 'O'},\n",
       "   {'is': 'O'},\n",
       "   {'in': 'O'},\n",
       "   {'Attitude': 'O'},\n",
       "   {'mode,': 'O'},\n",
       "   {'so': 'O'},\n",
       "   {'that': 'O'},\n",
       "   {'it': 'O'},\n",
       "   {'will': 'O'},\n",
       "   {'not': 'O'},\n",
       "   {'hover.': 'O'},\n",
       "   {'Please': 'O'},\n",
       "   {'fly': 'O'},\n",
       "   {'with': 'O'},\n",
       "   {'caution.': 'O'}]},\n",
       " {'timestamp': Timestamp('2018-06-15 11:09:32'),\n",
       "  'entities': [{'Cannot': 'O'},\n",
       "   {'Takeoff': 'O'},\n",
       "   {'in': 'O'},\n",
       "   {'Travel': 'B-PARAMETER'},\n",
       "   {'Mode.': 'I-PARAMETER'},\n",
       "   {'Exit': 'B-ACTION'},\n",
       "   {'Travel': 'B-PARAMETER'},\n",
       "   {'Mode.': 'I-STATE'}]},\n",
       " {'timestamp': Timestamp('2018-06-15 11:10:09'),\n",
       "  'entities': [{'Aircraft': 'O'},\n",
       "   {'is': 'O'},\n",
       "   {'in': 'O'},\n",
       "   {'Attitude': 'O'},\n",
       "   {'mode,': 'O'},\n",
       "   {'so': 'O'},\n",
       "   {'that': 'O'},\n",
       "   {'it': 'O'},\n",
       "   {'will': 'O'},\n",
       "   {'not': 'O'},\n",
       "   {'hover.': 'O'},\n",
       "   {'Please': 'O'},\n",
       "   {'fly': 'O'},\n",
       "   {'with': 'O'},\n",
       "   {'caution.': 'O'}]},\n",
       " {'timestamp': Timestamp('2018-06-15 11:10:20'),\n",
       "  'entities': [{'Aircraft': 'O'},\n",
       "   {'is': 'O'},\n",
       "   {'in': 'O'},\n",
       "   {'Attitude': 'O'},\n",
       "   {'mode,': 'O'},\n",
       "   {'so': 'O'},\n",
       "   {'that': 'O'},\n",
       "   {'it': 'O'},\n",
       "   {'will': 'O'},\n",
       "   {'not': 'O'},\n",
       "   {'hover.': 'O'},\n",
       "   {'Please': 'O'},\n",
       "   {'fly': 'O'},\n",
       "   {'with': 'O'},\n",
       "   {'caution.': 'O'}]},\n",
       " {'timestamp': Timestamp('2018-06-15 11:11:30'),\n",
       "  'entities': [{'Aircraft': 'O'},\n",
       "   {'is': 'O'},\n",
       "   {'in': 'O'},\n",
       "   {'Attitude': 'O'},\n",
       "   {'mode,': 'O'},\n",
       "   {'so': 'O'},\n",
       "   {'that': 'O'},\n",
       "   {'it': 'O'},\n",
       "   {'will': 'O'},\n",
       "   {'not': 'O'},\n",
       "   {'hover.': 'O'},\n",
       "   {'Please': 'O'},\n",
       "   {'fly': 'O'},\n",
       "   {'with': 'O'},\n",
       "   {'caution.': 'O'}]},\n",
       " {'timestamp': Timestamp('2018-06-15 11:11:54'),\n",
       "  'entities': [{'Cannot': 'O'},\n",
       "   {'Takeoff': 'O'},\n",
       "   {'in': 'O'},\n",
       "   {'Travel': 'B-PARAMETER'},\n",
       "   {'Mode.': 'I-PARAMETER'},\n",
       "   {'Exit': 'B-ACTION'},\n",
       "   {'Travel': 'B-PARAMETER'},\n",
       "   {'Mode.': 'I-STATE'}]},\n",
       " {'timestamp': Timestamp('2018-06-15 11:12:56'),\n",
       "  'entities': [{'Aircraft': 'O'},\n",
       "   {'is': 'O'},\n",
       "   {'in': 'O'},\n",
       "   {'Attitude': 'O'},\n",
       "   {'mode,': 'O'},\n",
       "   {'so': 'O'},\n",
       "   {'that': 'O'},\n",
       "   {'it': 'O'},\n",
       "   {'will': 'O'},\n",
       "   {'not': 'O'},\n",
       "   {'hover.': 'O'},\n",
       "   {'Please': 'O'},\n",
       "   {'fly': 'O'},\n",
       "   {'with': 'O'},\n",
       "   {'caution.': 'O'}]},\n",
       " {'timestamp': Timestamp('2018-06-15 11:14:15'),\n",
       "  'entities': [{'Take': 'O'},\n",
       "   {'off': 'O'},\n",
       "   {'and': 'O'},\n",
       "   {'retry': 'O'},\n",
       "   {'this': 'O'},\n",
       "   {'function.': 'O'}]},\n",
       " {'timestamp': Timestamp('2018-06-15 11:14:20'),\n",
       "  'entities': [{'Cannot': 'O'},\n",
       "   {'Takeoff': 'O'},\n",
       "   {'in': 'O'},\n",
       "   {'Travel': 'B-PARAMETER'},\n",
       "   {'Mode.': 'I-PARAMETER'},\n",
       "   {'Exit': 'B-ACTION'},\n",
       "   {'Travel': 'B-PARAMETER'},\n",
       "   {'Mode.': 'I-STATE'}]},\n",
       " {'timestamp': Timestamp('2018-06-15 11:14:56'),\n",
       "  'entities': [{'Aircraft': 'O'},\n",
       "   {'is': 'O'},\n",
       "   {'in': 'O'},\n",
       "   {'Attitude': 'O'},\n",
       "   {'mode,': 'O'},\n",
       "   {'so': 'O'},\n",
       "   {'that': 'O'},\n",
       "   {'it': 'O'},\n",
       "   {'will': 'O'},\n",
       "   {'not': 'O'},\n",
       "   {'hover.': 'O'},\n",
       "   {'Please': 'O'},\n",
       "   {'fly': 'O'},\n",
       "   {'with': 'O'},\n",
       "   {'caution.': 'O'}]},\n",
       " {'timestamp': Timestamp('2018-06-15 11:14:59'),\n",
       "  'entities': [{'Aircraft': 'O'},\n",
       "   {'is': 'O'},\n",
       "   {'in': 'O'},\n",
       "   {'Attitude': 'O'},\n",
       "   {'mode,': 'O'},\n",
       "   {'so': 'O'},\n",
       "   {'that': 'O'},\n",
       "   {'it': 'O'},\n",
       "   {'will': 'O'},\n",
       "   {'not': 'O'},\n",
       "   {'hover.': 'O'},\n",
       "   {'Please': 'O'},\n",
       "   {'fly': 'O'},\n",
       "   {'with': 'O'},\n",
       "   {'caution.': 'O'}]},\n",
       " {'timestamp': Timestamp('2018-06-15 11:15:12'),\n",
       "  'entities': [{'Take': 'O'},\n",
       "   {'off': 'O'},\n",
       "   {'in': 'O'},\n",
       "   {'P-Mode': 'B-STATE'}]},\n",
       " {'timestamp': Timestamp('2018-06-15 11:15:57'),\n",
       "  'entities': [{'Cannot': 'O'},\n",
       "   {'Takeoff': 'O'},\n",
       "   {'in': 'O'},\n",
       "   {'Travel': 'B-PARAMETER'},\n",
       "   {'Mode.': 'I-PARAMETER'},\n",
       "   {'Exit': 'B-ACTION'},\n",
       "   {'Travel': 'B-PARAMETER'},\n",
       "   {'Mode.': 'I-STATE'}]},\n",
       " {'timestamp': Timestamp('2018-06-15 11:16:38'),\n",
       "  'entities': [{'Landing': 'B-COMPONENT'},\n",
       "   {'Gear': 'I-COMPONENT'},\n",
       "   {'Lowering': 'O'}]},\n",
       " {'timestamp': Timestamp('2018-06-15 11:16:41'),\n",
       "  'entities': [{'Landing': 'B-COMPONENT'},\n",
       "   {'Gear': 'I-COMPONENT'},\n",
       "   {'Lowered': 'O'}]},\n",
       " {'timestamp': Timestamp('2018-06-15 11:16:44'),\n",
       "  'entities': [{'Aircraft': 'O'},\n",
       "   {'is': 'O'},\n",
       "   {'in': 'O'},\n",
       "   {'Attitude': 'O'},\n",
       "   {'mode,': 'O'},\n",
       "   {'so': 'O'},\n",
       "   {'that': 'O'},\n",
       "   {'it': 'O'},\n",
       "   {'will': 'O'},\n",
       "   {'not': 'O'},\n",
       "   {'hover.': 'O'},\n",
       "   {'Please': 'O'},\n",
       "   {'fly': 'O'},\n",
       "   {'with': 'O'},\n",
       "   {'caution.': 'O'}]},\n",
       " {'timestamp': Timestamp('2018-06-15 11:17:46'),\n",
       "  'entities': [{'Return-to-Home': 'B-PARAMETER'},\n",
       "   {'Altitude:65FT': 'I-PARAMETER'}]},\n",
       " {'timestamp': Timestamp('2018-06-15 11:18:23'),\n",
       "  'entities': [{'Landing': 'B-ACTION'}]},\n",
       " {'timestamp': Timestamp('2018-06-15 11:18:40'),\n",
       "  'entities': [{'Take': 'O'},\n",
       "   {'off': 'O'},\n",
       "   {'in': 'O'},\n",
       "   {'P-Mode': 'B-STATE'}]},\n",
       " {'timestamp': Timestamp('2018-06-15 11:19:03'),\n",
       "  'entities': [{'Flight': 'B-PARAMETER'},\n",
       "   {'Mode': 'I-PARAMETER'},\n",
       "   {'Set': 'O'},\n",
       "   {'to': 'O'},\n",
       "   {'Attitude': 'O'}]},\n",
       " {'timestamp': Timestamp('2018-06-15 11:19:03'),\n",
       "  'entities': [{'Set': 'O'},\n",
       "   {'Flight': 'B-PARAMETER'},\n",
       "   {'Mode': 'I-PARAMETER'},\n",
       "   {'to': 'O'},\n",
       "   {'GPS': 'I-STATE'},\n",
       "   {'to': 'O'},\n",
       "   {'fly': 'O'},\n",
       "   {'safe': 'O'}]},\n",
       " {'timestamp': Timestamp('2018-06-15 11:19:32'),\n",
       "  'entities': [{'Aircraft': 'O'},\n",
       "   {'is': 'O'},\n",
       "   {'in': 'O'},\n",
       "   {'Attitude': 'O'},\n",
       "   {'mode,': 'O'},\n",
       "   {'so': 'O'},\n",
       "   {'that': 'O'},\n",
       "   {'it': 'O'},\n",
       "   {'will': 'O'},\n",
       "   {'not': 'O'},\n",
       "   {'hover.': 'O'},\n",
       "   {'Please': 'O'},\n",
       "   {'fly': 'O'},\n",
       "   {'with': 'O'},\n",
       "   {'caution.': 'O'}]},\n",
       " {'timestamp': Timestamp('2018-06-15 11:19:37'),\n",
       "  'entities': [{'Take': 'O'},\n",
       "   {'off': 'O'},\n",
       "   {'and': 'O'},\n",
       "   {'retry': 'O'},\n",
       "   {'this': 'O'},\n",
       "   {'function.': 'O'}]},\n",
       " {'timestamp': Timestamp('2018-06-15 11:19:41'),\n",
       "  'entities': [{'Flight': 'B-PARAMETER'},\n",
       "   {'Mode': 'I-PARAMETER'},\n",
       "   {'Set': 'O'},\n",
       "   {'to': 'O'},\n",
       "   {'Attitude': 'O'}]},\n",
       " {'timestamp': Timestamp('2018-06-15 11:19:41'),\n",
       "  'entities': [{'Set': 'O'},\n",
       "   {'Flight': 'B-PARAMETER'},\n",
       "   {'Mode': 'I-PARAMETER'},\n",
       "   {'to': 'O'},\n",
       "   {'GPS': 'I-STATE'},\n",
       "   {'to': 'O'},\n",
       "   {'fly': 'O'},\n",
       "   {'safe': 'O'}]},\n",
       " {'timestamp': Timestamp('2018-06-15 11:19:44'),\n",
       "  'entities': [{'Take': 'O'},\n",
       "   {'off': 'O'},\n",
       "   {'and': 'O'},\n",
       "   {'retry': 'O'},\n",
       "   {'this': 'O'},\n",
       "   {'function.': 'O'}]},\n",
       " {'timestamp': Timestamp('2018-06-15 11:19:49'),\n",
       "  'entities': [{'Aircraft': 'O'},\n",
       "   {'is': 'O'},\n",
       "   {'in': 'O'},\n",
       "   {'Attitude': 'O'},\n",
       "   {'mode,': 'O'},\n",
       "   {'so': 'O'},\n",
       "   {'that': 'O'},\n",
       "   {'it': 'O'},\n",
       "   {'will': 'O'},\n",
       "   {'not': 'O'},\n",
       "   {'hover.': 'O'},\n",
       "   {'Please': 'O'},\n",
       "   {'fly': 'O'},\n",
       "   {'with': 'O'},\n",
       "   {'caution.': 'O'}]},\n",
       " {'timestamp': Timestamp('2018-06-15 11:28:01'),\n",
       "  'entities': [{'Take': 'O'},\n",
       "   {'off': 'O'},\n",
       "   {'in': 'O'},\n",
       "   {'P-Mode': 'B-STATE'}]},\n",
       " {'timestamp': Timestamp('2018-06-15 11:29:52'),\n",
       "  'entities': [{'Take': 'O'},\n",
       "   {'off': 'O'},\n",
       "   {'in': 'O'},\n",
       "   {'P-Mode': 'B-STATE'}]},\n",
       " {'timestamp': Timestamp('2018-06-15 11:32:10'),\n",
       "  'entities': [{'Take': 'O'},\n",
       "   {'off': 'O'},\n",
       "   {'in': 'O'},\n",
       "   {'P-Mode': 'B-STATE'}]},\n",
       " {'timestamp': Timestamp('2018-06-15 11:32:24'),\n",
       "  'entities': [{'Aircraft': 'O'},\n",
       "   {'is': 'O'},\n",
       "   {'in': 'O'},\n",
       "   {'Attitude': 'O'},\n",
       "   {'mode,': 'O'},\n",
       "   {'so': 'O'},\n",
       "   {'that': 'O'},\n",
       "   {'it': 'O'},\n",
       "   {'will': 'O'},\n",
       "   {'not': 'O'},\n",
       "   {'hover.': 'O'},\n",
       "   {'Please': 'O'},\n",
       "   {'fly': 'O'},\n",
       "   {'with': 'O'},\n",
       "   {'caution.': 'O'}]},\n",
       " {'timestamp': Timestamp('2018-06-15 11:32:34'),\n",
       "  'entities': [{'Aircraft': 'O'},\n",
       "   {'is': 'O'},\n",
       "   {'in': 'O'},\n",
       "   {'Attitude': 'O'},\n",
       "   {'mode,': 'O'},\n",
       "   {'so': 'O'},\n",
       "   {'that': 'O'},\n",
       "   {'it': 'O'},\n",
       "   {'will': 'O'},\n",
       "   {'not': 'O'},\n",
       "   {'hover.': 'O'},\n",
       "   {'Please': 'O'},\n",
       "   {'fly': 'O'},\n",
       "   {'with': 'O'},\n",
       "   {'caution.': 'O'}]},\n",
       " {'timestamp': Timestamp('2018-06-15 11:32:40'),\n",
       "  'entities': [{'Landing': 'B-COMPONENT'},\n",
       "   {'Gear': 'I-COMPONENT'},\n",
       "   {'Raising': 'O'}]},\n",
       " {'timestamp': Timestamp('2018-06-15 11:32:43'),\n",
       "  'entities': [{'Landing': 'B-COMPONENT'},\n",
       "   {'Gear': 'I-COMPONENT'},\n",
       "   {'Paused': 'O'}]},\n",
       " {'timestamp': Timestamp('2018-06-15 17:17:46'),\n",
       "  'entities': [{'Data': 'B-COMPONENT'},\n",
       "   {'Recorder': 'I-COMPONENT'},\n",
       "   {'File': 'B-PARAMETER'},\n",
       "   {'Index': 'I-PARAMETER'},\n",
       "   {'is': 'O'},\n",
       "   {'5.': 'O'}]},\n",
       " {'timestamp': Timestamp('2018-06-15 17:17:47'),\n",
       "  'entities': [{'RTH': 'B-PARAMETER'},\n",
       "   {'Altitude:': 'I-PARAMETER'},\n",
       "   {'65FT.': 'O'}]},\n",
       " {'timestamp': Timestamp('2018-06-15 17:18:23'),\n",
       "  'entities': [{'Landing.': 'B-ACTION'}]},\n",
       " {'timestamp': Timestamp('2018-06-19 00:00:30'),\n",
       "  'entities': [{'High': 'B-ISSUE'},\n",
       "   {'wind': 'I-ISSUE'},\n",
       "   {'velocity.': 'I-ISSUE'},\n",
       "   {'Ensure': 'O'},\n",
       "   {'the': 'O'},\n",
       "   {'aircraft': 'B-COMPONENT'},\n",
       "   {'remains': 'O'},\n",
       "   {'within': 'O'},\n",
       "   {'your': 'O'},\n",
       "   {'line': 'O'},\n",
       "   {'of': 'O'},\n",
       "   {'sight': 'O'},\n",
       "   {'and': 'O'},\n",
       "   {'fly': 'O'},\n",
       "   {'with': 'O'},\n",
       "   {'caution.': 'O'}]},\n",
       " {'timestamp': Timestamp('2018-06-19 00:00:49'),\n",
       "  'entities': [{'High': 'B-ISSUE'},\n",
       "   {'wind': 'I-ISSUE'},\n",
       "   {'velocity.': 'I-ISSUE'},\n",
       "   {'Ensure': 'O'},\n",
       "   {'the': 'O'},\n",
       "   {'aircraft': 'B-COMPONENT'},\n",
       "   {'remains': 'O'},\n",
       "   {'within': 'O'},\n",
       "   {'your': 'O'},\n",
       "   {'line': 'O'},\n",
       "   {'of': 'O'},\n",
       "   {'sight': 'O'},\n",
       "   {'and': 'O'},\n",
       "   {'fly': 'O'},\n",
       "   {'with': 'O'},\n",
       "   {'caution.': 'O'}]},\n",
       " {'timestamp': Timestamp('2018-06-19 00:01:27'),\n",
       "  'entities': [{'High': 'B-ISSUE'},\n",
       "   {'wind': 'I-ISSUE'},\n",
       "   {'velocity.': 'I-ISSUE'},\n",
       "   {'Fly': 'O'},\n",
       "   {'with': 'O'},\n",
       "   {'caution': 'O'},\n",
       "   {'and': 'O'},\n",
       "   {'land': 'O'},\n",
       "   {'in': 'O'},\n",
       "   {'a': 'O'},\n",
       "   {'safe': 'O'},\n",
       "   {'place': 'O'},\n",
       "   {'ASAP.': 'O'}]},\n",
       " {'timestamp': Timestamp('2018-06-19 00:01:49'),\n",
       "  'entities': [{'High': 'B-ISSUE'},\n",
       "   {'wind': 'I-ISSUE'},\n",
       "   {'velocity.': 'I-ISSUE'},\n",
       "   {'Ensure': 'O'},\n",
       "   {'the': 'O'},\n",
       "   {'aircraft': 'B-COMPONENT'},\n",
       "   {'remains': 'O'},\n",
       "   {'within': 'O'},\n",
       "   {'your': 'O'},\n",
       "   {'line': 'O'},\n",
       "   {'of': 'O'},\n",
       "   {'sight': 'O'},\n",
       "   {'and': 'O'},\n",
       "   {'fly': 'O'},\n",
       "   {'with': 'O'},\n",
       "   {'caution.;': 'O'},\n",
       "   {'High': 'B-ISSUE'},\n",
       "   {'wind': 'I-ISSUE'},\n",
       "   {'velocity.': 'I-ISSUE'},\n",
       "   {'Fly': 'O'},\n",
       "   {'with': 'O'},\n",
       "   {'caution': 'O'},\n",
       "   {'and': 'O'},\n",
       "   {'land': 'O'},\n",
       "   {'in': 'O'},\n",
       "   {'a': 'O'},\n",
       "   {'safe': 'O'},\n",
       "   {'place': 'O'},\n",
       "   {'ASAP.': 'O'}]},\n",
       " {'timestamp': Timestamp('2018-06-19 00:01:58'),\n",
       "  'entities': [{'WarningThe': 'B-ACTION'},\n",
       "   {'remaining': 'O'},\n",
       "   {'battery': 'B-COMPONENT'},\n",
       "   {'is': 'O'},\n",
       "   {'only': 'O'},\n",
       "   {'enough': 'O'},\n",
       "   {'for': 'O'},\n",
       "   {'RTH.': 'B-ACTION'},\n",
       "   {'Return': 'O'},\n",
       "   {'home': 'O'},\n",
       "   {'now.': 'O'}]},\n",
       " {'timestamp': Timestamp('2018-06-19 00:02:01'),\n",
       "  'entities': [{'Low': 'B-ISSUE'},\n",
       "   {'power.': 'I-ISSUE'},\n",
       "   {'Returning': 'B-ACTION'},\n",
       "   {'home.': 'I-ACTION'}]},\n",
       " {'timestamp': Timestamp('2018-06-19 00:02:02'),\n",
       "  'entities': [{'RTH:': 'B-ACTION'}, {'Preascending.': 'B-STATE'}]},\n",
       " {'timestamp': Timestamp('2018-06-19 00:02:02'),\n",
       "  'entities': [{'RTH:': 'B-ACTION'},\n",
       "   {'Heading': 'B-STATE'},\n",
       "   {'alignment.': 'I-STATE'}]},\n",
       " {'timestamp': Timestamp('2018-06-19 00:02:05'),\n",
       "  'entities': [{'RTH:': 'B-ACTION'},\n",
       "   {'Ascending': 'B-STATE'},\n",
       "   {'to': 'O'},\n",
       "   {'RTH': 'B-PARAMETER'},\n",
       "   {'altitude.': 'I-PARAMETER'}]},\n",
       " {'timestamp': Timestamp('2018-06-19 00:02:10'),\n",
       "  'entities': [{'RTH:': 'B-ACTION'}, {'Cruise.': 'B-STATE'}]},\n",
       " {'timestamp': Timestamp('2018-06-19 00:03:01'),\n",
       "  'entities': [{'Obstacle': 'B-FUNCTION'},\n",
       "   {'Sensing': 'I-FUNCTION'},\n",
       "   {'will': 'O'},\n",
       "   {'be': 'O'},\n",
       "   {'disabled': 'O'},\n",
       "   {'when': 'O'},\n",
       "   {'aircraft': 'B-COMPONENT'},\n",
       "   {'is': 'O'},\n",
       "   {'landing.': 'O'},\n",
       "   {'Fly': 'O'},\n",
       "   {'with': 'O'},\n",
       "   {'caution.': 'O'}]},\n",
       " {'timestamp': Timestamp('2018-06-19 00:03:03'),\n",
       "  'entities': [{'Precision': 'B-FUNCTION'},\n",
       "   {'LandingCorrecting': 'I-FUNCTION'},\n",
       "   {'Landing': 'I-FUNCTION'},\n",
       "   {'Position.': 'I-PARAMETER'}]},\n",
       " {'timestamp': Timestamp('2018-06-19 00:03:06'),\n",
       "  'entities': [{'Precision': 'B-FUNCTION'},\n",
       "   {'LandingCorrecting': 'I-FUNCTION'},\n",
       "   {'Landing': 'I-FUNCTION'},\n",
       "   {'Position.': 'I-PARAMETER'}]},\n",
       " {'timestamp': Timestamp('2018-06-19 00:03:10'),\n",
       "  'entities': [{'Precision': 'B-FUNCTION'},\n",
       "   {'LandingCorrecting': 'I-FUNCTION'},\n",
       "   {'Landing': 'I-FUNCTION'},\n",
       "   {'Position.': 'I-PARAMETER'}]},\n",
       " {'timestamp': Timestamp('2018-06-19 00:03:10'),\n",
       "  'entities': [{'Precision': 'B-FUNCTION'},\n",
       "   {'LandingCorrecting': 'I-FUNCTION'},\n",
       "   {'Landing': 'I-FUNCTION'},\n",
       "   {'Position.': 'I-PARAMETER'}]},\n",
       " {'timestamp': Timestamp('2018-06-19 00:03:11'),\n",
       "  'entities': [{'Precision': 'B-FUNCTION'},\n",
       "   {'LandingCorrecting': 'I-FUNCTION'},\n",
       "   {'Landing': 'I-FUNCTION'},\n",
       "   {'Position.': 'I-PARAMETER'}]},\n",
       " {'timestamp': Timestamp('2018-06-19 00:03:11'),\n",
       "  'entities': [{'Precision': 'B-FUNCTION'},\n",
       "   {'LandingCorrecting': 'I-FUNCTION'},\n",
       "   {'Landing': 'I-FUNCTION'},\n",
       "   {'Position.': 'I-PARAMETER'}]},\n",
       " {'timestamp': Timestamp('2018-06-19 00:03:13'),\n",
       "  'entities': [{'Precision': 'B-FUNCTION'},\n",
       "   {'LandingCorrecting': 'I-FUNCTION'},\n",
       "   {'Landing': 'I-FUNCTION'},\n",
       "   {'Position.': 'I-PARAMETER'}]},\n",
       " {'timestamp': Timestamp('2018-06-19 00:03:14'),\n",
       "  'entities': [{'Precision': 'B-FUNCTION'},\n",
       "   {'LandingCorrecting': 'I-FUNCTION'},\n",
       "   {'Landing': 'I-FUNCTION'},\n",
       "   {'Position.': 'I-PARAMETER'}]},\n",
       " {'timestamp': Timestamp('2018-06-19 00:03:14'),\n",
       "  'entities': [{'Precision': 'B-FUNCTION'},\n",
       "   {'LandingCorrecting': 'I-FUNCTION'},\n",
       "   {'Landing': 'I-FUNCTION'},\n",
       "   {'Position.': 'I-PARAMETER'}]},\n",
       " {'timestamp': Timestamp('2018-06-19 00:03:17'),\n",
       "  'entities': [{'Precision': 'B-FUNCTION'},\n",
       "   {'LandingCorrecting': 'I-FUNCTION'},\n",
       "   {'Landing': 'I-FUNCTION'},\n",
       "   {'Position.': 'I-PARAMETER'}]},\n",
       " {'timestamp': Timestamp('2018-06-19 00:03:17'),\n",
       "  'entities': [{'Precision': 'B-FUNCTION'},\n",
       "   {'LandingCorrecting': 'I-FUNCTION'},\n",
       "   {'Landing': 'I-FUNCTION'},\n",
       "   {'Position.': 'I-PARAMETER'}]},\n",
       " {'timestamp': Timestamp('2018-06-19 00:03:17'),\n",
       "  'entities': [{'Precision': 'B-FUNCTION'},\n",
       "   {'LandingCorrecting': 'I-FUNCTION'},\n",
       "   {'Landing': 'I-FUNCTION'},\n",
       "   {'Position.': 'I-PARAMETER'}]},\n",
       " {'timestamp': Timestamp('2018-06-19 00:03:20'),\n",
       "  'entities': [{'Precision': 'B-FUNCTION'},\n",
       "   {'LandingCorrecting': 'I-FUNCTION'},\n",
       "   {'Landing': 'I-FUNCTION'},\n",
       "   {'Position.': 'I-PARAMETER'}]},\n",
       " {'timestamp': Timestamp('2018-06-19 00:03:22'),\n",
       "  'entities': [{'Precision': 'B-FUNCTION'},\n",
       "   {'LandingCorrecting': 'I-FUNCTION'},\n",
       "   {'Landing': 'I-FUNCTION'},\n",
       "   {'Position.': 'I-PARAMETER'}]},\n",
       " {'timestamp': Timestamp('2018-06-19 00:08:28'),\n",
       "  'entities': [{'Data': 'B-COMPONENT'},\n",
       "   {'Recorder': 'I-COMPONENT'},\n",
       "   {'File': 'B-PARAMETER'},\n",
       "   {'Index': 'I-PARAMETER'},\n",
       "   {'is': 'O'},\n",
       "   {'4.': 'O'}]},\n",
       " {'timestamp': Timestamp('2018-06-19 00:08:30'),\n",
       "  'entities': [{'Home': 'I-PARAMETER'},\n",
       "   {'Point': 'B-PARAMETER'},\n",
       "   {'Updated.': 'O'}]},\n",
       " {'timestamp': Timestamp('2018-06-19 00:08:51'),\n",
       "  'entities': [{'Home': 'B-PARAMETER'},\n",
       "   {'Point': 'I-PARAMETER'},\n",
       "   {'recorded.': 'O'},\n",
       "   {'Return-to-Home': 'B-PARAMETER'},\n",
       "   {'Altitude:98FT.': 'I-PARAMETER'}]},\n",
       " {'timestamp': Timestamp('2018-06-19 00:09:20'),\n",
       "  'entities': [{'High': 'B-ISSUE'},\n",
       "   {'wind': 'I-ISSUE'},\n",
       "   {'velocity.': 'I-ISSUE'},\n",
       "   {'Ensure': 'O'},\n",
       "   {'the': 'O'},\n",
       "   {'aircraft': 'B-COMPONENT'},\n",
       "   {'remains': 'O'},\n",
       "   {'within': 'O'},\n",
       "   {'your': 'O'},\n",
       "   {'line': 'O'},\n",
       "   {'of': 'O'},\n",
       "   {'sight': 'O'},\n",
       "   {'and': 'O'},\n",
       "   {'fly': 'O'},\n",
       "   {'with': 'O'},\n",
       "   {'caution.': 'O'}]},\n",
       " {'timestamp': Timestamp('2018-06-19 00:10:42'),\n",
       "  'entities': [{'High': 'B-ISSUE'},\n",
       "   {'wind': 'I-ISSUE'},\n",
       "   {'velocity.': 'I-ISSUE'},\n",
       "   {'Ensure': 'O'},\n",
       "   {'the': 'O'},\n",
       "   {'aircraft': 'B-COMPONENT'},\n",
       "   {'remains': 'O'},\n",
       "   {'within': 'O'},\n",
       "   {'your': 'O'},\n",
       "   {'line': 'O'},\n",
       "   {'of': 'O'},\n",
       "   {'sight': 'O'},\n",
       "   {'and': 'O'},\n",
       "   {'fly': 'O'},\n",
       "   {'with': 'O'},\n",
       "   {'caution.': 'O'}]},\n",
       " {'timestamp': Timestamp('2018-06-19 00:10:58'),\n",
       "  'entities': [{'Weak': 'B-ISSUE'},\n",
       "   {'signal.': 'I-ISSUE'},\n",
       "   {'Avoid': 'O'},\n",
       "   {'blocking': 'O'},\n",
       "   {'the': 'O'},\n",
       "   {'antennas': 'B-COMPONENT'},\n",
       "   {'and': 'O'},\n",
       "   {'keep': 'O'},\n",
       "   {'the': 'O'},\n",
       "   {'antennas': 'B-COMPONENT'},\n",
       "   {'parallel': 'O'},\n",
       "   {'to': 'O'},\n",
       "   {'and': 'O'},\n",
       "   {'facing': 'O'},\n",
       "   {'toward': 'O'},\n",
       "   {'the': 'O'},\n",
       "   {'aircraft': 'B-COMPONENT'},\n",
       "   {'during': 'O'},\n",
       "   {'flight.;': 'O'},\n",
       "   {'Downlink': 'B-ISSUE'},\n",
       "   {'Lost.': 'I-ISSUE'}]},\n",
       " {'timestamp': Timestamp('2018-06-19 00:11:02'),\n",
       "  'entities': [{'Downlink': 'B-FUNCTION'},\n",
       "   {'Restored': 'O'},\n",
       "   {'(after': 'O'},\n",
       "   {'0m': 'O'},\n",
       "   {'5.6s).': 'O'}]},\n",
       " {'timestamp': Timestamp('2018-06-19 00:11:04'),\n",
       "  'entities': [{'Downlink': 'B-ISSUE'}, {'Lost.': 'I-ISSUE'}]},\n",
       " {'timestamp': Timestamp('2018-06-19 00:11:09'),\n",
       "  'entities': [{'Downlink': 'B-FUNCTION'},\n",
       "   {'Restored': 'O'},\n",
       "   {'(after': 'O'},\n",
       "   {'0m': 'O'},\n",
       "   {'5.8s).': 'O'}]},\n",
       " {'timestamp': Timestamp('2018-06-19 00:11:09'),\n",
       "  'entities': [{'High': 'B-ISSUE'},\n",
       "   {'wind': 'I-ISSUE'},\n",
       "   {'velocity.': 'I-ISSUE'},\n",
       "   {'Ensure': 'O'},\n",
       "   {'the': 'O'},\n",
       "   {'aircraft': 'B-COMPONENT'},\n",
       "   {'remains': 'O'},\n",
       "   {'within': 'O'},\n",
       "   {'your': 'O'},\n",
       "   {'line': 'O'},\n",
       "   {'of': 'O'},\n",
       "   {'sight': 'O'},\n",
       "   {'and': 'O'},\n",
       "   {'fly': 'O'},\n",
       "   {'with': 'O'},\n",
       "   {'caution.;': 'O'},\n",
       "   {'Downlink': 'B-ISSUE'},\n",
       "   {'Lost.': 'I-ISSUE'}]},\n",
       " {'timestamp': Timestamp('2018-06-19 00:11:18'),\n",
       "  'entities': [{'Downlink': 'B-ISSUE'}, {'Lost.': 'I-ISSUE'}]},\n",
       " {'timestamp': Timestamp('2018-06-19 00:11:31'),\n",
       "  'entities': [{'Downlink': 'B-ISSUE'}, {'Lost.': 'I-ISSUE'}]},\n",
       " {'timestamp': Timestamp('2018-06-19 00:11:32'),\n",
       "  'entities': [{'Downlink': 'B-FUNCTION'},\n",
       "   {'Restored': 'O'},\n",
       "   {'(after': 'O'},\n",
       "   {'0m': 'O'},\n",
       "   {'11s).': 'O'}]},\n",
       " {'timestamp': Timestamp('2018-06-19 00:11:32'),\n",
       "  'entities': [{'Downlink': 'B-FUNCTION'},\n",
       "   {'Restored': 'O'},\n",
       "   {'(after': 'O'},\n",
       "   {'0m': 'O'},\n",
       "   {'2.2s).': 'O'}]},\n",
       " {'timestamp': Timestamp('2018-06-19 00:12:11'),\n",
       "  'entities': [{'High': 'B-ISSUE'},\n",
       "   {'wind': 'I-ISSUE'},\n",
       "   {'velocity.': 'I-ISSUE'},\n",
       "   {'Ensure': 'O'},\n",
       "   {'the': 'O'},\n",
       "   {'aircraft': 'B-COMPONENT'},\n",
       "   {'remains': 'O'},\n",
       "   {'within': 'O'},\n",
       "   {'your': 'O'},\n",
       "   {'line': 'O'},\n",
       "   {'of': 'O'},\n",
       "   {'sight': 'O'},\n",
       "   {'and': 'O'},\n",
       "   {'fly': 'O'},\n",
       "   {'with': 'O'},\n",
       "   {'caution.': 'O'}]},\n",
       " {'timestamp': Timestamp('2018-06-19 00:12:32'),\n",
       "  'entities': [{'High': 'B-ISSUE'},\n",
       "   {'wind': 'I-ISSUE'},\n",
       "   {'velocity.': 'I-ISSUE'},\n",
       "   {'Ensure': 'O'},\n",
       "   {'the': 'O'},\n",
       "   {'aircraft': 'B-COMPONENT'},\n",
       "   {'remains': 'O'},\n",
       "   {'within': 'O'},\n",
       "   {'your': 'O'},\n",
       "   {'line': 'O'},\n",
       "   {'of': 'O'},\n",
       "   {'sight': 'O'},\n",
       "   {'and': 'O'},\n",
       "   {'fly': 'O'},\n",
       "   {'with': 'O'},\n",
       "   {'caution.': 'O'}]},\n",
       " {'timestamp': Timestamp('2018-06-19 00:12:56'),\n",
       "  'entities': [{'High': 'B-ISSUE'},\n",
       "   {'wind': 'I-ISSUE'},\n",
       "   {'velocity.': 'I-ISSUE'},\n",
       "   {'Fly': 'O'},\n",
       "   {'with': 'O'},\n",
       "   {'caution': 'O'},\n",
       "   {'and': 'O'},\n",
       "   {'land': 'O'},\n",
       "   {'in': 'O'},\n",
       "   {'a': 'O'},\n",
       "   {'safe': 'O'},\n",
       "   {'place': 'O'},\n",
       "   {'ASAP.': 'O'}]},\n",
       " {'timestamp': Timestamp('2018-06-19 00:13:14'),\n",
       "  'entities': [{'Forward': 'B-FUNCTION'},\n",
       "   {'Obstacle': 'I-FUNCTION'},\n",
       "   {'Sensing': 'I-FUNCTION'},\n",
       "   {'is': 'O'},\n",
       "   {'not': 'O'},\n",
       "   {'functioning.': 'O'}]},\n",
       " {'timestamp': Timestamp('2018-06-19 00:13:15'),\n",
       "  'entities': [{'Attitude': 'B-PARAMETER'},\n",
       "   {'is': 'O'},\n",
       "   {'too': 'O'},\n",
       "   {'large.Â': 'O'},\n",
       "   {'Backward': 'B-FUNCTION'},\n",
       "   {'Obstacle': 'I-FUNCTION'},\n",
       "   {'Sensing': 'I-FUNCTION'},\n",
       "   {'is': 'O'},\n",
       "   {'not': 'O'},\n",
       "   {'functioning.': 'O'}]},\n",
       " {'timestamp': Timestamp('2018-06-19 00:13:36'),\n",
       "  'entities': [{'High': 'B-ISSUE'},\n",
       "   {'wind': 'I-ISSUE'},\n",
       "   {'velocity.': 'I-ISSUE'},\n",
       "   {'Ensure': 'O'},\n",
       "   {'the': 'O'},\n",
       "   {'aircraft': 'B-COMPONENT'},\n",
       "   {'remains': 'O'},\n",
       "   {'within': 'O'},\n",
       "   {'your': 'O'},\n",
       "   {'line': 'O'},\n",
       "   {'of': 'O'},\n",
       "   {'sight': 'O'},\n",
       "   {'and': 'O'},\n",
       "   {'fly': 'O'},\n",
       "   {'with': 'O'},\n",
       "   {'caution.': 'O'}]},\n",
       " {'timestamp': Timestamp('2018-06-19 00:13:56'),\n",
       "  'entities': [{'High': 'B-ISSUE'},\n",
       "   {'wind': 'I-ISSUE'},\n",
       "   {'velocity.': 'I-ISSUE'},\n",
       "   {'Ensure': 'O'},\n",
       "   {'the': 'O'},\n",
       "   {'aircraft': 'B-COMPONENT'},\n",
       "   {'remains': 'O'},\n",
       "   {'within': 'O'},\n",
       "   {'your': 'O'},\n",
       "   {'line': 'O'},\n",
       "   {'of': 'O'},\n",
       "   {'sight': 'O'},\n",
       "   {'and': 'O'},\n",
       "   {'fly': 'O'},\n",
       "   {'with': 'O'},\n",
       "   {'caution.': 'O'}]},\n",
       " {'timestamp': Timestamp('2018-06-19 00:14:02'),\n",
       "  'entities': [{'High': 'B-ISSUE'},\n",
       "   {'wind': 'I-ISSUE'},\n",
       "   {'velocity.': 'I-ISSUE'},\n",
       "   {'Fly': 'O'},\n",
       "   {'with': 'O'},\n",
       "   {'caution': 'O'},\n",
       "   {'and': 'O'},\n",
       "   {'land': 'O'},\n",
       "   {'in': 'O'},\n",
       "   {'a': 'O'},\n",
       "   {'safe': 'O'},\n",
       "   {'place': 'O'},\n",
       "   {'ASAP.': 'O'}]},\n",
       " {'timestamp': Timestamp('2018-06-19 00:14:13'),\n",
       "  'entities': [{'High': 'B-ISSUE'},\n",
       "   {'wind': 'I-ISSUE'},\n",
       "   {'velocity.': 'I-ISSUE'},\n",
       "   {'Ensure': 'O'},\n",
       "   {'the': 'O'},\n",
       "   {'aircraft': 'B-COMPONENT'},\n",
       "   {'remains': 'O'},\n",
       "   {'within': 'O'},\n",
       "   {'your': 'O'},\n",
       "   {'line': 'O'},\n",
       "   {'of': 'O'},\n",
       "   {'sight': 'O'},\n",
       "   {'and': 'O'},\n",
       "   {'fly': 'O'},\n",
       "   {'with': 'O'},\n",
       "   {'caution.': 'O'}]},\n",
       " {'timestamp': Timestamp('2018-06-19 00:14:49'),\n",
       "  'entities': [{'High': 'B-ISSUE'},\n",
       "   {'wind': 'I-ISSUE'},\n",
       "   {'velocity.': 'I-ISSUE'},\n",
       "   {'Ensure': 'O'},\n",
       "   {'the': 'O'},\n",
       "   {'aircraft': 'B-COMPONENT'},\n",
       "   {'remains': 'O'},\n",
       "   {'within': 'O'},\n",
       "   {'your': 'O'},\n",
       "   {'line': 'O'},\n",
       "   {'of': 'O'},\n",
       "   {'sight': 'O'},\n",
       "   {'and': 'O'},\n",
       "   {'fly': 'O'},\n",
       "   {'with': 'O'},\n",
       "   {'caution.': 'O'}]},\n",
       " {'timestamp': Timestamp('2018-06-19 00:15:43'),\n",
       "  'entities': [{'Obstacle': 'B-FUNCTION'},\n",
       "   {'Sensing': 'I-FUNCTION'},\n",
       "   {'will': 'O'},\n",
       "   {'be': 'O'},\n",
       "   {'disabled': 'O'},\n",
       "   {'when': 'O'},\n",
       "   {'aircraft': 'B-COMPONENT'},\n",
       "   {'is': 'O'},\n",
       "   {'landing.': 'O'},\n",
       "   {'Fly': 'O'},\n",
       "   {'with': 'O'},\n",
       "   {'caution.': 'O'}]},\n",
       " {'timestamp': Timestamp('2018-06-19 00:34:57'),\n",
       "  'entities': [{'Data': 'B-COMPONENT'},\n",
       "   {'Recorder': 'I-COMPONENT'},\n",
       "   {'File': 'B-PARAMETER'},\n",
       "   {'Index': 'I-PARAMETER'},\n",
       "   {'is': 'O'},\n",
       "   {'2.': 'O'}]},\n",
       " {'timestamp': Timestamp('2018-06-19 00:34:59'),\n",
       "  'entities': [{'Home': 'I-PARAMETER'},\n",
       "   {'Point': 'B-PARAMETER'},\n",
       "   {'Updated.': 'O'}]},\n",
       " {'timestamp': Timestamp('2018-06-19 00:34:59'),\n",
       "  'entities': [{'Home': 'B-PARAMETER'},\n",
       "   {'Point': 'I-PARAMETER'},\n",
       "   {'recorded.': 'O'},\n",
       "   {'Return-to-Home': 'B-PARAMETER'},\n",
       "   {'Altitude:98FT.': 'I-PARAMETER'}]},\n",
       " {'timestamp': Timestamp('2018-06-19 00:35:19'),\n",
       "  'entities': [{'Downlink': 'B-ISSUE'}, {'Lost.': 'I-ISSUE'}]},\n",
       " {'timestamp': Timestamp('2018-06-19 00:35:28'),\n",
       "  'entities': [{'Downlink': 'B-FUNCTION'},\n",
       "   {'Restored': 'O'},\n",
       "   {'(after': 'O'},\n",
       "   {'0m': 'O'},\n",
       "   {'11.3s).': 'O'}]},\n",
       " {'timestamp': Timestamp('2018-06-19 00:39:36'),\n",
       "  'entities': [{'Aircraft': 'B-COMPONENT'},\n",
       "   {'is': 'O'},\n",
       "   {'close': 'O'},\n",
       "   {'to': 'O'},\n",
       "   {'the': 'O'},\n",
       "   {'Home': 'B-PARAMETER'},\n",
       "   {'Point.': 'I-PARAMETER'},\n",
       "   {'Initiating': 'O'},\n",
       "   {'Return': 'B-ACTION'},\n",
       "   {'to': 'I-ACTION'},\n",
       "   {'Home': 'I-ACTION'},\n",
       "   {'will': 'O'},\n",
       "   {'now': 'O'},\n",
       "   {'trigger': 'O'},\n",
       "   {'Auto': 'B-STATE'},\n",
       "   {'Landing.': 'I-STATE'}]},\n",
       " {'timestamp': Timestamp('2018-06-19 00:57:21'),\n",
       "  'entities': [{'Data': 'B-COMPONENT'},\n",
       "   {'Recorder': 'I-COMPONENT'},\n",
       "   {'File': 'B-PARAMETER'},\n",
       "   {'Index': 'I-PARAMETER'},\n",
       "   {'is': 'O'},\n",
       "   {'5.': 'O'}]},\n",
       " {'timestamp': Timestamp('2018-06-19 00:57:23'),\n",
       "  'entities': [{'Home': 'I-PARAMETER'},\n",
       "   {'Point': 'B-PARAMETER'},\n",
       "   {'Updated.': 'O'}]},\n",
       " {'timestamp': Timestamp('2018-06-19 00:57:23'),\n",
       "  'entities': [{'Home': 'B-PARAMETER'},\n",
       "   {'Point': 'I-PARAMETER'},\n",
       "   {'recorded.': 'O'},\n",
       "   {'Return-to-Home': 'B-PARAMETER'},\n",
       "   {'Altitude:98FT.': 'I-PARAMETER'}]},\n",
       " {'timestamp': Timestamp('2018-06-19 00:58:19'),\n",
       "  'entities': [{'High': 'B-ISSUE'},\n",
       "   {'wind': 'I-ISSUE'},\n",
       "   {'velocity.': 'I-ISSUE'},\n",
       "   {'Ensure': 'O'},\n",
       "   {'the': 'O'},\n",
       "   {'aircraft': 'B-COMPONENT'},\n",
       "   {'remains': 'O'},\n",
       "   {'within': 'O'},\n",
       "   {'your': 'O'},\n",
       "   {'line': 'O'},\n",
       "   {'of': 'O'},\n",
       "   {'sight': 'O'},\n",
       "   {'and': 'O'},\n",
       "   {'fly': 'O'},\n",
       "   {'with': 'O'},\n",
       "   {'caution.': 'O'}]},\n",
       " {'timestamp': Timestamp('2018-06-19 14:05:36'),\n",
       "  'entities': [{'Backward': 'B-FUNCTION'},\n",
       "   {'Obstacle': 'I-FUNCTION'},\n",
       "   {'Sensing': 'I-FUNCTION'},\n",
       "   {'is': 'O'},\n",
       "   {'not': 'O'},\n",
       "   {'functioning.': 'O'}]},\n",
       " {'timestamp': Timestamp('2018-06-19 14:05:39'),\n",
       "  'entities': [{'Backward': 'B-FUNCTION'},\n",
       "   {'Obstacle': 'I-FUNCTION'},\n",
       "   {'Sensing': 'I-FUNCTION'},\n",
       "   {'is': 'O'},\n",
       "   {'not': 'O'},\n",
       "   {'functioning.': 'O'}]},\n",
       " {'timestamp': Timestamp('2018-06-19 14:05:44'),\n",
       "  'entities': [{'Backward': 'B-FUNCTION'},\n",
       "   {'Obstacle': 'I-FUNCTION'},\n",
       "   {'Sensing': 'I-FUNCTION'},\n",
       "   {'is': 'O'},\n",
       "   {'not': 'O'},\n",
       "   {'functioning.': 'O'}]},\n",
       " {'timestamp': Timestamp('2018-06-19 14:05:44'),\n",
       "  'entities': [{'Ambient': 'B-PARAMETER'},\n",
       "   {'Light': 'I-FUNCTION'},\n",
       "   {'is': 'O'},\n",
       "   {'too': 'O'},\n",
       "   {'weak.': 'O'}]},\n",
       " {'timestamp': Timestamp('2018-06-19 14:08:51'),\n",
       "  'entities': [{'Home': 'B-PARAMETER'},\n",
       "   {'Point': 'I-PARAMETER'},\n",
       "   {'recorded.': 'O'},\n",
       "   {'Return-to-Home': 'B-PARAMETER'},\n",
       "   {'Altitude:98FT': 'I-PARAMETER'}]},\n",
       " {'timestamp': Timestamp('2018-06-19 14:09:20'),\n",
       "  'entities': [{'High': 'B-ISSUE'},\n",
       "   {'wind': 'I-ISSUE'},\n",
       "   {'velocity.': 'I-ISSUE'},\n",
       "   {'Ensure': 'O'},\n",
       "   {'the': 'O'},\n",
       "   {'aircraft': 'B-COMPONENT'},\n",
       "   {'remains': 'O'},\n",
       "   {'within': 'O'},\n",
       "   {'your': 'O'},\n",
       "   {'line': 'O'},\n",
       "   {'of': 'O'},\n",
       "   {'sight': 'O'},\n",
       "   {'and': 'O'},\n",
       "   {'fly': 'O'},\n",
       "   {'with': 'O'},\n",
       "   {'caution.': 'O'}]},\n",
       " {'timestamp': Timestamp('2018-06-19 14:10:57'),\n",
       "  'entities': [{'Weak': 'B-ISSUE'},\n",
       "   {'signal.': 'I-ISSUE'},\n",
       "   {'Avoid': 'O'},\n",
       "   {'blocking': 'O'},\n",
       "   {'the': 'O'},\n",
       "   {'antennas': 'B-COMPONENT'},\n",
       "   {'and': 'O'},\n",
       "   {'keep': 'O'},\n",
       "   {'the': 'O'},\n",
       "   {'antennas': 'B-COMPONENT'},\n",
       "   {'parallel': 'O'},\n",
       "   {'to': 'O'},\n",
       "   {'and': 'O'},\n",
       "   {'facing': 'O'},\n",
       "   {'toward': 'O'},\n",
       "   {'the': 'O'},\n",
       "   {'aircraft': 'B-COMPONENT'},\n",
       "   {'during': 'O'},\n",
       "   {'flight.': 'O'}]},\n",
       " {'timestamp': Timestamp('2018-06-19 14:12:56'),\n",
       "  'entities': [{'High': 'B-ISSUE'},\n",
       "   {'wind': 'I-ISSUE'},\n",
       "   {'velocity.': 'I-ISSUE'},\n",
       "   {'Fly': 'O'},\n",
       "   {'with': 'O'},\n",
       "   {'caution': 'O'},\n",
       "   {'and': 'O'},\n",
       "   {'land': 'O'},\n",
       "   {'in': 'O'},\n",
       "   {'a': 'O'},\n",
       "   {'safe': 'O'},\n",
       "   {'place': 'O'},\n",
       "   {'ASAP.': 'O'}]},\n",
       " {'timestamp': Timestamp('2018-06-19 14:13:14'),\n",
       "  'entities': [{'Attitude': 'B-PARAMETER'},\n",
       "   {'is': 'O'},\n",
       "   {'too': 'O'},\n",
       "   {'large.Â': 'O'},\n",
       "   {'Backward': 'B-FUNCTION'},\n",
       "   {'Obstacle': 'I-FUNCTION'},\n",
       "   {'Sensing': 'I-FUNCTION'},\n",
       "   {'is': 'O'},\n",
       "   {'not': 'O'},\n",
       "   {'functioning.': 'O'}]},\n",
       " {'timestamp': Timestamp('2018-06-19 14:13:14'),\n",
       "  'entities': [{'Forward': 'B-FUNCTION'},\n",
       "   {'Obstacle': 'I-FUNCTION'},\n",
       "   {'Sensing': 'I-FUNCTION'},\n",
       "   {'is': 'O'},\n",
       "   {'not': 'O'},\n",
       "   {'functioning.': 'O'}]},\n",
       " {'timestamp': Timestamp('2018-06-19 14:15:43'),\n",
       "  'entities': [{'Obstacle': 'B-FUNCTION'},\n",
       "   {'Sensing': 'I-FUNCTION'},\n",
       "   {'will': 'O'},\n",
       "   {'be': 'O'},\n",
       "   {'disabled': 'O'},\n",
       "   {'when': 'O'},\n",
       "   {'aircraft': 'B-COMPONENT'},\n",
       "   {'is': 'O'},\n",
       "   {'landing.': 'O'},\n",
       "   {'Fly': 'O'},\n",
       "   {'with': 'O'},\n",
       "   {'caution.': 'O'}]},\n",
       " {'timestamp': Timestamp('2018-06-19 14:16:15'),\n",
       "  'entities': [{'Ambient': 'B-PARAMETER'},\n",
       "   {'Light': 'I-FUNCTION'},\n",
       "   {'is': 'O'},\n",
       "   {'too': 'O'},\n",
       "   {'weak.': 'O'}]},\n",
       " {'timestamp': Timestamp('2018-06-19 14:16:15'),\n",
       "  'entities': [{'Forward': 'B-FUNCTION'},\n",
       "   {'Obstacle': 'I-FUNCTION'},\n",
       "   {'Sensing': 'I-FUNCTION'},\n",
       "   {'is': 'O'},\n",
       "   {'not': 'O'},\n",
       "   {'functioning.': 'O'}]},\n",
       " {'timestamp': Timestamp('2018-06-19 14:29:57'),\n",
       "  'entities': [{'Home': 'B-PARAMETER'},\n",
       "   {'Point': 'I-PARAMETER'},\n",
       "   {'Recorded.': 'O'},\n",
       "   {'RTH': 'B-PARAMETER'},\n",
       "   {'Altitude:Â': 'I-PARAMETER'},\n",
       "   {'30m.': 'O'}]},\n",
       " {'timestamp': Timestamp('2018-06-19 14:30:43'),\n",
       "  'entities': [{'Fly': 'O'},\n",
       "   {'with': 'O'},\n",
       "   {'caution': 'O'},\n",
       "   {'and': 'O'},\n",
       "   {'ensure': 'O'},\n",
       "   {'the': 'O'},\n",
       "   {'aircraft': 'B-COMPONENT'},\n",
       "   {'remains': 'O'},\n",
       "   {'within': 'O'},\n",
       "   {'your': 'O'},\n",
       "   {'line': 'O'},\n",
       "   {'of': 'O'},\n",
       "   {'sight.': 'O'}]},\n",
       " {'timestamp': Timestamp('2018-06-19 14:30:53'),\n",
       "  'entities': [{'Fly': 'O'},\n",
       "   {'with': 'O'},\n",
       "   {'caution': 'O'},\n",
       "   {'and': 'O'},\n",
       "   {'ensure': 'O'},\n",
       "   {'the': 'O'},\n",
       "   {'aircraft': 'B-COMPONENT'},\n",
       "   {'remains': 'O'},\n",
       "   {'within': 'O'},\n",
       "   {'your': 'O'},\n",
       "   {'line': 'O'},\n",
       "   {'of': 'O'},\n",
       "   {'sight.': 'O'}]},\n",
       " {'timestamp': Timestamp('2018-06-19 14:32:58'),\n",
       "  'entities': [{'Fly': 'O'},\n",
       "   {'with': 'O'},\n",
       "   {'caution': 'O'},\n",
       "   {'and': 'O'},\n",
       "   {'ensure': 'O'},\n",
       "   {'the': 'O'},\n",
       "   {'aircraft': 'B-COMPONENT'},\n",
       "   {'remains': 'O'},\n",
       "   {'within': 'O'},\n",
       "   {'your': 'O'},\n",
       "   {'line': 'O'},\n",
       "   {'of': 'O'},\n",
       "   {'sight.': 'O'}]},\n",
       " {'timestamp': Timestamp('2018-06-19 14:33:09'),\n",
       "  'entities': [{'Fly': 'O'},\n",
       "   {'with': 'O'},\n",
       "   {'caution': 'O'},\n",
       "   {'and': 'O'},\n",
       "   {'ensure': 'O'},\n",
       "   {'the': 'O'},\n",
       "   {'aircraft': 'B-COMPONENT'},\n",
       "   {'remains': 'O'},\n",
       "   {'within': 'O'},\n",
       "   {'your': 'O'},\n",
       "   {'line': 'O'},\n",
       "   {'of': 'O'},\n",
       "   {'sight.': 'O'}]},\n",
       " {'timestamp': Timestamp('2018-06-19 14:33:36'),\n",
       "  'entities': [{'Fly': 'O'},\n",
       "   {'with': 'O'},\n",
       "   {'caution': 'O'},\n",
       "   {'and': 'O'},\n",
       "   {'ensure': 'O'},\n",
       "   {'the': 'O'},\n",
       "   {'aircraft': 'B-COMPONENT'},\n",
       "   {'remains': 'O'},\n",
       "   {'within': 'O'},\n",
       "   {'your': 'O'},\n",
       "   {'line': 'O'},\n",
       "   {'of': 'O'},\n",
       "   {'sight.': 'O'}]},\n",
       " {'timestamp': Timestamp('2018-06-19 14:33:58'),\n",
       "  'entities': [{'Fly': 'O'},\n",
       "   {'with': 'O'},\n",
       "   {'caution': 'O'},\n",
       "   {'and': 'O'},\n",
       "   {'ensure': 'O'},\n",
       "   {'the': 'O'},\n",
       "   {'aircraft': 'B-COMPONENT'},\n",
       "   {'remains': 'O'},\n",
       "   {'within': 'O'},\n",
       "   {'your': 'O'},\n",
       "   {'line': 'O'},\n",
       "   {'of': 'O'},\n",
       "   {'sight.': 'O'}]},\n",
       " {'timestamp': Timestamp('2018-06-19 14:34:30'),\n",
       "  'entities': [{'Fly': 'O'},\n",
       "   {'with': 'O'},\n",
       "   {'caution': 'O'},\n",
       "   {'and': 'O'},\n",
       "   {'ensure': 'O'},\n",
       "   {'the': 'O'},\n",
       "   {'aircraft': 'B-COMPONENT'},\n",
       "   {'remains': 'O'},\n",
       "   {'within': 'O'},\n",
       "   {'your': 'O'},\n",
       "   {'line': 'O'},\n",
       "   {'of': 'O'},\n",
       "   {'sight.': 'O'}]},\n",
       " {'timestamp': Timestamp('2018-06-19 14:35:19'),\n",
       "  'entities': [{'Fly': 'O'},\n",
       "   {'with': 'O'},\n",
       "   {'caution': 'O'},\n",
       "   {'and': 'O'},\n",
       "   {'ensure': 'O'},\n",
       "   {'the': 'O'},\n",
       "   {'aircraft': 'B-COMPONENT'},\n",
       "   {'remains': 'O'},\n",
       "   {'within': 'O'},\n",
       "   {'your': 'O'},\n",
       "   {'line': 'O'},\n",
       "   {'of': 'O'},\n",
       "   {'sight.': 'O'}]},\n",
       " {'timestamp': Timestamp('2018-06-19 14:35:29'),\n",
       "  'entities': [{'Fly': 'O'},\n",
       "   {'with': 'O'},\n",
       "   {'caution': 'O'},\n",
       "   {'and': 'O'},\n",
       "   {'ensure': 'O'},\n",
       "   {'the': 'O'},\n",
       "   {'aircraft': 'B-COMPONENT'},\n",
       "   {'remains': 'O'},\n",
       "   {'within': 'O'},\n",
       "   {'your': 'O'},\n",
       "   {'line': 'O'},\n",
       "   {'of': 'O'},\n",
       "   {'sight.': 'O'}]},\n",
       " {'timestamp': Timestamp('2018-06-19 14:35:55'),\n",
       "  'entities': [{'Fly': 'O'},\n",
       "   {'with': 'O'},\n",
       "   {'caution': 'O'},\n",
       "   {'and': 'O'},\n",
       "   {'ensure': 'O'},\n",
       "   {'the': 'O'},\n",
       "   {'aircraft': 'B-COMPONENT'},\n",
       "   {'remains': 'O'},\n",
       "   {'within': 'O'},\n",
       "   {'your': 'O'},\n",
       "   {'line': 'O'},\n",
       "   {'of': 'O'},\n",
       "   {'sight.': 'O'}]},\n",
       " {'timestamp': Timestamp('2018-06-19 14:35:58'),\n",
       "  'entities': [{'High': 'B-ISSUE'},\n",
       "   {'wind': 'I-ISSUE'},\n",
       "   {'velocity.': 'I-ISSUE'},\n",
       "   {'Fly': 'O'},\n",
       "   {'with': 'O'},\n",
       "   {'caution': 'O'},\n",
       "   {'and': 'O'},\n",
       "   {'land': 'O'},\n",
       "   {'in': 'O'},\n",
       "   {'a': 'O'},\n",
       "   {'safe': 'O'},\n",
       "   {'place': 'O'},\n",
       "   {'ASAP.': 'O'}]},\n",
       " {'timestamp': Timestamp('2018-06-19 14:37:06'),\n",
       "  'entities': [{'Remote': 'B-ACTION'},\n",
       "   {'Controller': 'I-COMPONENT'},\n",
       "   {'Right': 'O'},\n",
       "   {'Dial': 'O'},\n",
       "   {'Locked.': 'O'},\n",
       "   {'Lightly': 'O'},\n",
       "   {'press': 'O'},\n",
       "   {'it': 'O'},\n",
       "   {'to': 'O'},\n",
       "   {'adjust.': 'O'}]},\n",
       " {'timestamp': Timestamp('2018-06-19 14:37:29'),\n",
       "  'entities': [{'Max': 'B-PARAMETER'},\n",
       "   {'Flight': 'I-PARAMETER'},\n",
       "   {'Distance': 'I-PARAMETER'},\n",
       "   {'Reached.': 'O'},\n",
       "   {'Adjust': 'O'},\n",
       "   {'in': 'O'},\n",
       "   {'Main': 'B-FUNCTION'},\n",
       "   {'Controller': 'I-FUNCTION'},\n",
       "   {'Settings': 'I-FUNCTION'},\n",
       "   {'if': 'O'},\n",
       "   {'necessary.': 'O'}]},\n",
       " {'timestamp': Timestamp('2018-06-19 14:37:46'),\n",
       "  'entities': [{'Weak': 'B-ISSUE'},\n",
       "   {'signal.': 'I-ISSUE'},\n",
       "   {'Adjust': 'O'},\n",
       "   {'antenna': 'O'},\n",
       "   {'and': 'O'},\n",
       "   {'avoid': 'O'},\n",
       "   {'signal': 'B-ISSUE'},\n",
       "   {'block.': 'I-ISSUE'}]},\n",
       " {'timestamp': Timestamp('2018-06-19 14:45:08'),\n",
       "  'entities': [{'Home': 'B-PARAMETER'},\n",
       "   {'Point': 'I-PARAMETER'},\n",
       "   {'Recorded.': 'O'},\n",
       "   {'RTH': 'B-PARAMETER'},\n",
       "   {'Altitude:Â': 'I-PARAMETER'},\n",
       "   {'30m.': 'O'}]},\n",
       " {'timestamp': Timestamp('2018-06-19 14:47:45'),\n",
       "  'entities': [{'Fly': 'O'},\n",
       "   {'with': 'O'},\n",
       "   {'caution': 'O'},\n",
       "   {'and': 'O'},\n",
       "   {'ensure': 'O'},\n",
       "   {'the': 'O'},\n",
       "   {'aircraft': 'B-COMPONENT'},\n",
       "   {'remains': 'O'},\n",
       "   {'within': 'O'},\n",
       "   {'your': 'O'},\n",
       "   {'line': 'O'},\n",
       "   {'of': 'O'},\n",
       "   {'sight.': 'O'}]},\n",
       " {'timestamp': Timestamp('2018-06-19 14:48:11'),\n",
       "  'entities': [{'Fly': 'O'},\n",
       "   {'with': 'O'},\n",
       "   {'caution': 'O'},\n",
       "   {'and': 'O'},\n",
       "   {'ensure': 'O'},\n",
       "   {'the': 'O'},\n",
       "   {'aircraft': 'B-COMPONENT'},\n",
       "   {'remains': 'O'},\n",
       "   {'within': 'O'},\n",
       "   {'your': 'O'},\n",
       "   {'line': 'O'},\n",
       "   {'of': 'O'},\n",
       "   {'sight.': 'O'}]},\n",
       " {'timestamp': Timestamp('2018-06-19 14:51:37'),\n",
       "  'entities': [{'Fly': 'O'},\n",
       "   {'with': 'O'},\n",
       "   {'caution': 'O'},\n",
       "   {'and': 'O'},\n",
       "   {'ensure': 'O'},\n",
       "   {'the': 'O'},\n",
       "   {'aircraft': 'B-COMPONENT'},\n",
       "   {'remains': 'O'},\n",
       "   {'within': 'O'},\n",
       "   {'your': 'O'},\n",
       "   {'line': 'O'},\n",
       "   {'of': 'O'},\n",
       "   {'sight.': 'O'}]},\n",
       " {'timestamp': Timestamp('2018-06-19 14:52:01'),\n",
       "  'entities': [{'High': 'B-ISSUE'},\n",
       "   {'wind': 'I-ISSUE'},\n",
       "   {'velocity.': 'I-ISSUE'},\n",
       "   {'Fly': 'O'},\n",
       "   {'with': 'O'},\n",
       "   {'caution': 'O'},\n",
       "   {'and': 'O'},\n",
       "   {'land': 'O'},\n",
       "   {'in': 'O'},\n",
       "   {'a': 'O'},\n",
       "   {'safe': 'O'},\n",
       "   {'place': 'O'},\n",
       "   {'ASAP.': 'O'}]},\n",
       " {'timestamp': Timestamp('2018-06-19 14:52:17'),\n",
       "  'entities': [{'Fly': 'O'},\n",
       "   {'with': 'O'},\n",
       "   {'caution': 'O'},\n",
       "   {'and': 'O'},\n",
       "   {'ensure': 'O'},\n",
       "   {'the': 'O'},\n",
       "   {'aircraft': 'B-COMPONENT'},\n",
       "   {'remains': 'O'},\n",
       "   {'within': 'O'},\n",
       "   {'your': 'O'},\n",
       "   {'line': 'O'},\n",
       "   {'of': 'O'},\n",
       "   {'sight.': 'O'}]},\n",
       " {'timestamp': Timestamp('2018-06-19 14:52:29'),\n",
       "  'entities': [{'Fly': 'O'},\n",
       "   {'with': 'O'},\n",
       "   {'caution': 'O'},\n",
       "   {'and': 'O'},\n",
       "   {'ensure': 'O'},\n",
       "   {'the': 'O'},\n",
       "   {'aircraft': 'B-COMPONENT'},\n",
       "   {'remains': 'O'},\n",
       "   {'within': 'O'},\n",
       "   {'your': 'O'},\n",
       "   {'line': 'O'},\n",
       "   {'of': 'O'},\n",
       "   {'sight.': 'O'}]},\n",
       " {'timestamp': Timestamp('2018-06-19 14:53:29'),\n",
       "  'entities': [{'Fly': 'O'},\n",
       "   {'with': 'O'},\n",
       "   {'caution': 'O'},\n",
       "   {'and': 'O'},\n",
       "   {'ensure': 'O'},\n",
       "   {'the': 'O'},\n",
       "   {'aircraft': 'B-COMPONENT'},\n",
       "   {'remains': 'O'},\n",
       "   {'within': 'O'},\n",
       "   {'your': 'O'},\n",
       "   {'line': 'O'},\n",
       "   {'of': 'O'},\n",
       "   {'sight.': 'O'}]},\n",
       " {'timestamp': Timestamp('2018-06-19 14:57:23'),\n",
       "  'entities': [{'Home': 'B-PARAMETER'},\n",
       "   {'Point': 'I-PARAMETER'},\n",
       "   {'recorded.': 'O'},\n",
       "   {'Return-to-Home': 'B-PARAMETER'},\n",
       "   {'Altitude:98FT': 'I-PARAMETER'}]},\n",
       " {'timestamp': Timestamp('2018-06-19 14:58:19'),\n",
       "  'entities': [{'High': 'B-ISSUE'},\n",
       "   {'wind': 'I-ISSUE'},\n",
       "   {'velocity.': 'I-ISSUE'},\n",
       "   {'Ensure': 'O'},\n",
       "   {'the': 'O'},\n",
       "   {'aircraft': 'B-COMPONENT'},\n",
       "   {'remains': 'O'},\n",
       "   {'within': 'O'},\n",
       "   {'your': 'O'},\n",
       "   {'line': 'O'},\n",
       "   {'of': 'O'},\n",
       "   {'sight': 'O'},\n",
       "   {'and': 'O'},\n",
       "   {'fly': 'O'},\n",
       "   {'with': 'O'},\n",
       "   {'caution.': 'O'}]},\n",
       " {'timestamp': Timestamp('2018-06-19 15:01:27'),\n",
       "  'entities': [{'High': 'B-ISSUE'},\n",
       "   {'wind': 'I-ISSUE'},\n",
       "   {'velocity.': 'I-ISSUE'},\n",
       "   {'Fly': 'O'},\n",
       "   {'with': 'O'},\n",
       "   {'caution': 'O'},\n",
       "   {'and': 'O'},\n",
       "   {'land': 'O'},\n",
       "   {'in': 'O'},\n",
       "   {'a': 'O'},\n",
       "   {'safe': 'O'},\n",
       "   {'place': 'O'},\n",
       "   {'ASAP.': 'O'}]},\n",
       " {'timestamp': Timestamp('2018-06-19 15:01:58'),\n",
       "  'entities': [{'The': 'O'},\n",
       "   {'remaining': 'O'},\n",
       "   {'battery': 'B-COMPONENT'},\n",
       "   {'is': 'O'},\n",
       "   {'only': 'O'},\n",
       "   {'enough': 'O'},\n",
       "   {'for': 'O'},\n",
       "   {'RTH.': 'B-ACTION'},\n",
       "   {'Return': 'O'},\n",
       "   {'home': 'O'},\n",
       "   {'now.': 'O'}]},\n",
       " {'timestamp': Timestamp('2018-06-19 15:01:58'),\n",
       "  'entities': [{'Warning': 'B-ACTION'}]},\n",
       " {'timestamp': Timestamp('2018-06-19 15:02:00'),\n",
       "  'entities': [{'Low': 'B-ISSUE'},\n",
       "   {'power.': 'I-ISSUE'},\n",
       "   {'Returning': 'B-ACTION'},\n",
       "   {'home.': 'I-ACTION'}]},\n",
       " {'timestamp': Timestamp('2018-06-19 15:03:00'),\n",
       "  'entities': [{'Obstacle': 'B-FUNCTION'},\n",
       "   {'Sensing': 'I-FUNCTION'},\n",
       "   {'will': 'O'},\n",
       "   {'be': 'O'},\n",
       "   {'disabled': 'O'},\n",
       "   {'when': 'O'},\n",
       "   {'aircraft': 'B-COMPONENT'},\n",
       "   {'is': 'O'},\n",
       "   {'landing.': 'O'},\n",
       "   {'Fly': 'O'},\n",
       "   {'with': 'O'},\n",
       "   {'caution.': 'O'}]},\n",
       " {'timestamp': Timestamp('2018-06-19 15:03:02'),\n",
       "  'entities': [{'Correcting': 'B-ACTION'},\n",
       "   {'Landing': 'B-PARAMETER'},\n",
       "   {'Position': 'I-PARAMETER'}]},\n",
       " {'timestamp': Timestamp('2018-06-19 15:03:02'),\n",
       "  'entities': [{'Precision': 'B-FUNCTION'}, {'Landing': 'I-FUNCTION'}]},\n",
       " {'timestamp': Timestamp('2018-06-19 15:03:09'),\n",
       "  'entities': [{'Precision': 'B-FUNCTION'}, {'Landing': 'I-FUNCTION'}]},\n",
       " {'timestamp': Timestamp('2018-06-19 15:03:09'),\n",
       "  'entities': [{'Correcting': 'B-ACTION'},\n",
       "   {'Landing': 'B-PARAMETER'},\n",
       "   {'Position': 'I-PARAMETER'}]},\n",
       " {'timestamp': Timestamp('2018-06-19 15:03:16'),\n",
       "  'entities': [{'Correcting': 'B-ACTION'},\n",
       "   {'Landing': 'B-PARAMETER'},\n",
       "   {'Position': 'I-PARAMETER'}]},\n",
       " {'timestamp': Timestamp('2018-06-19 15:03:16'),\n",
       "  'entities': [{'Precision': 'B-FUNCTION'}, {'Landing': 'I-FUNCTION'}]},\n",
       " {'timestamp': Timestamp('2018-06-19 15:03:22'),\n",
       "  'entities': [{'Precision': 'B-FUNCTION'}, {'Landing': 'I-FUNCTION'}]},\n",
       " {'timestamp': Timestamp('2018-06-19 15:03:22'),\n",
       "  'entities': [{'Correcting': 'B-ACTION'},\n",
       "   {'Landing': 'B-PARAMETER'},\n",
       "   {'Position': 'I-PARAMETER'}]},\n",
       " {'timestamp': Timestamp('2018-06-19 15:04:07'),\n",
       "  'entities': [{'Forward': 'B-FUNCTION'},\n",
       "   {'Obstacle': 'I-FUNCTION'},\n",
       "   {'Sensing': 'I-FUNCTION'},\n",
       "   {'is': 'O'},\n",
       "   {'not': 'O'},\n",
       "   {'functioning.': 'O'}]},\n",
       " {'timestamp': Timestamp('2018-06-19 15:04:07'),\n",
       "  'entities': [{'Ambient': 'B-PARAMETER'},\n",
       "   {'Light': 'I-FUNCTION'},\n",
       "   {'is': 'O'},\n",
       "   {'too': 'O'},\n",
       "   {'weak.': 'O'}]},\n",
       " {'timestamp': Timestamp('2018-06-19 15:04:09'),\n",
       "  'entities': [{'Backward': 'B-FUNCTION'},\n",
       "   {'Obstacle': 'I-FUNCTION'},\n",
       "   {'Sensing': 'I-FUNCTION'},\n",
       "   {'is': 'O'},\n",
       "   {'not': 'O'},\n",
       "   {'functioning.': 'O'}]},\n",
       " {'timestamp': Timestamp('2018-06-19 15:04:09'),\n",
       "  'entities': [{'Ambient': 'B-PARAMETER'},\n",
       "   {'Light': 'I-FUNCTION'},\n",
       "   {'is': 'O'},\n",
       "   {'too': 'O'},\n",
       "   {'weak.': 'O'}]},\n",
       " {'timestamp': Timestamp('2018-06-19 15:24:01'),\n",
       "  'entities': [{'Home': 'B-PARAMETER'},\n",
       "   {'Point': 'I-PARAMETER'},\n",
       "   {'Recorded.': 'O'},\n",
       "   {'RTH': 'B-PARAMETER'},\n",
       "   {'Altitude:Â': 'I-PARAMETER'},\n",
       "   {'30m.': 'O'}]},\n",
       " {'timestamp': Timestamp('2018-06-19 15:24:42'),\n",
       "  'entities': [{'Fly': 'O'},\n",
       "   {'with': 'O'},\n",
       "   {'caution': 'O'},\n",
       "   {'and': 'O'},\n",
       "   {'ensure': 'O'},\n",
       "   {'the': 'O'},\n",
       "   {'aircraft': 'B-COMPONENT'},\n",
       "   {'remains': 'O'},\n",
       "   {'within': 'O'},\n",
       "   {'your': 'O'},\n",
       "   {'line': 'O'},\n",
       "   {'of': 'O'},\n",
       "   {'sight.': 'O'}]},\n",
       " {'timestamp': Timestamp('2018-06-19 15:25:31'),\n",
       "  'entities': [{'Mobile': 'B-COMPONENT'},\n",
       "   {'device': 'I-COMPONENT'},\n",
       "   {'CPU': 'I-COMPONENT'},\n",
       "   {'fully': 'O'},\n",
       "   {'loaded.': 'O'},\n",
       "   {'Related': 'O'},\n",
       "   {'performance': 'O'},\n",
       "   {'will': 'O'},\n",
       "   {'be': 'O'},\n",
       "   {'affected.': 'O'}]},\n",
       " {'timestamp': Timestamp('2018-06-19 15:30:21'),\n",
       "  'entities': [{'Fly': 'O'},\n",
       "   {'with': 'O'},\n",
       "   {'caution': 'O'},\n",
       "   {'and': 'O'},\n",
       "   {'ensure': 'O'},\n",
       "   {'the': 'O'},\n",
       "   {'aircraft': 'B-COMPONENT'},\n",
       "   {'remains': 'O'},\n",
       "   {'within': 'O'},\n",
       "   {'your': 'O'},\n",
       "   {'line': 'O'},\n",
       "   {'of': 'O'},\n",
       "   {'sight.': 'O'}]},\n",
       " {'timestamp': Timestamp('2018-06-19 15:30:46'),\n",
       "  'entities': [{'Fly': 'O'},\n",
       "   {'with': 'O'},\n",
       "   {'caution': 'O'},\n",
       "   {'and': 'O'},\n",
       "   {'ensure': 'O'},\n",
       "   {'the': 'O'},\n",
       "   {'aircraft': 'B-COMPONENT'},\n",
       "   {'remains': 'O'},\n",
       "   {'within': 'O'},\n",
       "   {'your': 'O'},\n",
       "   {'line': 'O'},\n",
       "   {'of': 'O'},\n",
       "   {'sight.': 'O'}]},\n",
       " {'timestamp': Timestamp('2018-06-19 15:33:55'),\n",
       "  'entities': [{'Weak': 'B-ISSUE'},\n",
       "   {'GPS': 'I-ISSUE'},\n",
       "   {'signal.': 'I-ISSUE'},\n",
       "   {'Aircraft': 'B-COMPONENT'},\n",
       "   {'is': 'O'},\n",
       "   {'in': 'O'},\n",
       "   {'Attitude': 'B-STATE'},\n",
       "   {'mode': 'I-STATE'},\n",
       "   {'and': 'O'},\n",
       "   {'hovering': 'O'},\n",
       "   {'may': 'O'},\n",
       "   {'be': 'O'},\n",
       "   {'unstable.': 'O'},\n",
       "   {'Fly': 'O'},\n",
       "   {'with': 'O'},\n",
       "   {'caution.': 'O'}]},\n",
       " {'timestamp': Timestamp('2018-06-19 15:34:06'),\n",
       "  'entities': [{'Weak': 'B-ISSUE'},\n",
       "   {'GPS': 'I-ISSUE'},\n",
       "   {'signal.': 'I-ISSUE'},\n",
       "   {'Aircraft': 'B-COMPONENT'},\n",
       "   {'is': 'O'},\n",
       "   {'in': 'O'},\n",
       "   {'Attitude': 'B-STATE'},\n",
       "   {'mode': 'I-STATE'},\n",
       "   {'and': 'O'},\n",
       "   {'hovering': 'O'},\n",
       "   {'may': 'O'},\n",
       "   {'be': 'O'},\n",
       "   {'unstable.': 'O'},\n",
       "   {'Fly': 'O'},\n",
       "   {'with': 'O'},\n",
       "   {'caution.': 'O'}]},\n",
       " {'timestamp': Timestamp('2018-06-19 15:34:25'),\n",
       "  'entities': [{'Weak': 'B-ISSUE'},\n",
       "   {'GPS': 'I-ISSUE'},\n",
       "   {'signal.': 'I-ISSUE'},\n",
       "   {'Aircraft': 'B-COMPONENT'},\n",
       "   {'is': 'O'},\n",
       "   {'in': 'O'},\n",
       "   {'Attitude': 'B-STATE'},\n",
       "   {'mode': 'I-STATE'},\n",
       "   {'and': 'O'},\n",
       "   {'hovering': 'O'},\n",
       "   {'may': 'O'},\n",
       "   {'be': 'O'},\n",
       "   {'unstable.': 'O'},\n",
       "   {'Fly': 'O'},\n",
       "   {'with': 'O'},\n",
       "   {'caution.': 'O'}]},\n",
       " {'timestamp': Timestamp('2018-06-19 15:34:39'),\n",
       "  'entities': [{'Home': 'B-PARAMETER'},\n",
       "   {'Point': 'I-PARAMETER'},\n",
       "   {'recorded.': 'O'},\n",
       "   {'Return-to-Home': 'B-PARAMETER'},\n",
       "   {'Altitude:98FT': 'I-PARAMETER'}]},\n",
       " {'timestamp': Timestamp('2018-06-19 15:34:59'),\n",
       "  'entities': [{'Home': 'B-PARAMETER'},\n",
       "   {'Point': 'I-PARAMETER'},\n",
       "   {'recorded.': 'O'},\n",
       "   {'Return-to-Home': 'B-PARAMETER'},\n",
       "   {'Altitude:98FT': 'I-PARAMETER'}]},\n",
       " {'timestamp': Timestamp('2018-06-19 15:39:36'),\n",
       "  'entities': [{'Aircraft': 'B-COMPONENT'},\n",
       "   {'is': 'O'},\n",
       "   {'close': 'O'},\n",
       "   {'to': 'O'},\n",
       "   {'the': 'O'},\n",
       "   {'Home': 'B-PARAMETER'},\n",
       "   {'Point.': 'I-PARAMETER'},\n",
       "   {'Initiating': 'O'},\n",
       "   {'Return': 'B-ACTION'},\n",
       "   {'to': 'I-ACTION'},\n",
       "   {'Home': 'I-ACTION'},\n",
       "   {'will': 'O'},\n",
       "   {'now': 'O'},\n",
       "   {'trigger': 'O'},\n",
       "   {'Auto': 'B-STATE'},\n",
       "   {'Landing.': 'I-STATE'}]}]"
      ]
     },
     "execution_count": 71,
     "metadata": {},
     "output_type": "execute_result"
    }
   ],
   "source": [
    "pred_list"
   ]
  },
  {
   "cell_type": "code",
   "execution_count": 69,
   "id": "e3e218cf",
   "metadata": {},
   "outputs": [
    {
     "name": "stdout",
     "output_type": "stream",
     "text": [
      "173\n"
     ]
    }
   ],
   "source": [
    "print(len(pred_list))"
   ]
  },
  {
   "cell_type": "code",
   "execution_count": 78,
   "id": "592ef69c",
   "metadata": {},
   "outputs": [
    {
     "name": "stdout",
     "output_type": "stream",
     "text": [
      "2018-06-15 11:07:46\n",
      "[{'Aircraft': 'O'}, {'is': 'O'}, {'in': 'O'}, {'Attitude': 'O'}, {'mode,': 'O'}, {'so': 'O'}, {'that': 'O'}, {'it': 'O'}, {'will': 'O'}, {'not': 'O'}, {'hover.': 'O'}, {'Please': 'O'}, {'fly': 'O'}, {'with': 'O'}, {'caution.': 'O'}]\n",
      "word: Aircraft, tag: O\n",
      "word: is, tag: O\n",
      "word: in, tag: O\n",
      "word: Attitude, tag: O\n",
      "word: mode,, tag: O\n",
      "word: so, tag: O\n",
      "word: that, tag: O\n",
      "word: it, tag: O\n",
      "word: will, tag: O\n",
      "word: not, tag: O\n",
      "word: hover., tag: O\n",
      "word: Please, tag: O\n",
      "word: fly, tag: O\n",
      "word: with, tag: O\n",
      "word: caution., tag: O\n",
      "2018-06-15 11:08:00\n",
      "[{'Aircraft': 'O'}, {'is': 'O'}, {'in': 'O'}, {'Attitude': 'O'}, {'mode,': 'O'}, {'so': 'O'}, {'that': 'O'}, {'it': 'O'}, {'will': 'O'}, {'not': 'O'}, {'hover.': 'O'}, {'Please': 'O'}, {'fly': 'O'}, {'with': 'O'}, {'caution.': 'O'}]\n",
      "word: Aircraft, tag: O\n",
      "word: is, tag: O\n",
      "word: in, tag: O\n",
      "word: Attitude, tag: O\n",
      "word: mode,, tag: O\n",
      "word: so, tag: O\n",
      "word: that, tag: O\n",
      "word: it, tag: O\n",
      "word: will, tag: O\n",
      "word: not, tag: O\n",
      "word: hover., tag: O\n",
      "word: Please, tag: O\n",
      "word: fly, tag: O\n",
      "word: with, tag: O\n",
      "word: caution., tag: O\n",
      "2018-06-15 11:08:02\n",
      "[{'Aircraft': 'O'}, {'is': 'O'}, {'in': 'O'}, {'Attitude': 'O'}, {'mode,': 'O'}, {'so': 'O'}, {'that': 'O'}, {'it': 'O'}, {'will': 'O'}, {'not': 'O'}, {'hover.': 'O'}, {'Please': 'O'}, {'fly': 'O'}, {'with': 'O'}, {'caution.': 'O'}]\n",
      "word: Aircraft, tag: O\n",
      "word: is, tag: O\n",
      "word: in, tag: O\n",
      "word: Attitude, tag: O\n",
      "word: mode,, tag: O\n",
      "word: so, tag: O\n",
      "word: that, tag: O\n",
      "word: it, tag: O\n",
      "word: will, tag: O\n",
      "word: not, tag: O\n",
      "word: hover., tag: O\n",
      "word: Please, tag: O\n",
      "word: fly, tag: O\n",
      "word: with, tag: O\n",
      "word: caution., tag: O\n",
      "2018-06-15 11:08:15\n",
      "[{'Aircraft': 'O'}, {'is': 'O'}, {'in': 'O'}, {'Attitude': 'O'}, {'mode,': 'O'}, {'so': 'O'}, {'that': 'O'}, {'it': 'O'}, {'will': 'O'}, {'not': 'O'}, {'hover.': 'O'}, {'Please': 'O'}, {'fly': 'O'}, {'with': 'O'}, {'caution.': 'O'}]\n",
      "word: Aircraft, tag: O\n",
      "word: is, tag: O\n",
      "word: in, tag: O\n",
      "word: Attitude, tag: O\n",
      "word: mode,, tag: O\n",
      "word: so, tag: O\n",
      "word: that, tag: O\n",
      "word: it, tag: O\n",
      "word: will, tag: O\n",
      "word: not, tag: O\n",
      "word: hover., tag: O\n",
      "word: Please, tag: O\n",
      "word: fly, tag: O\n",
      "word: with, tag: O\n",
      "word: caution., tag: O\n",
      "2018-06-15 11:08:19\n",
      "[{'Cannot': 'O'}, {'Takeoff': 'O'}, {'in': 'O'}, {'Travel': 'B-PARAMETER'}, {'Mode.': 'I-PARAMETER'}, {'Exit': 'B-ACTION'}, {'Travel': 'B-PARAMETER'}, {'Mode.': 'I-STATE'}]\n",
      "word: Cannot, tag: O\n",
      "word: Takeoff, tag: O\n",
      "word: in, tag: O\n",
      "word: Travel, tag: B-PARAMETER\n",
      "word: Mode., tag: I-PARAMETER\n",
      "word: Exit, tag: B-ACTION\n",
      "word: Travel, tag: B-PARAMETER\n",
      "word: Mode., tag: I-STATE\n",
      "2018-06-15 11:08:38\n",
      "[{'Cannot': 'O'}, {'Takeoff': 'O'}, {'in': 'O'}, {'Travel': 'B-PARAMETER'}, {'Mode.': 'I-PARAMETER'}, {'Exit': 'B-ACTION'}, {'Travel': 'B-PARAMETER'}, {'Mode.': 'I-STATE'}]\n",
      "word: Cannot, tag: O\n",
      "word: Takeoff, tag: O\n",
      "word: in, tag: O\n",
      "word: Travel, tag: B-PARAMETER\n",
      "word: Mode., tag: I-PARAMETER\n",
      "word: Exit, tag: B-ACTION\n",
      "word: Travel, tag: B-PARAMETER\n",
      "word: Mode., tag: I-STATE\n",
      "2018-06-15 11:08:48\n",
      "[{'Cannot': 'O'}, {'Takeoff': 'O'}, {'in': 'O'}, {'Travel': 'B-PARAMETER'}, {'Mode.': 'I-PARAMETER'}, {'Exit': 'B-ACTION'}, {'Travel': 'B-PARAMETER'}, {'Mode.': 'I-STATE'}]\n",
      "word: Cannot, tag: O\n",
      "word: Takeoff, tag: O\n",
      "word: in, tag: O\n",
      "word: Travel, tag: B-PARAMETER\n",
      "word: Mode., tag: I-PARAMETER\n",
      "word: Exit, tag: B-ACTION\n",
      "word: Travel, tag: B-PARAMETER\n",
      "word: Mode., tag: I-STATE\n",
      "2018-06-15 11:09:09\n",
      "[{'Aircraft': 'O'}, {'is': 'O'}, {'in': 'O'}, {'Attitude': 'O'}, {'mode,': 'O'}, {'so': 'O'}, {'that': 'O'}, {'it': 'O'}, {'will': 'O'}, {'not': 'O'}, {'hover.': 'O'}, {'Please': 'O'}, {'fly': 'O'}, {'with': 'O'}, {'caution.': 'O'}]\n",
      "word: Aircraft, tag: O\n",
      "word: is, tag: O\n",
      "word: in, tag: O\n",
      "word: Attitude, tag: O\n",
      "word: mode,, tag: O\n",
      "word: so, tag: O\n",
      "word: that, tag: O\n",
      "word: it, tag: O\n",
      "word: will, tag: O\n",
      "word: not, tag: O\n",
      "word: hover., tag: O\n",
      "word: Please, tag: O\n",
      "word: fly, tag: O\n",
      "word: with, tag: O\n",
      "word: caution., tag: O\n",
      "2018-06-15 11:09:16\n",
      "[{'Aircraft': 'O'}, {'is': 'O'}, {'in': 'O'}, {'Attitude': 'O'}, {'mode,': 'O'}, {'so': 'O'}, {'that': 'O'}, {'it': 'O'}, {'will': 'O'}, {'not': 'O'}, {'hover.': 'O'}, {'Please': 'O'}, {'fly': 'O'}, {'with': 'O'}, {'caution.': 'O'}]\n",
      "word: Aircraft, tag: O\n",
      "word: is, tag: O\n",
      "word: in, tag: O\n",
      "word: Attitude, tag: O\n",
      "word: mode,, tag: O\n",
      "word: so, tag: O\n",
      "word: that, tag: O\n",
      "word: it, tag: O\n",
      "word: will, tag: O\n",
      "word: not, tag: O\n",
      "word: hover., tag: O\n",
      "word: Please, tag: O\n",
      "word: fly, tag: O\n",
      "word: with, tag: O\n",
      "word: caution., tag: O\n",
      "2018-06-15 11:09:18\n",
      "[{'Aircraft': 'O'}, {'is': 'O'}, {'in': 'O'}, {'Attitude': 'O'}, {'mode,': 'O'}, {'so': 'O'}, {'that': 'O'}, {'it': 'O'}, {'will': 'O'}, {'not': 'O'}, {'hover.': 'O'}, {'Please': 'O'}, {'fly': 'O'}, {'with': 'O'}, {'caution.': 'O'}]\n",
      "word: Aircraft, tag: O\n",
      "word: is, tag: O\n",
      "word: in, tag: O\n",
      "word: Attitude, tag: O\n",
      "word: mode,, tag: O\n",
      "word: so, tag: O\n",
      "word: that, tag: O\n",
      "word: it, tag: O\n",
      "word: will, tag: O\n",
      "word: not, tag: O\n",
      "word: hover., tag: O\n",
      "word: Please, tag: O\n",
      "word: fly, tag: O\n",
      "word: with, tag: O\n",
      "word: caution., tag: O\n",
      "2018-06-15 11:09:26\n",
      "[{'Aircraft': 'O'}, {'is': 'O'}, {'in': 'O'}, {'Attitude': 'O'}, {'mode,': 'O'}, {'so': 'O'}, {'that': 'O'}, {'it': 'O'}, {'will': 'O'}, {'not': 'O'}, {'hover.': 'O'}, {'Please': 'O'}, {'fly': 'O'}, {'with': 'O'}, {'caution.': 'O'}]\n",
      "word: Aircraft, tag: O\n",
      "word: is, tag: O\n",
      "word: in, tag: O\n",
      "word: Attitude, tag: O\n",
      "word: mode,, tag: O\n",
      "word: so, tag: O\n",
      "word: that, tag: O\n",
      "word: it, tag: O\n",
      "word: will, tag: O\n",
      "word: not, tag: O\n",
      "word: hover., tag: O\n",
      "word: Please, tag: O\n",
      "word: fly, tag: O\n",
      "word: with, tag: O\n",
      "word: caution., tag: O\n",
      "2018-06-15 11:09:32\n",
      "[{'Cannot': 'O'}, {'Takeoff': 'O'}, {'in': 'O'}, {'Travel': 'B-PARAMETER'}, {'Mode.': 'I-PARAMETER'}, {'Exit': 'B-ACTION'}, {'Travel': 'B-PARAMETER'}, {'Mode.': 'I-STATE'}]\n",
      "word: Cannot, tag: O\n",
      "word: Takeoff, tag: O\n",
      "word: in, tag: O\n",
      "word: Travel, tag: B-PARAMETER\n",
      "word: Mode., tag: I-PARAMETER\n",
      "word: Exit, tag: B-ACTION\n",
      "word: Travel, tag: B-PARAMETER\n",
      "word: Mode., tag: I-STATE\n",
      "2018-06-15 11:10:09\n",
      "[{'Aircraft': 'O'}, {'is': 'O'}, {'in': 'O'}, {'Attitude': 'O'}, {'mode,': 'O'}, {'so': 'O'}, {'that': 'O'}, {'it': 'O'}, {'will': 'O'}, {'not': 'O'}, {'hover.': 'O'}, {'Please': 'O'}, {'fly': 'O'}, {'with': 'O'}, {'caution.': 'O'}]\n",
      "word: Aircraft, tag: O\n",
      "word: is, tag: O\n",
      "word: in, tag: O\n",
      "word: Attitude, tag: O\n",
      "word: mode,, tag: O\n",
      "word: so, tag: O\n",
      "word: that, tag: O\n",
      "word: it, tag: O\n",
      "word: will, tag: O\n",
      "word: not, tag: O\n",
      "word: hover., tag: O\n",
      "word: Please, tag: O\n",
      "word: fly, tag: O\n",
      "word: with, tag: O\n",
      "word: caution., tag: O\n",
      "2018-06-15 11:10:20\n",
      "[{'Aircraft': 'O'}, {'is': 'O'}, {'in': 'O'}, {'Attitude': 'O'}, {'mode,': 'O'}, {'so': 'O'}, {'that': 'O'}, {'it': 'O'}, {'will': 'O'}, {'not': 'O'}, {'hover.': 'O'}, {'Please': 'O'}, {'fly': 'O'}, {'with': 'O'}, {'caution.': 'O'}]\n",
      "word: Aircraft, tag: O\n",
      "word: is, tag: O\n",
      "word: in, tag: O\n",
      "word: Attitude, tag: O\n",
      "word: mode,, tag: O\n",
      "word: so, tag: O\n",
      "word: that, tag: O\n",
      "word: it, tag: O\n",
      "word: will, tag: O\n",
      "word: not, tag: O\n",
      "word: hover., tag: O\n",
      "word: Please, tag: O\n",
      "word: fly, tag: O\n",
      "word: with, tag: O\n",
      "word: caution., tag: O\n",
      "2018-06-15 11:11:30\n",
      "[{'Aircraft': 'O'}, {'is': 'O'}, {'in': 'O'}, {'Attitude': 'O'}, {'mode,': 'O'}, {'so': 'O'}, {'that': 'O'}, {'it': 'O'}, {'will': 'O'}, {'not': 'O'}, {'hover.': 'O'}, {'Please': 'O'}, {'fly': 'O'}, {'with': 'O'}, {'caution.': 'O'}]\n",
      "word: Aircraft, tag: O\n",
      "word: is, tag: O\n",
      "word: in, tag: O\n",
      "word: Attitude, tag: O\n",
      "word: mode,, tag: O\n",
      "word: so, tag: O\n",
      "word: that, tag: O\n",
      "word: it, tag: O\n",
      "word: will, tag: O\n",
      "word: not, tag: O\n",
      "word: hover., tag: O\n",
      "word: Please, tag: O\n",
      "word: fly, tag: O\n",
      "word: with, tag: O\n",
      "word: caution., tag: O\n",
      "2018-06-15 11:11:54\n",
      "[{'Cannot': 'O'}, {'Takeoff': 'O'}, {'in': 'O'}, {'Travel': 'B-PARAMETER'}, {'Mode.': 'I-PARAMETER'}, {'Exit': 'B-ACTION'}, {'Travel': 'B-PARAMETER'}, {'Mode.': 'I-STATE'}]\n",
      "word: Cannot, tag: O\n",
      "word: Takeoff, tag: O\n",
      "word: in, tag: O\n",
      "word: Travel, tag: B-PARAMETER\n",
      "word: Mode., tag: I-PARAMETER\n",
      "word: Exit, tag: B-ACTION\n",
      "word: Travel, tag: B-PARAMETER\n",
      "word: Mode., tag: I-STATE\n",
      "2018-06-15 11:12:56\n",
      "[{'Aircraft': 'O'}, {'is': 'O'}, {'in': 'O'}, {'Attitude': 'O'}, {'mode,': 'O'}, {'so': 'O'}, {'that': 'O'}, {'it': 'O'}, {'will': 'O'}, {'not': 'O'}, {'hover.': 'O'}, {'Please': 'O'}, {'fly': 'O'}, {'with': 'O'}, {'caution.': 'O'}]\n",
      "word: Aircraft, tag: O\n",
      "word: is, tag: O\n",
      "word: in, tag: O\n",
      "word: Attitude, tag: O\n",
      "word: mode,, tag: O\n",
      "word: so, tag: O\n",
      "word: that, tag: O\n",
      "word: it, tag: O\n",
      "word: will, tag: O\n",
      "word: not, tag: O\n",
      "word: hover., tag: O\n",
      "word: Please, tag: O\n",
      "word: fly, tag: O\n",
      "word: with, tag: O\n",
      "word: caution., tag: O\n",
      "2018-06-15 11:14:15\n",
      "[{'Take': 'O'}, {'off': 'O'}, {'and': 'O'}, {'retry': 'O'}, {'this': 'O'}, {'function.': 'O'}]\n",
      "word: Take, tag: O\n",
      "word: off, tag: O\n",
      "word: and, tag: O\n",
      "word: retry, tag: O\n",
      "word: this, tag: O\n",
      "word: function., tag: O\n",
      "2018-06-15 11:14:20\n",
      "[{'Cannot': 'O'}, {'Takeoff': 'O'}, {'in': 'O'}, {'Travel': 'B-PARAMETER'}, {'Mode.': 'I-PARAMETER'}, {'Exit': 'B-ACTION'}, {'Travel': 'B-PARAMETER'}, {'Mode.': 'I-STATE'}]\n",
      "word: Cannot, tag: O\n",
      "word: Takeoff, tag: O\n",
      "word: in, tag: O\n",
      "word: Travel, tag: B-PARAMETER\n",
      "word: Mode., tag: I-PARAMETER\n",
      "word: Exit, tag: B-ACTION\n",
      "word: Travel, tag: B-PARAMETER\n",
      "word: Mode., tag: I-STATE\n",
      "2018-06-15 11:14:56\n",
      "[{'Aircraft': 'O'}, {'is': 'O'}, {'in': 'O'}, {'Attitude': 'O'}, {'mode,': 'O'}, {'so': 'O'}, {'that': 'O'}, {'it': 'O'}, {'will': 'O'}, {'not': 'O'}, {'hover.': 'O'}, {'Please': 'O'}, {'fly': 'O'}, {'with': 'O'}, {'caution.': 'O'}]\n",
      "word: Aircraft, tag: O\n",
      "word: is, tag: O\n",
      "word: in, tag: O\n",
      "word: Attitude, tag: O\n",
      "word: mode,, tag: O\n",
      "word: so, tag: O\n",
      "word: that, tag: O\n",
      "word: it, tag: O\n",
      "word: will, tag: O\n",
      "word: not, tag: O\n",
      "word: hover., tag: O\n",
      "word: Please, tag: O\n",
      "word: fly, tag: O\n",
      "word: with, tag: O\n",
      "word: caution., tag: O\n",
      "2018-06-15 11:14:59\n",
      "[{'Aircraft': 'O'}, {'is': 'O'}, {'in': 'O'}, {'Attitude': 'O'}, {'mode,': 'O'}, {'so': 'O'}, {'that': 'O'}, {'it': 'O'}, {'will': 'O'}, {'not': 'O'}, {'hover.': 'O'}, {'Please': 'O'}, {'fly': 'O'}, {'with': 'O'}, {'caution.': 'O'}]\n",
      "word: Aircraft, tag: O\n",
      "word: is, tag: O\n",
      "word: in, tag: O\n",
      "word: Attitude, tag: O\n",
      "word: mode,, tag: O\n",
      "word: so, tag: O\n",
      "word: that, tag: O\n",
      "word: it, tag: O\n",
      "word: will, tag: O\n",
      "word: not, tag: O\n",
      "word: hover., tag: O\n",
      "word: Please, tag: O\n",
      "word: fly, tag: O\n",
      "word: with, tag: O\n",
      "word: caution., tag: O\n",
      "2018-06-15 11:15:12\n",
      "[{'Take': 'O'}, {'off': 'O'}, {'in': 'O'}, {'P-Mode': 'B-STATE'}]\n",
      "word: Take, tag: O\n",
      "word: off, tag: O\n",
      "word: in, tag: O\n",
      "word: P-Mode, tag: B-STATE\n",
      "2018-06-15 11:15:57\n",
      "[{'Cannot': 'O'}, {'Takeoff': 'O'}, {'in': 'O'}, {'Travel': 'B-PARAMETER'}, {'Mode.': 'I-PARAMETER'}, {'Exit': 'B-ACTION'}, {'Travel': 'B-PARAMETER'}, {'Mode.': 'I-STATE'}]\n",
      "word: Cannot, tag: O\n",
      "word: Takeoff, tag: O\n",
      "word: in, tag: O\n",
      "word: Travel, tag: B-PARAMETER\n",
      "word: Mode., tag: I-PARAMETER\n",
      "word: Exit, tag: B-ACTION\n",
      "word: Travel, tag: B-PARAMETER\n",
      "word: Mode., tag: I-STATE\n",
      "2018-06-15 11:16:38\n",
      "[{'Landing': 'B-COMPONENT'}, {'Gear': 'I-COMPONENT'}, {'Lowering': 'O'}]\n",
      "word: Landing, tag: B-COMPONENT\n",
      "word: Gear, tag: I-COMPONENT\n",
      "word: Lowering, tag: O\n",
      "2018-06-15 11:16:41\n",
      "[{'Landing': 'B-COMPONENT'}, {'Gear': 'I-COMPONENT'}, {'Lowered': 'O'}]\n",
      "word: Landing, tag: B-COMPONENT\n",
      "word: Gear, tag: I-COMPONENT\n",
      "word: Lowered, tag: O\n",
      "2018-06-15 11:16:44\n",
      "[{'Aircraft': 'O'}, {'is': 'O'}, {'in': 'O'}, {'Attitude': 'O'}, {'mode,': 'O'}, {'so': 'O'}, {'that': 'O'}, {'it': 'O'}, {'will': 'O'}, {'not': 'O'}, {'hover.': 'O'}, {'Please': 'O'}, {'fly': 'O'}, {'with': 'O'}, {'caution.': 'O'}]\n",
      "word: Aircraft, tag: O\n",
      "word: is, tag: O\n",
      "word: in, tag: O\n",
      "word: Attitude, tag: O\n",
      "word: mode,, tag: O\n",
      "word: so, tag: O\n",
      "word: that, tag: O\n",
      "word: it, tag: O\n",
      "word: will, tag: O\n",
      "word: not, tag: O\n",
      "word: hover., tag: O\n",
      "word: Please, tag: O\n",
      "word: fly, tag: O\n",
      "word: with, tag: O\n",
      "word: caution., tag: O\n",
      "2018-06-15 11:17:46\n",
      "[{'Return-to-Home': 'B-PARAMETER'}, {'Altitude:65FT': 'I-PARAMETER'}]\n",
      "word: Return-to-Home, tag: B-PARAMETER\n",
      "word: Altitude:65FT, tag: I-PARAMETER\n",
      "2018-06-15 11:18:23\n",
      "[{'Landing': 'B-ACTION'}]\n",
      "word: Landing, tag: B-ACTION\n",
      "2018-06-15 11:18:40\n",
      "[{'Take': 'O'}, {'off': 'O'}, {'in': 'O'}, {'P-Mode': 'B-STATE'}]\n",
      "word: Take, tag: O\n",
      "word: off, tag: O\n",
      "word: in, tag: O\n",
      "word: P-Mode, tag: B-STATE\n",
      "2018-06-15 11:19:03\n",
      "[{'Flight': 'B-PARAMETER'}, {'Mode': 'I-PARAMETER'}, {'Set': 'O'}, {'to': 'O'}, {'Attitude': 'O'}]\n",
      "word: Flight, tag: B-PARAMETER\n",
      "word: Mode, tag: I-PARAMETER\n",
      "word: Set, tag: O\n",
      "word: to, tag: O\n",
      "word: Attitude, tag: O\n",
      "2018-06-15 11:19:03\n",
      "[{'Set': 'O'}, {'Flight': 'B-PARAMETER'}, {'Mode': 'I-PARAMETER'}, {'to': 'O'}, {'GPS': 'I-STATE'}, {'to': 'O'}, {'fly': 'O'}, {'safe': 'O'}]\n",
      "word: Set, tag: O\n",
      "word: Flight, tag: B-PARAMETER\n",
      "word: Mode, tag: I-PARAMETER\n",
      "word: to, tag: O\n",
      "word: GPS, tag: I-STATE\n",
      "word: to, tag: O\n",
      "word: fly, tag: O\n",
      "word: safe, tag: O\n",
      "2018-06-15 11:19:32\n",
      "[{'Aircraft': 'O'}, {'is': 'O'}, {'in': 'O'}, {'Attitude': 'O'}, {'mode,': 'O'}, {'so': 'O'}, {'that': 'O'}, {'it': 'O'}, {'will': 'O'}, {'not': 'O'}, {'hover.': 'O'}, {'Please': 'O'}, {'fly': 'O'}, {'with': 'O'}, {'caution.': 'O'}]\n",
      "word: Aircraft, tag: O\n",
      "word: is, tag: O\n",
      "word: in, tag: O\n",
      "word: Attitude, tag: O\n",
      "word: mode,, tag: O\n",
      "word: so, tag: O\n",
      "word: that, tag: O\n",
      "word: it, tag: O\n",
      "word: will, tag: O\n",
      "word: not, tag: O\n",
      "word: hover., tag: O\n",
      "word: Please, tag: O\n",
      "word: fly, tag: O\n",
      "word: with, tag: O\n",
      "word: caution., tag: O\n",
      "2018-06-15 11:19:37\n",
      "[{'Take': 'O'}, {'off': 'O'}, {'and': 'O'}, {'retry': 'O'}, {'this': 'O'}, {'function.': 'O'}]\n",
      "word: Take, tag: O\n",
      "word: off, tag: O\n",
      "word: and, tag: O\n",
      "word: retry, tag: O\n",
      "word: this, tag: O\n",
      "word: function., tag: O\n",
      "2018-06-15 11:19:41\n",
      "[{'Flight': 'B-PARAMETER'}, {'Mode': 'I-PARAMETER'}, {'Set': 'O'}, {'to': 'O'}, {'Attitude': 'O'}]\n",
      "word: Flight, tag: B-PARAMETER\n",
      "word: Mode, tag: I-PARAMETER\n",
      "word: Set, tag: O\n",
      "word: to, tag: O\n",
      "word: Attitude, tag: O\n",
      "2018-06-15 11:19:41\n",
      "[{'Set': 'O'}, {'Flight': 'B-PARAMETER'}, {'Mode': 'I-PARAMETER'}, {'to': 'O'}, {'GPS': 'I-STATE'}, {'to': 'O'}, {'fly': 'O'}, {'safe': 'O'}]\n",
      "word: Set, tag: O\n",
      "word: Flight, tag: B-PARAMETER\n",
      "word: Mode, tag: I-PARAMETER\n",
      "word: to, tag: O\n",
      "word: GPS, tag: I-STATE\n",
      "word: to, tag: O\n",
      "word: fly, tag: O\n",
      "word: safe, tag: O\n",
      "2018-06-15 11:19:44\n",
      "[{'Take': 'O'}, {'off': 'O'}, {'and': 'O'}, {'retry': 'O'}, {'this': 'O'}, {'function.': 'O'}]\n",
      "word: Take, tag: O\n",
      "word: off, tag: O\n",
      "word: and, tag: O\n",
      "word: retry, tag: O\n",
      "word: this, tag: O\n",
      "word: function., tag: O\n",
      "2018-06-15 11:19:49\n",
      "[{'Aircraft': 'O'}, {'is': 'O'}, {'in': 'O'}, {'Attitude': 'O'}, {'mode,': 'O'}, {'so': 'O'}, {'that': 'O'}, {'it': 'O'}, {'will': 'O'}, {'not': 'O'}, {'hover.': 'O'}, {'Please': 'O'}, {'fly': 'O'}, {'with': 'O'}, {'caution.': 'O'}]\n",
      "word: Aircraft, tag: O\n",
      "word: is, tag: O\n",
      "word: in, tag: O\n",
      "word: Attitude, tag: O\n",
      "word: mode,, tag: O\n",
      "word: so, tag: O\n",
      "word: that, tag: O\n",
      "word: it, tag: O\n",
      "word: will, tag: O\n",
      "word: not, tag: O\n",
      "word: hover., tag: O\n",
      "word: Please, tag: O\n",
      "word: fly, tag: O\n",
      "word: with, tag: O\n",
      "word: caution., tag: O\n",
      "2018-06-15 11:28:01\n",
      "[{'Take': 'O'}, {'off': 'O'}, {'in': 'O'}, {'P-Mode': 'B-STATE'}]\n",
      "word: Take, tag: O\n",
      "word: off, tag: O\n",
      "word: in, tag: O\n",
      "word: P-Mode, tag: B-STATE\n",
      "2018-06-15 11:29:52\n",
      "[{'Take': 'O'}, {'off': 'O'}, {'in': 'O'}, {'P-Mode': 'B-STATE'}]\n",
      "word: Take, tag: O\n",
      "word: off, tag: O\n",
      "word: in, tag: O\n",
      "word: P-Mode, tag: B-STATE\n",
      "2018-06-15 11:32:10\n",
      "[{'Take': 'O'}, {'off': 'O'}, {'in': 'O'}, {'P-Mode': 'B-STATE'}]\n",
      "word: Take, tag: O\n",
      "word: off, tag: O\n",
      "word: in, tag: O\n",
      "word: P-Mode, tag: B-STATE\n",
      "2018-06-15 11:32:24\n",
      "[{'Aircraft': 'O'}, {'is': 'O'}, {'in': 'O'}, {'Attitude': 'O'}, {'mode,': 'O'}, {'so': 'O'}, {'that': 'O'}, {'it': 'O'}, {'will': 'O'}, {'not': 'O'}, {'hover.': 'O'}, {'Please': 'O'}, {'fly': 'O'}, {'with': 'O'}, {'caution.': 'O'}]\n",
      "word: Aircraft, tag: O\n",
      "word: is, tag: O\n",
      "word: in, tag: O\n",
      "word: Attitude, tag: O\n",
      "word: mode,, tag: O\n",
      "word: so, tag: O\n",
      "word: that, tag: O\n",
      "word: it, tag: O\n",
      "word: will, tag: O\n",
      "word: not, tag: O\n",
      "word: hover., tag: O\n",
      "word: Please, tag: O\n",
      "word: fly, tag: O\n",
      "word: with, tag: O\n",
      "word: caution., tag: O\n",
      "2018-06-15 11:32:34\n",
      "[{'Aircraft': 'O'}, {'is': 'O'}, {'in': 'O'}, {'Attitude': 'O'}, {'mode,': 'O'}, {'so': 'O'}, {'that': 'O'}, {'it': 'O'}, {'will': 'O'}, {'not': 'O'}, {'hover.': 'O'}, {'Please': 'O'}, {'fly': 'O'}, {'with': 'O'}, {'caution.': 'O'}]\n",
      "word: Aircraft, tag: O\n",
      "word: is, tag: O\n",
      "word: in, tag: O\n",
      "word: Attitude, tag: O\n",
      "word: mode,, tag: O\n",
      "word: so, tag: O\n",
      "word: that, tag: O\n",
      "word: it, tag: O\n",
      "word: will, tag: O\n",
      "word: not, tag: O\n",
      "word: hover., tag: O\n",
      "word: Please, tag: O\n",
      "word: fly, tag: O\n",
      "word: with, tag: O\n",
      "word: caution., tag: O\n",
      "2018-06-15 11:32:40\n",
      "[{'Landing': 'B-COMPONENT'}, {'Gear': 'I-COMPONENT'}, {'Raising': 'O'}]\n",
      "word: Landing, tag: B-COMPONENT\n",
      "word: Gear, tag: I-COMPONENT\n",
      "word: Raising, tag: O\n",
      "2018-06-15 11:32:43\n",
      "[{'Landing': 'B-COMPONENT'}, {'Gear': 'I-COMPONENT'}, {'Paused': 'O'}]\n",
      "word: Landing, tag: B-COMPONENT\n",
      "word: Gear, tag: I-COMPONENT\n",
      "word: Paused, tag: O\n",
      "2018-06-15 17:17:46\n",
      "[{'Data': 'B-COMPONENT'}, {'Recorder': 'I-COMPONENT'}, {'File': 'B-PARAMETER'}, {'Index': 'I-PARAMETER'}, {'is': 'O'}, {'5.': 'O'}]\n",
      "word: Data, tag: B-COMPONENT\n",
      "word: Recorder, tag: I-COMPONENT\n",
      "word: File, tag: B-PARAMETER\n",
      "word: Index, tag: I-PARAMETER\n",
      "word: is, tag: O\n",
      "word: 5., tag: O\n",
      "2018-06-15 17:17:47\n",
      "[{'RTH': 'B-PARAMETER'}, {'Altitude:': 'I-PARAMETER'}, {'65FT.': 'O'}]\n",
      "word: RTH, tag: B-PARAMETER\n",
      "word: Altitude:, tag: I-PARAMETER\n",
      "word: 65FT., tag: O\n",
      "2018-06-15 17:18:23\n",
      "[{'Landing.': 'B-ACTION'}]\n",
      "word: Landing., tag: B-ACTION\n",
      "2018-06-19 00:00:30\n",
      "[{'High': 'B-ISSUE'}, {'wind': 'I-ISSUE'}, {'velocity.': 'I-ISSUE'}, {'Ensure': 'O'}, {'the': 'O'}, {'aircraft': 'B-COMPONENT'}, {'remains': 'O'}, {'within': 'O'}, {'your': 'O'}, {'line': 'O'}, {'of': 'O'}, {'sight': 'O'}, {'and': 'O'}, {'fly': 'O'}, {'with': 'O'}, {'caution.': 'O'}]\n",
      "word: High, tag: B-ISSUE\n",
      "word: wind, tag: I-ISSUE\n",
      "word: velocity., tag: I-ISSUE\n",
      "word: Ensure, tag: O\n",
      "word: the, tag: O\n",
      "word: aircraft, tag: B-COMPONENT\n",
      "word: remains, tag: O\n",
      "word: within, tag: O\n",
      "word: your, tag: O\n",
      "word: line, tag: O\n",
      "word: of, tag: O\n",
      "word: sight, tag: O\n",
      "word: and, tag: O\n",
      "word: fly, tag: O\n",
      "word: with, tag: O\n",
      "word: caution., tag: O\n",
      "2018-06-19 00:00:49\n",
      "[{'High': 'B-ISSUE'}, {'wind': 'I-ISSUE'}, {'velocity.': 'I-ISSUE'}, {'Ensure': 'O'}, {'the': 'O'}, {'aircraft': 'B-COMPONENT'}, {'remains': 'O'}, {'within': 'O'}, {'your': 'O'}, {'line': 'O'}, {'of': 'O'}, {'sight': 'O'}, {'and': 'O'}, {'fly': 'O'}, {'with': 'O'}, {'caution.': 'O'}]\n",
      "word: High, tag: B-ISSUE\n",
      "word: wind, tag: I-ISSUE\n",
      "word: velocity., tag: I-ISSUE\n",
      "word: Ensure, tag: O\n",
      "word: the, tag: O\n",
      "word: aircraft, tag: B-COMPONENT\n",
      "word: remains, tag: O\n",
      "word: within, tag: O\n",
      "word: your, tag: O\n",
      "word: line, tag: O\n",
      "word: of, tag: O\n",
      "word: sight, tag: O\n",
      "word: and, tag: O\n",
      "word: fly, tag: O\n",
      "word: with, tag: O\n",
      "word: caution., tag: O\n",
      "2018-06-19 00:01:27\n",
      "[{'High': 'B-ISSUE'}, {'wind': 'I-ISSUE'}, {'velocity.': 'I-ISSUE'}, {'Fly': 'O'}, {'with': 'O'}, {'caution': 'O'}, {'and': 'O'}, {'land': 'O'}, {'in': 'O'}, {'a': 'O'}, {'safe': 'O'}, {'place': 'O'}, {'ASAP.': 'O'}]\n",
      "word: High, tag: B-ISSUE\n",
      "word: wind, tag: I-ISSUE\n",
      "word: velocity., tag: I-ISSUE\n",
      "word: Fly, tag: O\n",
      "word: with, tag: O\n",
      "word: caution, tag: O\n",
      "word: and, tag: O\n",
      "word: land, tag: O\n",
      "word: in, tag: O\n",
      "word: a, tag: O\n",
      "word: safe, tag: O\n",
      "word: place, tag: O\n",
      "word: ASAP., tag: O\n",
      "2018-06-19 00:01:49\n",
      "[{'High': 'B-ISSUE'}, {'wind': 'I-ISSUE'}, {'velocity.': 'I-ISSUE'}, {'Ensure': 'O'}, {'the': 'O'}, {'aircraft': 'B-COMPONENT'}, {'remains': 'O'}, {'within': 'O'}, {'your': 'O'}, {'line': 'O'}, {'of': 'O'}, {'sight': 'O'}, {'and': 'O'}, {'fly': 'O'}, {'with': 'O'}, {'caution.;': 'O'}, {'High': 'B-ISSUE'}, {'wind': 'I-ISSUE'}, {'velocity.': 'I-ISSUE'}, {'Fly': 'O'}, {'with': 'O'}, {'caution': 'O'}, {'and': 'O'}, {'land': 'O'}, {'in': 'O'}, {'a': 'O'}, {'safe': 'O'}, {'place': 'O'}, {'ASAP.': 'O'}]\n",
      "word: High, tag: B-ISSUE\n",
      "word: wind, tag: I-ISSUE\n",
      "word: velocity., tag: I-ISSUE\n",
      "word: Ensure, tag: O\n",
      "word: the, tag: O\n",
      "word: aircraft, tag: B-COMPONENT\n",
      "word: remains, tag: O\n",
      "word: within, tag: O\n",
      "word: your, tag: O\n",
      "word: line, tag: O\n",
      "word: of, tag: O\n",
      "word: sight, tag: O\n",
      "word: and, tag: O\n",
      "word: fly, tag: O\n",
      "word: with, tag: O\n",
      "word: caution.;, tag: O\n",
      "word: High, tag: B-ISSUE\n",
      "word: wind, tag: I-ISSUE\n",
      "word: velocity., tag: I-ISSUE\n",
      "word: Fly, tag: O\n",
      "word: with, tag: O\n",
      "word: caution, tag: O\n",
      "word: and, tag: O\n",
      "word: land, tag: O\n",
      "word: in, tag: O\n",
      "word: a, tag: O\n",
      "word: safe, tag: O\n",
      "word: place, tag: O\n",
      "word: ASAP., tag: O\n",
      "2018-06-19 00:01:58\n",
      "[{'WarningThe': 'B-ACTION'}, {'remaining': 'O'}, {'battery': 'B-COMPONENT'}, {'is': 'O'}, {'only': 'O'}, {'enough': 'O'}, {'for': 'O'}, {'RTH.': 'B-ACTION'}, {'Return': 'O'}, {'home': 'O'}, {'now.': 'O'}]\n",
      "word: WarningThe, tag: B-ACTION\n",
      "word: remaining, tag: O\n",
      "word: battery, tag: B-COMPONENT\n",
      "word: is, tag: O\n",
      "word: only, tag: O\n",
      "word: enough, tag: O\n",
      "word: for, tag: O\n",
      "word: RTH., tag: B-ACTION\n",
      "word: Return, tag: O\n",
      "word: home, tag: O\n",
      "word: now., tag: O\n",
      "2018-06-19 00:02:01\n",
      "[{'Low': 'B-ISSUE'}, {'power.': 'I-ISSUE'}, {'Returning': 'B-ACTION'}, {'home.': 'I-ACTION'}]\n",
      "word: Low, tag: B-ISSUE\n",
      "word: power., tag: I-ISSUE\n",
      "word: Returning, tag: B-ACTION\n",
      "word: home., tag: I-ACTION\n",
      "2018-06-19 00:02:02\n",
      "[{'RTH:': 'B-ACTION'}, {'Preascending.': 'B-STATE'}]\n",
      "word: RTH:, tag: B-ACTION\n",
      "word: Preascending., tag: B-STATE\n",
      "2018-06-19 00:02:02\n",
      "[{'RTH:': 'B-ACTION'}, {'Heading': 'B-STATE'}, {'alignment.': 'I-STATE'}]\n",
      "word: RTH:, tag: B-ACTION\n",
      "word: Heading, tag: B-STATE\n",
      "word: alignment., tag: I-STATE\n",
      "2018-06-19 00:02:05\n",
      "[{'RTH:': 'B-ACTION'}, {'Ascending': 'B-STATE'}, {'to': 'O'}, {'RTH': 'B-PARAMETER'}, {'altitude.': 'I-PARAMETER'}]\n",
      "word: RTH:, tag: B-ACTION\n",
      "word: Ascending, tag: B-STATE\n",
      "word: to, tag: O\n",
      "word: RTH, tag: B-PARAMETER\n",
      "word: altitude., tag: I-PARAMETER\n",
      "2018-06-19 00:02:10\n",
      "[{'RTH:': 'B-ACTION'}, {'Cruise.': 'B-STATE'}]\n",
      "word: RTH:, tag: B-ACTION\n",
      "word: Cruise., tag: B-STATE\n",
      "2018-06-19 00:03:01\n",
      "[{'Obstacle': 'B-FUNCTION'}, {'Sensing': 'I-FUNCTION'}, {'will': 'O'}, {'be': 'O'}, {'disabled': 'O'}, {'when': 'O'}, {'aircraft': 'B-COMPONENT'}, {'is': 'O'}, {'landing.': 'O'}, {'Fly': 'O'}, {'with': 'O'}, {'caution.': 'O'}]\n",
      "word: Obstacle, tag: B-FUNCTION\n",
      "word: Sensing, tag: I-FUNCTION\n",
      "word: will, tag: O\n",
      "word: be, tag: O\n",
      "word: disabled, tag: O\n",
      "word: when, tag: O\n",
      "word: aircraft, tag: B-COMPONENT\n",
      "word: is, tag: O\n",
      "word: landing., tag: O\n",
      "word: Fly, tag: O\n",
      "word: with, tag: O\n",
      "word: caution., tag: O\n",
      "2018-06-19 00:03:03\n",
      "[{'Precision': 'B-FUNCTION'}, {'LandingCorrecting': 'I-FUNCTION'}, {'Landing': 'I-FUNCTION'}, {'Position.': 'I-PARAMETER'}]\n",
      "word: Precision, tag: B-FUNCTION\n",
      "word: LandingCorrecting, tag: I-FUNCTION\n",
      "word: Landing, tag: I-FUNCTION\n",
      "word: Position., tag: I-PARAMETER\n",
      "2018-06-19 00:03:06\n",
      "[{'Precision': 'B-FUNCTION'}, {'LandingCorrecting': 'I-FUNCTION'}, {'Landing': 'I-FUNCTION'}, {'Position.': 'I-PARAMETER'}]\n",
      "word: Precision, tag: B-FUNCTION\n",
      "word: LandingCorrecting, tag: I-FUNCTION\n",
      "word: Landing, tag: I-FUNCTION\n",
      "word: Position., tag: I-PARAMETER\n",
      "2018-06-19 00:03:10\n",
      "[{'Precision': 'B-FUNCTION'}, {'LandingCorrecting': 'I-FUNCTION'}, {'Landing': 'I-FUNCTION'}, {'Position.': 'I-PARAMETER'}]\n",
      "word: Precision, tag: B-FUNCTION\n",
      "word: LandingCorrecting, tag: I-FUNCTION\n",
      "word: Landing, tag: I-FUNCTION\n",
      "word: Position., tag: I-PARAMETER\n",
      "2018-06-19 00:03:10\n",
      "[{'Precision': 'B-FUNCTION'}, {'LandingCorrecting': 'I-FUNCTION'}, {'Landing': 'I-FUNCTION'}, {'Position.': 'I-PARAMETER'}]\n",
      "word: Precision, tag: B-FUNCTION\n",
      "word: LandingCorrecting, tag: I-FUNCTION\n",
      "word: Landing, tag: I-FUNCTION\n",
      "word: Position., tag: I-PARAMETER\n",
      "2018-06-19 00:03:11\n",
      "[{'Precision': 'B-FUNCTION'}, {'LandingCorrecting': 'I-FUNCTION'}, {'Landing': 'I-FUNCTION'}, {'Position.': 'I-PARAMETER'}]\n",
      "word: Precision, tag: B-FUNCTION\n",
      "word: LandingCorrecting, tag: I-FUNCTION\n",
      "word: Landing, tag: I-FUNCTION\n",
      "word: Position., tag: I-PARAMETER\n",
      "2018-06-19 00:03:11\n",
      "[{'Precision': 'B-FUNCTION'}, {'LandingCorrecting': 'I-FUNCTION'}, {'Landing': 'I-FUNCTION'}, {'Position.': 'I-PARAMETER'}]\n",
      "word: Precision, tag: B-FUNCTION\n",
      "word: LandingCorrecting, tag: I-FUNCTION\n",
      "word: Landing, tag: I-FUNCTION\n",
      "word: Position., tag: I-PARAMETER\n",
      "2018-06-19 00:03:13\n",
      "[{'Precision': 'B-FUNCTION'}, {'LandingCorrecting': 'I-FUNCTION'}, {'Landing': 'I-FUNCTION'}, {'Position.': 'I-PARAMETER'}]\n",
      "word: Precision, tag: B-FUNCTION\n",
      "word: LandingCorrecting, tag: I-FUNCTION\n",
      "word: Landing, tag: I-FUNCTION\n",
      "word: Position., tag: I-PARAMETER\n",
      "2018-06-19 00:03:14\n",
      "[{'Precision': 'B-FUNCTION'}, {'LandingCorrecting': 'I-FUNCTION'}, {'Landing': 'I-FUNCTION'}, {'Position.': 'I-PARAMETER'}]\n",
      "word: Precision, tag: B-FUNCTION\n",
      "word: LandingCorrecting, tag: I-FUNCTION\n",
      "word: Landing, tag: I-FUNCTION\n",
      "word: Position., tag: I-PARAMETER\n",
      "2018-06-19 00:03:14\n",
      "[{'Precision': 'B-FUNCTION'}, {'LandingCorrecting': 'I-FUNCTION'}, {'Landing': 'I-FUNCTION'}, {'Position.': 'I-PARAMETER'}]\n",
      "word: Precision, tag: B-FUNCTION\n",
      "word: LandingCorrecting, tag: I-FUNCTION\n",
      "word: Landing, tag: I-FUNCTION\n",
      "word: Position., tag: I-PARAMETER\n",
      "2018-06-19 00:03:17\n",
      "[{'Precision': 'B-FUNCTION'}, {'LandingCorrecting': 'I-FUNCTION'}, {'Landing': 'I-FUNCTION'}, {'Position.': 'I-PARAMETER'}]\n",
      "word: Precision, tag: B-FUNCTION\n",
      "word: LandingCorrecting, tag: I-FUNCTION\n",
      "word: Landing, tag: I-FUNCTION\n",
      "word: Position., tag: I-PARAMETER\n",
      "2018-06-19 00:03:17\n",
      "[{'Precision': 'B-FUNCTION'}, {'LandingCorrecting': 'I-FUNCTION'}, {'Landing': 'I-FUNCTION'}, {'Position.': 'I-PARAMETER'}]\n",
      "word: Precision, tag: B-FUNCTION\n",
      "word: LandingCorrecting, tag: I-FUNCTION\n",
      "word: Landing, tag: I-FUNCTION\n",
      "word: Position., tag: I-PARAMETER\n",
      "2018-06-19 00:03:17\n",
      "[{'Precision': 'B-FUNCTION'}, {'LandingCorrecting': 'I-FUNCTION'}, {'Landing': 'I-FUNCTION'}, {'Position.': 'I-PARAMETER'}]\n",
      "word: Precision, tag: B-FUNCTION\n",
      "word: LandingCorrecting, tag: I-FUNCTION\n",
      "word: Landing, tag: I-FUNCTION\n",
      "word: Position., tag: I-PARAMETER\n",
      "2018-06-19 00:03:20\n",
      "[{'Precision': 'B-FUNCTION'}, {'LandingCorrecting': 'I-FUNCTION'}, {'Landing': 'I-FUNCTION'}, {'Position.': 'I-PARAMETER'}]\n",
      "word: Precision, tag: B-FUNCTION\n",
      "word: LandingCorrecting, tag: I-FUNCTION\n",
      "word: Landing, tag: I-FUNCTION\n",
      "word: Position., tag: I-PARAMETER\n",
      "2018-06-19 00:03:22\n",
      "[{'Precision': 'B-FUNCTION'}, {'LandingCorrecting': 'I-FUNCTION'}, {'Landing': 'I-FUNCTION'}, {'Position.': 'I-PARAMETER'}]\n",
      "word: Precision, tag: B-FUNCTION\n",
      "word: LandingCorrecting, tag: I-FUNCTION\n",
      "word: Landing, tag: I-FUNCTION\n",
      "word: Position., tag: I-PARAMETER\n",
      "2018-06-19 00:08:28\n",
      "[{'Data': 'B-COMPONENT'}, {'Recorder': 'I-COMPONENT'}, {'File': 'B-PARAMETER'}, {'Index': 'I-PARAMETER'}, {'is': 'O'}, {'4.': 'O'}]\n",
      "word: Data, tag: B-COMPONENT\n",
      "word: Recorder, tag: I-COMPONENT\n",
      "word: File, tag: B-PARAMETER\n",
      "word: Index, tag: I-PARAMETER\n",
      "word: is, tag: O\n",
      "word: 4., tag: O\n",
      "2018-06-19 00:08:30\n",
      "[{'Home': 'I-PARAMETER'}, {'Point': 'B-PARAMETER'}, {'Updated.': 'O'}]\n",
      "word: Home, tag: I-PARAMETER\n",
      "word: Point, tag: B-PARAMETER\n",
      "word: Updated., tag: O\n",
      "2018-06-19 00:08:51\n",
      "[{'Home': 'B-PARAMETER'}, {'Point': 'I-PARAMETER'}, {'recorded.': 'O'}, {'Return-to-Home': 'B-PARAMETER'}, {'Altitude:98FT.': 'I-PARAMETER'}]\n",
      "word: Home, tag: B-PARAMETER\n",
      "word: Point, tag: I-PARAMETER\n",
      "word: recorded., tag: O\n",
      "word: Return-to-Home, tag: B-PARAMETER\n",
      "word: Altitude:98FT., tag: I-PARAMETER\n",
      "2018-06-19 00:09:20\n",
      "[{'High': 'B-ISSUE'}, {'wind': 'I-ISSUE'}, {'velocity.': 'I-ISSUE'}, {'Ensure': 'O'}, {'the': 'O'}, {'aircraft': 'B-COMPONENT'}, {'remains': 'O'}, {'within': 'O'}, {'your': 'O'}, {'line': 'O'}, {'of': 'O'}, {'sight': 'O'}, {'and': 'O'}, {'fly': 'O'}, {'with': 'O'}, {'caution.': 'O'}]\n",
      "word: High, tag: B-ISSUE\n",
      "word: wind, tag: I-ISSUE\n",
      "word: velocity., tag: I-ISSUE\n",
      "word: Ensure, tag: O\n",
      "word: the, tag: O\n",
      "word: aircraft, tag: B-COMPONENT\n",
      "word: remains, tag: O\n",
      "word: within, tag: O\n",
      "word: your, tag: O\n",
      "word: line, tag: O\n",
      "word: of, tag: O\n",
      "word: sight, tag: O\n",
      "word: and, tag: O\n",
      "word: fly, tag: O\n",
      "word: with, tag: O\n",
      "word: caution., tag: O\n",
      "2018-06-19 00:10:42\n",
      "[{'High': 'B-ISSUE'}, {'wind': 'I-ISSUE'}, {'velocity.': 'I-ISSUE'}, {'Ensure': 'O'}, {'the': 'O'}, {'aircraft': 'B-COMPONENT'}, {'remains': 'O'}, {'within': 'O'}, {'your': 'O'}, {'line': 'O'}, {'of': 'O'}, {'sight': 'O'}, {'and': 'O'}, {'fly': 'O'}, {'with': 'O'}, {'caution.': 'O'}]\n",
      "word: High, tag: B-ISSUE\n",
      "word: wind, tag: I-ISSUE\n",
      "word: velocity., tag: I-ISSUE\n",
      "word: Ensure, tag: O\n",
      "word: the, tag: O\n",
      "word: aircraft, tag: B-COMPONENT\n",
      "word: remains, tag: O\n",
      "word: within, tag: O\n",
      "word: your, tag: O\n",
      "word: line, tag: O\n",
      "word: of, tag: O\n",
      "word: sight, tag: O\n",
      "word: and, tag: O\n",
      "word: fly, tag: O\n",
      "word: with, tag: O\n",
      "word: caution., tag: O\n",
      "2018-06-19 00:10:58\n",
      "[{'Weak': 'B-ISSUE'}, {'signal.': 'I-ISSUE'}, {'Avoid': 'O'}, {'blocking': 'O'}, {'the': 'O'}, {'antennas': 'B-COMPONENT'}, {'and': 'O'}, {'keep': 'O'}, {'the': 'O'}, {'antennas': 'B-COMPONENT'}, {'parallel': 'O'}, {'to': 'O'}, {'and': 'O'}, {'facing': 'O'}, {'toward': 'O'}, {'the': 'O'}, {'aircraft': 'B-COMPONENT'}, {'during': 'O'}, {'flight.;': 'O'}, {'Downlink': 'B-ISSUE'}, {'Lost.': 'I-ISSUE'}]\n",
      "word: Weak, tag: B-ISSUE\n",
      "word: signal., tag: I-ISSUE\n",
      "word: Avoid, tag: O\n",
      "word: blocking, tag: O\n",
      "word: the, tag: O\n",
      "word: antennas, tag: B-COMPONENT\n",
      "word: and, tag: O\n",
      "word: keep, tag: O\n",
      "word: the, tag: O\n",
      "word: antennas, tag: B-COMPONENT\n",
      "word: parallel, tag: O\n",
      "word: to, tag: O\n",
      "word: and, tag: O\n",
      "word: facing, tag: O\n",
      "word: toward, tag: O\n",
      "word: the, tag: O\n",
      "word: aircraft, tag: B-COMPONENT\n",
      "word: during, tag: O\n",
      "word: flight.;, tag: O\n",
      "word: Downlink, tag: B-ISSUE\n",
      "word: Lost., tag: I-ISSUE\n",
      "2018-06-19 00:11:02\n",
      "[{'Downlink': 'B-FUNCTION'}, {'Restored': 'O'}, {'(after': 'O'}, {'0m': 'O'}, {'5.6s).': 'O'}]\n",
      "word: Downlink, tag: B-FUNCTION\n",
      "word: Restored, tag: O\n",
      "word: (after, tag: O\n",
      "word: 0m, tag: O\n",
      "word: 5.6s)., tag: O\n",
      "2018-06-19 00:11:04\n",
      "[{'Downlink': 'B-ISSUE'}, {'Lost.': 'I-ISSUE'}]\n",
      "word: Downlink, tag: B-ISSUE\n",
      "word: Lost., tag: I-ISSUE\n",
      "2018-06-19 00:11:09\n",
      "[{'Downlink': 'B-FUNCTION'}, {'Restored': 'O'}, {'(after': 'O'}, {'0m': 'O'}, {'5.8s).': 'O'}]\n",
      "word: Downlink, tag: B-FUNCTION\n",
      "word: Restored, tag: O\n",
      "word: (after, tag: O\n",
      "word: 0m, tag: O\n",
      "word: 5.8s)., tag: O\n",
      "2018-06-19 00:11:09\n",
      "[{'High': 'B-ISSUE'}, {'wind': 'I-ISSUE'}, {'velocity.': 'I-ISSUE'}, {'Ensure': 'O'}, {'the': 'O'}, {'aircraft': 'B-COMPONENT'}, {'remains': 'O'}, {'within': 'O'}, {'your': 'O'}, {'line': 'O'}, {'of': 'O'}, {'sight': 'O'}, {'and': 'O'}, {'fly': 'O'}, {'with': 'O'}, {'caution.;': 'O'}, {'Downlink': 'B-ISSUE'}, {'Lost.': 'I-ISSUE'}]\n",
      "word: High, tag: B-ISSUE\n",
      "word: wind, tag: I-ISSUE\n",
      "word: velocity., tag: I-ISSUE\n",
      "word: Ensure, tag: O\n",
      "word: the, tag: O\n",
      "word: aircraft, tag: B-COMPONENT\n",
      "word: remains, tag: O\n",
      "word: within, tag: O\n",
      "word: your, tag: O\n",
      "word: line, tag: O\n",
      "word: of, tag: O\n",
      "word: sight, tag: O\n",
      "word: and, tag: O\n",
      "word: fly, tag: O\n",
      "word: with, tag: O\n",
      "word: caution.;, tag: O\n",
      "word: Downlink, tag: B-ISSUE\n",
      "word: Lost., tag: I-ISSUE\n",
      "2018-06-19 00:11:18\n",
      "[{'Downlink': 'B-ISSUE'}, {'Lost.': 'I-ISSUE'}]\n",
      "word: Downlink, tag: B-ISSUE\n",
      "word: Lost., tag: I-ISSUE\n",
      "2018-06-19 00:11:31\n",
      "[{'Downlink': 'B-ISSUE'}, {'Lost.': 'I-ISSUE'}]\n",
      "word: Downlink, tag: B-ISSUE\n",
      "word: Lost., tag: I-ISSUE\n",
      "2018-06-19 00:11:32\n",
      "[{'Downlink': 'B-FUNCTION'}, {'Restored': 'O'}, {'(after': 'O'}, {'0m': 'O'}, {'11s).': 'O'}]\n",
      "word: Downlink, tag: B-FUNCTION\n",
      "word: Restored, tag: O\n",
      "word: (after, tag: O\n",
      "word: 0m, tag: O\n",
      "word: 11s)., tag: O\n",
      "2018-06-19 00:11:32\n",
      "[{'Downlink': 'B-FUNCTION'}, {'Restored': 'O'}, {'(after': 'O'}, {'0m': 'O'}, {'2.2s).': 'O'}]\n",
      "word: Downlink, tag: B-FUNCTION\n",
      "word: Restored, tag: O\n",
      "word: (after, tag: O\n",
      "word: 0m, tag: O\n",
      "word: 2.2s)., tag: O\n",
      "2018-06-19 00:12:11\n",
      "[{'High': 'B-ISSUE'}, {'wind': 'I-ISSUE'}, {'velocity.': 'I-ISSUE'}, {'Ensure': 'O'}, {'the': 'O'}, {'aircraft': 'B-COMPONENT'}, {'remains': 'O'}, {'within': 'O'}, {'your': 'O'}, {'line': 'O'}, {'of': 'O'}, {'sight': 'O'}, {'and': 'O'}, {'fly': 'O'}, {'with': 'O'}, {'caution.': 'O'}]\n",
      "word: High, tag: B-ISSUE\n",
      "word: wind, tag: I-ISSUE\n",
      "word: velocity., tag: I-ISSUE\n",
      "word: Ensure, tag: O\n",
      "word: the, tag: O\n",
      "word: aircraft, tag: B-COMPONENT\n",
      "word: remains, tag: O\n",
      "word: within, tag: O\n",
      "word: your, tag: O\n",
      "word: line, tag: O\n",
      "word: of, tag: O\n",
      "word: sight, tag: O\n",
      "word: and, tag: O\n",
      "word: fly, tag: O\n",
      "word: with, tag: O\n",
      "word: caution., tag: O\n",
      "2018-06-19 00:12:32\n",
      "[{'High': 'B-ISSUE'}, {'wind': 'I-ISSUE'}, {'velocity.': 'I-ISSUE'}, {'Ensure': 'O'}, {'the': 'O'}, {'aircraft': 'B-COMPONENT'}, {'remains': 'O'}, {'within': 'O'}, {'your': 'O'}, {'line': 'O'}, {'of': 'O'}, {'sight': 'O'}, {'and': 'O'}, {'fly': 'O'}, {'with': 'O'}, {'caution.': 'O'}]\n",
      "word: High, tag: B-ISSUE\n",
      "word: wind, tag: I-ISSUE\n",
      "word: velocity., tag: I-ISSUE\n",
      "word: Ensure, tag: O\n",
      "word: the, tag: O\n",
      "word: aircraft, tag: B-COMPONENT\n",
      "word: remains, tag: O\n",
      "word: within, tag: O\n",
      "word: your, tag: O\n",
      "word: line, tag: O\n",
      "word: of, tag: O\n",
      "word: sight, tag: O\n",
      "word: and, tag: O\n",
      "word: fly, tag: O\n",
      "word: with, tag: O\n",
      "word: caution., tag: O\n",
      "2018-06-19 00:12:56\n",
      "[{'High': 'B-ISSUE'}, {'wind': 'I-ISSUE'}, {'velocity.': 'I-ISSUE'}, {'Fly': 'O'}, {'with': 'O'}, {'caution': 'O'}, {'and': 'O'}, {'land': 'O'}, {'in': 'O'}, {'a': 'O'}, {'safe': 'O'}, {'place': 'O'}, {'ASAP.': 'O'}]\n",
      "word: High, tag: B-ISSUE\n",
      "word: wind, tag: I-ISSUE\n",
      "word: velocity., tag: I-ISSUE\n",
      "word: Fly, tag: O\n",
      "word: with, tag: O\n",
      "word: caution, tag: O\n",
      "word: and, tag: O\n",
      "word: land, tag: O\n",
      "word: in, tag: O\n",
      "word: a, tag: O\n",
      "word: safe, tag: O\n",
      "word: place, tag: O\n",
      "word: ASAP., tag: O\n",
      "2018-06-19 00:13:14\n",
      "[{'Forward': 'B-FUNCTION'}, {'Obstacle': 'I-FUNCTION'}, {'Sensing': 'I-FUNCTION'}, {'is': 'O'}, {'not': 'O'}, {'functioning.': 'O'}]\n",
      "word: Forward, tag: B-FUNCTION\n",
      "word: Obstacle, tag: I-FUNCTION\n",
      "word: Sensing, tag: I-FUNCTION\n",
      "word: is, tag: O\n",
      "word: not, tag: O\n",
      "word: functioning., tag: O\n",
      "2018-06-19 00:13:15\n",
      "[{'Attitude': 'B-PARAMETER'}, {'is': 'O'}, {'too': 'O'}, {'large.Â': 'O'}, {'Backward': 'B-FUNCTION'}, {'Obstacle': 'I-FUNCTION'}, {'Sensing': 'I-FUNCTION'}, {'is': 'O'}, {'not': 'O'}, {'functioning.': 'O'}]\n",
      "word: Attitude, tag: B-PARAMETER\n",
      "word: is, tag: O\n",
      "word: too, tag: O\n",
      "word: large.Â, tag: O\n",
      "word: Backward, tag: B-FUNCTION\n",
      "word: Obstacle, tag: I-FUNCTION\n",
      "word: Sensing, tag: I-FUNCTION\n",
      "word: is, tag: O\n",
      "word: not, tag: O\n",
      "word: functioning., tag: O\n",
      "2018-06-19 00:13:36\n",
      "[{'High': 'B-ISSUE'}, {'wind': 'I-ISSUE'}, {'velocity.': 'I-ISSUE'}, {'Ensure': 'O'}, {'the': 'O'}, {'aircraft': 'B-COMPONENT'}, {'remains': 'O'}, {'within': 'O'}, {'your': 'O'}, {'line': 'O'}, {'of': 'O'}, {'sight': 'O'}, {'and': 'O'}, {'fly': 'O'}, {'with': 'O'}, {'caution.': 'O'}]\n",
      "word: High, tag: B-ISSUE\n",
      "word: wind, tag: I-ISSUE\n",
      "word: velocity., tag: I-ISSUE\n",
      "word: Ensure, tag: O\n",
      "word: the, tag: O\n",
      "word: aircraft, tag: B-COMPONENT\n",
      "word: remains, tag: O\n",
      "word: within, tag: O\n",
      "word: your, tag: O\n",
      "word: line, tag: O\n",
      "word: of, tag: O\n",
      "word: sight, tag: O\n",
      "word: and, tag: O\n",
      "word: fly, tag: O\n",
      "word: with, tag: O\n",
      "word: caution., tag: O\n",
      "2018-06-19 00:13:56\n",
      "[{'High': 'B-ISSUE'}, {'wind': 'I-ISSUE'}, {'velocity.': 'I-ISSUE'}, {'Ensure': 'O'}, {'the': 'O'}, {'aircraft': 'B-COMPONENT'}, {'remains': 'O'}, {'within': 'O'}, {'your': 'O'}, {'line': 'O'}, {'of': 'O'}, {'sight': 'O'}, {'and': 'O'}, {'fly': 'O'}, {'with': 'O'}, {'caution.': 'O'}]\n",
      "word: High, tag: B-ISSUE\n",
      "word: wind, tag: I-ISSUE\n",
      "word: velocity., tag: I-ISSUE\n",
      "word: Ensure, tag: O\n",
      "word: the, tag: O\n",
      "word: aircraft, tag: B-COMPONENT\n",
      "word: remains, tag: O\n",
      "word: within, tag: O\n",
      "word: your, tag: O\n",
      "word: line, tag: O\n",
      "word: of, tag: O\n",
      "word: sight, tag: O\n",
      "word: and, tag: O\n",
      "word: fly, tag: O\n",
      "word: with, tag: O\n",
      "word: caution., tag: O\n",
      "2018-06-19 00:14:02\n",
      "[{'High': 'B-ISSUE'}, {'wind': 'I-ISSUE'}, {'velocity.': 'I-ISSUE'}, {'Fly': 'O'}, {'with': 'O'}, {'caution': 'O'}, {'and': 'O'}, {'land': 'O'}, {'in': 'O'}, {'a': 'O'}, {'safe': 'O'}, {'place': 'O'}, {'ASAP.': 'O'}]\n",
      "word: High, tag: B-ISSUE\n",
      "word: wind, tag: I-ISSUE\n",
      "word: velocity., tag: I-ISSUE\n",
      "word: Fly, tag: O\n",
      "word: with, tag: O\n",
      "word: caution, tag: O\n",
      "word: and, tag: O\n",
      "word: land, tag: O\n",
      "word: in, tag: O\n",
      "word: a, tag: O\n",
      "word: safe, tag: O\n",
      "word: place, tag: O\n",
      "word: ASAP., tag: O\n",
      "2018-06-19 00:14:13\n",
      "[{'High': 'B-ISSUE'}, {'wind': 'I-ISSUE'}, {'velocity.': 'I-ISSUE'}, {'Ensure': 'O'}, {'the': 'O'}, {'aircraft': 'B-COMPONENT'}, {'remains': 'O'}, {'within': 'O'}, {'your': 'O'}, {'line': 'O'}, {'of': 'O'}, {'sight': 'O'}, {'and': 'O'}, {'fly': 'O'}, {'with': 'O'}, {'caution.': 'O'}]\n",
      "word: High, tag: B-ISSUE\n",
      "word: wind, tag: I-ISSUE\n",
      "word: velocity., tag: I-ISSUE\n",
      "word: Ensure, tag: O\n",
      "word: the, tag: O\n",
      "word: aircraft, tag: B-COMPONENT\n",
      "word: remains, tag: O\n",
      "word: within, tag: O\n",
      "word: your, tag: O\n",
      "word: line, tag: O\n",
      "word: of, tag: O\n",
      "word: sight, tag: O\n",
      "word: and, tag: O\n",
      "word: fly, tag: O\n",
      "word: with, tag: O\n",
      "word: caution., tag: O\n",
      "2018-06-19 00:14:49\n",
      "[{'High': 'B-ISSUE'}, {'wind': 'I-ISSUE'}, {'velocity.': 'I-ISSUE'}, {'Ensure': 'O'}, {'the': 'O'}, {'aircraft': 'B-COMPONENT'}, {'remains': 'O'}, {'within': 'O'}, {'your': 'O'}, {'line': 'O'}, {'of': 'O'}, {'sight': 'O'}, {'and': 'O'}, {'fly': 'O'}, {'with': 'O'}, {'caution.': 'O'}]\n",
      "word: High, tag: B-ISSUE\n",
      "word: wind, tag: I-ISSUE\n",
      "word: velocity., tag: I-ISSUE\n",
      "word: Ensure, tag: O\n",
      "word: the, tag: O\n",
      "word: aircraft, tag: B-COMPONENT\n",
      "word: remains, tag: O\n",
      "word: within, tag: O\n",
      "word: your, tag: O\n",
      "word: line, tag: O\n",
      "word: of, tag: O\n",
      "word: sight, tag: O\n",
      "word: and, tag: O\n",
      "word: fly, tag: O\n",
      "word: with, tag: O\n",
      "word: caution., tag: O\n",
      "2018-06-19 00:15:43\n",
      "[{'Obstacle': 'B-FUNCTION'}, {'Sensing': 'I-FUNCTION'}, {'will': 'O'}, {'be': 'O'}, {'disabled': 'O'}, {'when': 'O'}, {'aircraft': 'B-COMPONENT'}, {'is': 'O'}, {'landing.': 'O'}, {'Fly': 'O'}, {'with': 'O'}, {'caution.': 'O'}]\n",
      "word: Obstacle, tag: B-FUNCTION\n",
      "word: Sensing, tag: I-FUNCTION\n",
      "word: will, tag: O\n",
      "word: be, tag: O\n",
      "word: disabled, tag: O\n",
      "word: when, tag: O\n",
      "word: aircraft, tag: B-COMPONENT\n",
      "word: is, tag: O\n",
      "word: landing., tag: O\n",
      "word: Fly, tag: O\n",
      "word: with, tag: O\n",
      "word: caution., tag: O\n",
      "2018-06-19 00:34:57\n",
      "[{'Data': 'B-COMPONENT'}, {'Recorder': 'I-COMPONENT'}, {'File': 'B-PARAMETER'}, {'Index': 'I-PARAMETER'}, {'is': 'O'}, {'2.': 'O'}]\n",
      "word: Data, tag: B-COMPONENT\n",
      "word: Recorder, tag: I-COMPONENT\n",
      "word: File, tag: B-PARAMETER\n",
      "word: Index, tag: I-PARAMETER\n",
      "word: is, tag: O\n",
      "word: 2., tag: O\n",
      "2018-06-19 00:34:59\n",
      "[{'Home': 'I-PARAMETER'}, {'Point': 'B-PARAMETER'}, {'Updated.': 'O'}]\n",
      "word: Home, tag: I-PARAMETER\n",
      "word: Point, tag: B-PARAMETER\n",
      "word: Updated., tag: O\n",
      "2018-06-19 00:34:59\n",
      "[{'Home': 'B-PARAMETER'}, {'Point': 'I-PARAMETER'}, {'recorded.': 'O'}, {'Return-to-Home': 'B-PARAMETER'}, {'Altitude:98FT.': 'I-PARAMETER'}]\n",
      "word: Home, tag: B-PARAMETER\n",
      "word: Point, tag: I-PARAMETER\n",
      "word: recorded., tag: O\n",
      "word: Return-to-Home, tag: B-PARAMETER\n",
      "word: Altitude:98FT., tag: I-PARAMETER\n",
      "2018-06-19 00:35:19\n",
      "[{'Downlink': 'B-ISSUE'}, {'Lost.': 'I-ISSUE'}]\n",
      "word: Downlink, tag: B-ISSUE\n",
      "word: Lost., tag: I-ISSUE\n",
      "2018-06-19 00:35:28\n",
      "[{'Downlink': 'B-FUNCTION'}, {'Restored': 'O'}, {'(after': 'O'}, {'0m': 'O'}, {'11.3s).': 'O'}]\n",
      "word: Downlink, tag: B-FUNCTION\n",
      "word: Restored, tag: O\n",
      "word: (after, tag: O\n",
      "word: 0m, tag: O\n",
      "word: 11.3s)., tag: O\n",
      "2018-06-19 00:39:36\n",
      "[{'Aircraft': 'B-COMPONENT'}, {'is': 'O'}, {'close': 'O'}, {'to': 'O'}, {'the': 'O'}, {'Home': 'B-PARAMETER'}, {'Point.': 'I-PARAMETER'}, {'Initiating': 'O'}, {'Return': 'B-ACTION'}, {'to': 'I-ACTION'}, {'Home': 'I-ACTION'}, {'will': 'O'}, {'now': 'O'}, {'trigger': 'O'}, {'Auto': 'B-STATE'}, {'Landing.': 'I-STATE'}]\n",
      "word: Aircraft, tag: B-COMPONENT\n",
      "word: is, tag: O\n",
      "word: close, tag: O\n",
      "word: to, tag: O\n",
      "word: the, tag: O\n",
      "word: Home, tag: B-PARAMETER\n",
      "word: Point., tag: I-PARAMETER\n",
      "word: Initiating, tag: O\n",
      "word: Return, tag: B-ACTION\n",
      "word: to, tag: I-ACTION\n",
      "word: Home, tag: I-ACTION\n",
      "word: will, tag: O\n",
      "word: now, tag: O\n",
      "word: trigger, tag: O\n",
      "word: Auto, tag: B-STATE\n",
      "word: Landing., tag: I-STATE\n",
      "2018-06-19 00:57:21\n",
      "[{'Data': 'B-COMPONENT'}, {'Recorder': 'I-COMPONENT'}, {'File': 'B-PARAMETER'}, {'Index': 'I-PARAMETER'}, {'is': 'O'}, {'5.': 'O'}]\n",
      "word: Data, tag: B-COMPONENT\n",
      "word: Recorder, tag: I-COMPONENT\n",
      "word: File, tag: B-PARAMETER\n",
      "word: Index, tag: I-PARAMETER\n",
      "word: is, tag: O\n",
      "word: 5., tag: O\n",
      "2018-06-19 00:57:23\n",
      "[{'Home': 'I-PARAMETER'}, {'Point': 'B-PARAMETER'}, {'Updated.': 'O'}]\n",
      "word: Home, tag: I-PARAMETER\n",
      "word: Point, tag: B-PARAMETER\n",
      "word: Updated., tag: O\n",
      "2018-06-19 00:57:23\n",
      "[{'Home': 'B-PARAMETER'}, {'Point': 'I-PARAMETER'}, {'recorded.': 'O'}, {'Return-to-Home': 'B-PARAMETER'}, {'Altitude:98FT.': 'I-PARAMETER'}]\n",
      "word: Home, tag: B-PARAMETER\n",
      "word: Point, tag: I-PARAMETER\n",
      "word: recorded., tag: O\n",
      "word: Return-to-Home, tag: B-PARAMETER\n",
      "word: Altitude:98FT., tag: I-PARAMETER\n",
      "2018-06-19 00:58:19\n",
      "[{'High': 'B-ISSUE'}, {'wind': 'I-ISSUE'}, {'velocity.': 'I-ISSUE'}, {'Ensure': 'O'}, {'the': 'O'}, {'aircraft': 'B-COMPONENT'}, {'remains': 'O'}, {'within': 'O'}, {'your': 'O'}, {'line': 'O'}, {'of': 'O'}, {'sight': 'O'}, {'and': 'O'}, {'fly': 'O'}, {'with': 'O'}, {'caution.': 'O'}]\n",
      "word: High, tag: B-ISSUE\n",
      "word: wind, tag: I-ISSUE\n",
      "word: velocity., tag: I-ISSUE\n",
      "word: Ensure, tag: O\n",
      "word: the, tag: O\n",
      "word: aircraft, tag: B-COMPONENT\n",
      "word: remains, tag: O\n",
      "word: within, tag: O\n",
      "word: your, tag: O\n",
      "word: line, tag: O\n",
      "word: of, tag: O\n",
      "word: sight, tag: O\n",
      "word: and, tag: O\n",
      "word: fly, tag: O\n",
      "word: with, tag: O\n",
      "word: caution., tag: O\n",
      "2018-06-19 14:05:36\n",
      "[{'Backward': 'B-FUNCTION'}, {'Obstacle': 'I-FUNCTION'}, {'Sensing': 'I-FUNCTION'}, {'is': 'O'}, {'not': 'O'}, {'functioning.': 'O'}]\n",
      "word: Backward, tag: B-FUNCTION\n",
      "word: Obstacle, tag: I-FUNCTION\n",
      "word: Sensing, tag: I-FUNCTION\n",
      "word: is, tag: O\n",
      "word: not, tag: O\n",
      "word: functioning., tag: O\n",
      "2018-06-19 14:05:39\n",
      "[{'Backward': 'B-FUNCTION'}, {'Obstacle': 'I-FUNCTION'}, {'Sensing': 'I-FUNCTION'}, {'is': 'O'}, {'not': 'O'}, {'functioning.': 'O'}]\n",
      "word: Backward, tag: B-FUNCTION\n",
      "word: Obstacle, tag: I-FUNCTION\n",
      "word: Sensing, tag: I-FUNCTION\n",
      "word: is, tag: O\n",
      "word: not, tag: O\n",
      "word: functioning., tag: O\n",
      "2018-06-19 14:05:44\n",
      "[{'Backward': 'B-FUNCTION'}, {'Obstacle': 'I-FUNCTION'}, {'Sensing': 'I-FUNCTION'}, {'is': 'O'}, {'not': 'O'}, {'functioning.': 'O'}]\n",
      "word: Backward, tag: B-FUNCTION\n",
      "word: Obstacle, tag: I-FUNCTION\n",
      "word: Sensing, tag: I-FUNCTION\n",
      "word: is, tag: O\n",
      "word: not, tag: O\n",
      "word: functioning., tag: O\n",
      "2018-06-19 14:05:44\n",
      "[{'Ambient': 'B-PARAMETER'}, {'Light': 'I-FUNCTION'}, {'is': 'O'}, {'too': 'O'}, {'weak.': 'O'}]\n",
      "word: Ambient, tag: B-PARAMETER\n",
      "word: Light, tag: I-FUNCTION\n",
      "word: is, tag: O\n",
      "word: too, tag: O\n",
      "word: weak., tag: O\n",
      "2018-06-19 14:08:51\n",
      "[{'Home': 'B-PARAMETER'}, {'Point': 'I-PARAMETER'}, {'recorded.': 'O'}, {'Return-to-Home': 'B-PARAMETER'}, {'Altitude:98FT': 'I-PARAMETER'}]\n",
      "word: Home, tag: B-PARAMETER\n",
      "word: Point, tag: I-PARAMETER\n",
      "word: recorded., tag: O\n",
      "word: Return-to-Home, tag: B-PARAMETER\n",
      "word: Altitude:98FT, tag: I-PARAMETER\n",
      "2018-06-19 14:09:20\n",
      "[{'High': 'B-ISSUE'}, {'wind': 'I-ISSUE'}, {'velocity.': 'I-ISSUE'}, {'Ensure': 'O'}, {'the': 'O'}, {'aircraft': 'B-COMPONENT'}, {'remains': 'O'}, {'within': 'O'}, {'your': 'O'}, {'line': 'O'}, {'of': 'O'}, {'sight': 'O'}, {'and': 'O'}, {'fly': 'O'}, {'with': 'O'}, {'caution.': 'O'}]\n",
      "word: High, tag: B-ISSUE\n",
      "word: wind, tag: I-ISSUE\n",
      "word: velocity., tag: I-ISSUE\n",
      "word: Ensure, tag: O\n",
      "word: the, tag: O\n",
      "word: aircraft, tag: B-COMPONENT\n",
      "word: remains, tag: O\n",
      "word: within, tag: O\n",
      "word: your, tag: O\n",
      "word: line, tag: O\n",
      "word: of, tag: O\n",
      "word: sight, tag: O\n",
      "word: and, tag: O\n",
      "word: fly, tag: O\n",
      "word: with, tag: O\n",
      "word: caution., tag: O\n",
      "2018-06-19 14:10:57\n",
      "[{'Weak': 'B-ISSUE'}, {'signal.': 'I-ISSUE'}, {'Avoid': 'O'}, {'blocking': 'O'}, {'the': 'O'}, {'antennas': 'B-COMPONENT'}, {'and': 'O'}, {'keep': 'O'}, {'the': 'O'}, {'antennas': 'B-COMPONENT'}, {'parallel': 'O'}, {'to': 'O'}, {'and': 'O'}, {'facing': 'O'}, {'toward': 'O'}, {'the': 'O'}, {'aircraft': 'B-COMPONENT'}, {'during': 'O'}, {'flight.': 'O'}]\n",
      "word: Weak, tag: B-ISSUE\n",
      "word: signal., tag: I-ISSUE\n",
      "word: Avoid, tag: O\n",
      "word: blocking, tag: O\n",
      "word: the, tag: O\n",
      "word: antennas, tag: B-COMPONENT\n",
      "word: and, tag: O\n",
      "word: keep, tag: O\n",
      "word: the, tag: O\n",
      "word: antennas, tag: B-COMPONENT\n",
      "word: parallel, tag: O\n",
      "word: to, tag: O\n",
      "word: and, tag: O\n",
      "word: facing, tag: O\n",
      "word: toward, tag: O\n",
      "word: the, tag: O\n",
      "word: aircraft, tag: B-COMPONENT\n",
      "word: during, tag: O\n",
      "word: flight., tag: O\n",
      "2018-06-19 14:12:56\n",
      "[{'High': 'B-ISSUE'}, {'wind': 'I-ISSUE'}, {'velocity.': 'I-ISSUE'}, {'Fly': 'O'}, {'with': 'O'}, {'caution': 'O'}, {'and': 'O'}, {'land': 'O'}, {'in': 'O'}, {'a': 'O'}, {'safe': 'O'}, {'place': 'O'}, {'ASAP.': 'O'}]\n",
      "word: High, tag: B-ISSUE\n",
      "word: wind, tag: I-ISSUE\n",
      "word: velocity., tag: I-ISSUE\n",
      "word: Fly, tag: O\n",
      "word: with, tag: O\n",
      "word: caution, tag: O\n",
      "word: and, tag: O\n",
      "word: land, tag: O\n",
      "word: in, tag: O\n",
      "word: a, tag: O\n",
      "word: safe, tag: O\n",
      "word: place, tag: O\n",
      "word: ASAP., tag: O\n",
      "2018-06-19 14:13:14\n",
      "[{'Attitude': 'B-PARAMETER'}, {'is': 'O'}, {'too': 'O'}, {'large.Â': 'O'}, {'Backward': 'B-FUNCTION'}, {'Obstacle': 'I-FUNCTION'}, {'Sensing': 'I-FUNCTION'}, {'is': 'O'}, {'not': 'O'}, {'functioning.': 'O'}]\n",
      "word: Attitude, tag: B-PARAMETER\n",
      "word: is, tag: O\n",
      "word: too, tag: O\n",
      "word: large.Â, tag: O\n",
      "word: Backward, tag: B-FUNCTION\n",
      "word: Obstacle, tag: I-FUNCTION\n",
      "word: Sensing, tag: I-FUNCTION\n",
      "word: is, tag: O\n",
      "word: not, tag: O\n",
      "word: functioning., tag: O\n",
      "2018-06-19 14:13:14\n",
      "[{'Forward': 'B-FUNCTION'}, {'Obstacle': 'I-FUNCTION'}, {'Sensing': 'I-FUNCTION'}, {'is': 'O'}, {'not': 'O'}, {'functioning.': 'O'}]\n",
      "word: Forward, tag: B-FUNCTION\n",
      "word: Obstacle, tag: I-FUNCTION\n",
      "word: Sensing, tag: I-FUNCTION\n",
      "word: is, tag: O\n",
      "word: not, tag: O\n",
      "word: functioning., tag: O\n",
      "2018-06-19 14:15:43\n",
      "[{'Obstacle': 'B-FUNCTION'}, {'Sensing': 'I-FUNCTION'}, {'will': 'O'}, {'be': 'O'}, {'disabled': 'O'}, {'when': 'O'}, {'aircraft': 'B-COMPONENT'}, {'is': 'O'}, {'landing.': 'O'}, {'Fly': 'O'}, {'with': 'O'}, {'caution.': 'O'}]\n",
      "word: Obstacle, tag: B-FUNCTION\n",
      "word: Sensing, tag: I-FUNCTION\n",
      "word: will, tag: O\n",
      "word: be, tag: O\n",
      "word: disabled, tag: O\n",
      "word: when, tag: O\n",
      "word: aircraft, tag: B-COMPONENT\n",
      "word: is, tag: O\n",
      "word: landing., tag: O\n",
      "word: Fly, tag: O\n",
      "word: with, tag: O\n",
      "word: caution., tag: O\n",
      "2018-06-19 14:16:15\n",
      "[{'Ambient': 'B-PARAMETER'}, {'Light': 'I-FUNCTION'}, {'is': 'O'}, {'too': 'O'}, {'weak.': 'O'}]\n",
      "word: Ambient, tag: B-PARAMETER\n",
      "word: Light, tag: I-FUNCTION\n",
      "word: is, tag: O\n",
      "word: too, tag: O\n",
      "word: weak., tag: O\n",
      "2018-06-19 14:16:15\n",
      "[{'Forward': 'B-FUNCTION'}, {'Obstacle': 'I-FUNCTION'}, {'Sensing': 'I-FUNCTION'}, {'is': 'O'}, {'not': 'O'}, {'functioning.': 'O'}]\n",
      "word: Forward, tag: B-FUNCTION\n",
      "word: Obstacle, tag: I-FUNCTION\n",
      "word: Sensing, tag: I-FUNCTION\n",
      "word: is, tag: O\n",
      "word: not, tag: O\n",
      "word: functioning., tag: O\n",
      "2018-06-19 14:29:57\n",
      "[{'Home': 'B-PARAMETER'}, {'Point': 'I-PARAMETER'}, {'Recorded.': 'O'}, {'RTH': 'B-PARAMETER'}, {'Altitude:Â': 'I-PARAMETER'}, {'30m.': 'O'}]\n",
      "word: Home, tag: B-PARAMETER\n",
      "word: Point, tag: I-PARAMETER\n",
      "word: Recorded., tag: O\n",
      "word: RTH, tag: B-PARAMETER\n",
      "word: Altitude:Â, tag: I-PARAMETER\n",
      "word: 30m., tag: O\n",
      "2018-06-19 14:30:43\n",
      "[{'Fly': 'O'}, {'with': 'O'}, {'caution': 'O'}, {'and': 'O'}, {'ensure': 'O'}, {'the': 'O'}, {'aircraft': 'B-COMPONENT'}, {'remains': 'O'}, {'within': 'O'}, {'your': 'O'}, {'line': 'O'}, {'of': 'O'}, {'sight.': 'O'}]\n",
      "word: Fly, tag: O\n",
      "word: with, tag: O\n",
      "word: caution, tag: O\n",
      "word: and, tag: O\n",
      "word: ensure, tag: O\n",
      "word: the, tag: O\n",
      "word: aircraft, tag: B-COMPONENT\n",
      "word: remains, tag: O\n",
      "word: within, tag: O\n",
      "word: your, tag: O\n",
      "word: line, tag: O\n",
      "word: of, tag: O\n",
      "word: sight., tag: O\n",
      "2018-06-19 14:30:53\n",
      "[{'Fly': 'O'}, {'with': 'O'}, {'caution': 'O'}, {'and': 'O'}, {'ensure': 'O'}, {'the': 'O'}, {'aircraft': 'B-COMPONENT'}, {'remains': 'O'}, {'within': 'O'}, {'your': 'O'}, {'line': 'O'}, {'of': 'O'}, {'sight.': 'O'}]\n",
      "word: Fly, tag: O\n",
      "word: with, tag: O\n",
      "word: caution, tag: O\n",
      "word: and, tag: O\n",
      "word: ensure, tag: O\n",
      "word: the, tag: O\n",
      "word: aircraft, tag: B-COMPONENT\n",
      "word: remains, tag: O\n",
      "word: within, tag: O\n",
      "word: your, tag: O\n",
      "word: line, tag: O\n",
      "word: of, tag: O\n",
      "word: sight., tag: O\n",
      "2018-06-19 14:32:58\n",
      "[{'Fly': 'O'}, {'with': 'O'}, {'caution': 'O'}, {'and': 'O'}, {'ensure': 'O'}, {'the': 'O'}, {'aircraft': 'B-COMPONENT'}, {'remains': 'O'}, {'within': 'O'}, {'your': 'O'}, {'line': 'O'}, {'of': 'O'}, {'sight.': 'O'}]\n",
      "word: Fly, tag: O\n",
      "word: with, tag: O\n",
      "word: caution, tag: O\n",
      "word: and, tag: O\n",
      "word: ensure, tag: O\n",
      "word: the, tag: O\n",
      "word: aircraft, tag: B-COMPONENT\n",
      "word: remains, tag: O\n",
      "word: within, tag: O\n",
      "word: your, tag: O\n",
      "word: line, tag: O\n",
      "word: of, tag: O\n",
      "word: sight., tag: O\n",
      "2018-06-19 14:33:09\n",
      "[{'Fly': 'O'}, {'with': 'O'}, {'caution': 'O'}, {'and': 'O'}, {'ensure': 'O'}, {'the': 'O'}, {'aircraft': 'B-COMPONENT'}, {'remains': 'O'}, {'within': 'O'}, {'your': 'O'}, {'line': 'O'}, {'of': 'O'}, {'sight.': 'O'}]\n",
      "word: Fly, tag: O\n",
      "word: with, tag: O\n",
      "word: caution, tag: O\n",
      "word: and, tag: O\n",
      "word: ensure, tag: O\n",
      "word: the, tag: O\n",
      "word: aircraft, tag: B-COMPONENT\n",
      "word: remains, tag: O\n",
      "word: within, tag: O\n",
      "word: your, tag: O\n",
      "word: line, tag: O\n",
      "word: of, tag: O\n",
      "word: sight., tag: O\n",
      "2018-06-19 14:33:36\n",
      "[{'Fly': 'O'}, {'with': 'O'}, {'caution': 'O'}, {'and': 'O'}, {'ensure': 'O'}, {'the': 'O'}, {'aircraft': 'B-COMPONENT'}, {'remains': 'O'}, {'within': 'O'}, {'your': 'O'}, {'line': 'O'}, {'of': 'O'}, {'sight.': 'O'}]\n",
      "word: Fly, tag: O\n",
      "word: with, tag: O\n",
      "word: caution, tag: O\n",
      "word: and, tag: O\n",
      "word: ensure, tag: O\n",
      "word: the, tag: O\n",
      "word: aircraft, tag: B-COMPONENT\n",
      "word: remains, tag: O\n",
      "word: within, tag: O\n",
      "word: your, tag: O\n",
      "word: line, tag: O\n",
      "word: of, tag: O\n",
      "word: sight., tag: O\n",
      "2018-06-19 14:33:58\n",
      "[{'Fly': 'O'}, {'with': 'O'}, {'caution': 'O'}, {'and': 'O'}, {'ensure': 'O'}, {'the': 'O'}, {'aircraft': 'B-COMPONENT'}, {'remains': 'O'}, {'within': 'O'}, {'your': 'O'}, {'line': 'O'}, {'of': 'O'}, {'sight.': 'O'}]\n",
      "word: Fly, tag: O\n",
      "word: with, tag: O\n",
      "word: caution, tag: O\n",
      "word: and, tag: O\n",
      "word: ensure, tag: O\n",
      "word: the, tag: O\n",
      "word: aircraft, tag: B-COMPONENT\n",
      "word: remains, tag: O\n",
      "word: within, tag: O\n",
      "word: your, tag: O\n",
      "word: line, tag: O\n",
      "word: of, tag: O\n",
      "word: sight., tag: O\n",
      "2018-06-19 14:34:30\n",
      "[{'Fly': 'O'}, {'with': 'O'}, {'caution': 'O'}, {'and': 'O'}, {'ensure': 'O'}, {'the': 'O'}, {'aircraft': 'B-COMPONENT'}, {'remains': 'O'}, {'within': 'O'}, {'your': 'O'}, {'line': 'O'}, {'of': 'O'}, {'sight.': 'O'}]\n",
      "word: Fly, tag: O\n",
      "word: with, tag: O\n",
      "word: caution, tag: O\n",
      "word: and, tag: O\n",
      "word: ensure, tag: O\n",
      "word: the, tag: O\n",
      "word: aircraft, tag: B-COMPONENT\n",
      "word: remains, tag: O\n",
      "word: within, tag: O\n",
      "word: your, tag: O\n",
      "word: line, tag: O\n",
      "word: of, tag: O\n",
      "word: sight., tag: O\n",
      "2018-06-19 14:35:19\n",
      "[{'Fly': 'O'}, {'with': 'O'}, {'caution': 'O'}, {'and': 'O'}, {'ensure': 'O'}, {'the': 'O'}, {'aircraft': 'B-COMPONENT'}, {'remains': 'O'}, {'within': 'O'}, {'your': 'O'}, {'line': 'O'}, {'of': 'O'}, {'sight.': 'O'}]\n",
      "word: Fly, tag: O\n",
      "word: with, tag: O\n",
      "word: caution, tag: O\n",
      "word: and, tag: O\n",
      "word: ensure, tag: O\n",
      "word: the, tag: O\n",
      "word: aircraft, tag: B-COMPONENT\n",
      "word: remains, tag: O\n",
      "word: within, tag: O\n",
      "word: your, tag: O\n",
      "word: line, tag: O\n",
      "word: of, tag: O\n",
      "word: sight., tag: O\n",
      "2018-06-19 14:35:29\n",
      "[{'Fly': 'O'}, {'with': 'O'}, {'caution': 'O'}, {'and': 'O'}, {'ensure': 'O'}, {'the': 'O'}, {'aircraft': 'B-COMPONENT'}, {'remains': 'O'}, {'within': 'O'}, {'your': 'O'}, {'line': 'O'}, {'of': 'O'}, {'sight.': 'O'}]\n",
      "word: Fly, tag: O\n",
      "word: with, tag: O\n",
      "word: caution, tag: O\n",
      "word: and, tag: O\n",
      "word: ensure, tag: O\n",
      "word: the, tag: O\n",
      "word: aircraft, tag: B-COMPONENT\n",
      "word: remains, tag: O\n",
      "word: within, tag: O\n",
      "word: your, tag: O\n",
      "word: line, tag: O\n",
      "word: of, tag: O\n",
      "word: sight., tag: O\n",
      "2018-06-19 14:35:55\n",
      "[{'Fly': 'O'}, {'with': 'O'}, {'caution': 'O'}, {'and': 'O'}, {'ensure': 'O'}, {'the': 'O'}, {'aircraft': 'B-COMPONENT'}, {'remains': 'O'}, {'within': 'O'}, {'your': 'O'}, {'line': 'O'}, {'of': 'O'}, {'sight.': 'O'}]\n",
      "word: Fly, tag: O\n",
      "word: with, tag: O\n",
      "word: caution, tag: O\n",
      "word: and, tag: O\n",
      "word: ensure, tag: O\n",
      "word: the, tag: O\n",
      "word: aircraft, tag: B-COMPONENT\n",
      "word: remains, tag: O\n",
      "word: within, tag: O\n",
      "word: your, tag: O\n",
      "word: line, tag: O\n",
      "word: of, tag: O\n",
      "word: sight., tag: O\n",
      "2018-06-19 14:35:58\n",
      "[{'High': 'B-ISSUE'}, {'wind': 'I-ISSUE'}, {'velocity.': 'I-ISSUE'}, {'Fly': 'O'}, {'with': 'O'}, {'caution': 'O'}, {'and': 'O'}, {'land': 'O'}, {'in': 'O'}, {'a': 'O'}, {'safe': 'O'}, {'place': 'O'}, {'ASAP.': 'O'}]\n",
      "word: High, tag: B-ISSUE\n",
      "word: wind, tag: I-ISSUE\n",
      "word: velocity., tag: I-ISSUE\n",
      "word: Fly, tag: O\n",
      "word: with, tag: O\n",
      "word: caution, tag: O\n",
      "word: and, tag: O\n",
      "word: land, tag: O\n",
      "word: in, tag: O\n",
      "word: a, tag: O\n",
      "word: safe, tag: O\n",
      "word: place, tag: O\n",
      "word: ASAP., tag: O\n",
      "2018-06-19 14:37:06\n",
      "[{'Remote': 'B-ACTION'}, {'Controller': 'I-COMPONENT'}, {'Right': 'O'}, {'Dial': 'O'}, {'Locked.': 'O'}, {'Lightly': 'O'}, {'press': 'O'}, {'it': 'O'}, {'to': 'O'}, {'adjust.': 'O'}]\n",
      "word: Remote, tag: B-ACTION\n",
      "word: Controller, tag: I-COMPONENT\n",
      "word: Right, tag: O\n",
      "word: Dial, tag: O\n",
      "word: Locked., tag: O\n",
      "word: Lightly, tag: O\n",
      "word: press, tag: O\n",
      "word: it, tag: O\n",
      "word: to, tag: O\n",
      "word: adjust., tag: O\n",
      "2018-06-19 14:37:29\n",
      "[{'Max': 'B-PARAMETER'}, {'Flight': 'I-PARAMETER'}, {'Distance': 'I-PARAMETER'}, {'Reached.': 'O'}, {'Adjust': 'O'}, {'in': 'O'}, {'Main': 'B-FUNCTION'}, {'Controller': 'I-FUNCTION'}, {'Settings': 'I-FUNCTION'}, {'if': 'O'}, {'necessary.': 'O'}]\n",
      "word: Max, tag: B-PARAMETER\n",
      "word: Flight, tag: I-PARAMETER\n",
      "word: Distance, tag: I-PARAMETER\n",
      "word: Reached., tag: O\n",
      "word: Adjust, tag: O\n",
      "word: in, tag: O\n",
      "word: Main, tag: B-FUNCTION\n",
      "word: Controller, tag: I-FUNCTION\n",
      "word: Settings, tag: I-FUNCTION\n",
      "word: if, tag: O\n",
      "word: necessary., tag: O\n",
      "2018-06-19 14:37:46\n",
      "[{'Weak': 'B-ISSUE'}, {'signal.': 'I-ISSUE'}, {'Adjust': 'O'}, {'antenna': 'O'}, {'and': 'O'}, {'avoid': 'O'}, {'signal': 'B-ISSUE'}, {'block.': 'I-ISSUE'}]\n",
      "word: Weak, tag: B-ISSUE\n",
      "word: signal., tag: I-ISSUE\n",
      "word: Adjust, tag: O\n",
      "word: antenna, tag: O\n",
      "word: and, tag: O\n",
      "word: avoid, tag: O\n",
      "word: signal, tag: B-ISSUE\n",
      "word: block., tag: I-ISSUE\n",
      "2018-06-19 14:45:08\n",
      "[{'Home': 'B-PARAMETER'}, {'Point': 'I-PARAMETER'}, {'Recorded.': 'O'}, {'RTH': 'B-PARAMETER'}, {'Altitude:Â': 'I-PARAMETER'}, {'30m.': 'O'}]\n",
      "word: Home, tag: B-PARAMETER\n",
      "word: Point, tag: I-PARAMETER\n",
      "word: Recorded., tag: O\n",
      "word: RTH, tag: B-PARAMETER\n",
      "word: Altitude:Â, tag: I-PARAMETER\n",
      "word: 30m., tag: O\n",
      "2018-06-19 14:47:45\n",
      "[{'Fly': 'O'}, {'with': 'O'}, {'caution': 'O'}, {'and': 'O'}, {'ensure': 'O'}, {'the': 'O'}, {'aircraft': 'B-COMPONENT'}, {'remains': 'O'}, {'within': 'O'}, {'your': 'O'}, {'line': 'O'}, {'of': 'O'}, {'sight.': 'O'}]\n",
      "word: Fly, tag: O\n",
      "word: with, tag: O\n",
      "word: caution, tag: O\n",
      "word: and, tag: O\n",
      "word: ensure, tag: O\n",
      "word: the, tag: O\n",
      "word: aircraft, tag: B-COMPONENT\n",
      "word: remains, tag: O\n",
      "word: within, tag: O\n",
      "word: your, tag: O\n",
      "word: line, tag: O\n",
      "word: of, tag: O\n",
      "word: sight., tag: O\n",
      "2018-06-19 14:48:11\n",
      "[{'Fly': 'O'}, {'with': 'O'}, {'caution': 'O'}, {'and': 'O'}, {'ensure': 'O'}, {'the': 'O'}, {'aircraft': 'B-COMPONENT'}, {'remains': 'O'}, {'within': 'O'}, {'your': 'O'}, {'line': 'O'}, {'of': 'O'}, {'sight.': 'O'}]\n",
      "word: Fly, tag: O\n",
      "word: with, tag: O\n",
      "word: caution, tag: O\n",
      "word: and, tag: O\n",
      "word: ensure, tag: O\n",
      "word: the, tag: O\n",
      "word: aircraft, tag: B-COMPONENT\n",
      "word: remains, tag: O\n",
      "word: within, tag: O\n",
      "word: your, tag: O\n",
      "word: line, tag: O\n",
      "word: of, tag: O\n",
      "word: sight., tag: O\n",
      "2018-06-19 14:51:37\n",
      "[{'Fly': 'O'}, {'with': 'O'}, {'caution': 'O'}, {'and': 'O'}, {'ensure': 'O'}, {'the': 'O'}, {'aircraft': 'B-COMPONENT'}, {'remains': 'O'}, {'within': 'O'}, {'your': 'O'}, {'line': 'O'}, {'of': 'O'}, {'sight.': 'O'}]\n",
      "word: Fly, tag: O\n",
      "word: with, tag: O\n",
      "word: caution, tag: O\n",
      "word: and, tag: O\n",
      "word: ensure, tag: O\n",
      "word: the, tag: O\n",
      "word: aircraft, tag: B-COMPONENT\n",
      "word: remains, tag: O\n",
      "word: within, tag: O\n",
      "word: your, tag: O\n",
      "word: line, tag: O\n",
      "word: of, tag: O\n",
      "word: sight., tag: O\n",
      "2018-06-19 14:52:01\n",
      "[{'High': 'B-ISSUE'}, {'wind': 'I-ISSUE'}, {'velocity.': 'I-ISSUE'}, {'Fly': 'O'}, {'with': 'O'}, {'caution': 'O'}, {'and': 'O'}, {'land': 'O'}, {'in': 'O'}, {'a': 'O'}, {'safe': 'O'}, {'place': 'O'}, {'ASAP.': 'O'}]\n",
      "word: High, tag: B-ISSUE\n",
      "word: wind, tag: I-ISSUE\n",
      "word: velocity., tag: I-ISSUE\n",
      "word: Fly, tag: O\n",
      "word: with, tag: O\n",
      "word: caution, tag: O\n",
      "word: and, tag: O\n",
      "word: land, tag: O\n",
      "word: in, tag: O\n",
      "word: a, tag: O\n",
      "word: safe, tag: O\n",
      "word: place, tag: O\n",
      "word: ASAP., tag: O\n",
      "2018-06-19 14:52:17\n",
      "[{'Fly': 'O'}, {'with': 'O'}, {'caution': 'O'}, {'and': 'O'}, {'ensure': 'O'}, {'the': 'O'}, {'aircraft': 'B-COMPONENT'}, {'remains': 'O'}, {'within': 'O'}, {'your': 'O'}, {'line': 'O'}, {'of': 'O'}, {'sight.': 'O'}]\n",
      "word: Fly, tag: O\n",
      "word: with, tag: O\n",
      "word: caution, tag: O\n",
      "word: and, tag: O\n",
      "word: ensure, tag: O\n",
      "word: the, tag: O\n",
      "word: aircraft, tag: B-COMPONENT\n",
      "word: remains, tag: O\n",
      "word: within, tag: O\n",
      "word: your, tag: O\n",
      "word: line, tag: O\n",
      "word: of, tag: O\n",
      "word: sight., tag: O\n",
      "2018-06-19 14:52:29\n",
      "[{'Fly': 'O'}, {'with': 'O'}, {'caution': 'O'}, {'and': 'O'}, {'ensure': 'O'}, {'the': 'O'}, {'aircraft': 'B-COMPONENT'}, {'remains': 'O'}, {'within': 'O'}, {'your': 'O'}, {'line': 'O'}, {'of': 'O'}, {'sight.': 'O'}]\n",
      "word: Fly, tag: O\n",
      "word: with, tag: O\n",
      "word: caution, tag: O\n",
      "word: and, tag: O\n",
      "word: ensure, tag: O\n",
      "word: the, tag: O\n",
      "word: aircraft, tag: B-COMPONENT\n",
      "word: remains, tag: O\n",
      "word: within, tag: O\n",
      "word: your, tag: O\n",
      "word: line, tag: O\n",
      "word: of, tag: O\n",
      "word: sight., tag: O\n",
      "2018-06-19 14:53:29\n",
      "[{'Fly': 'O'}, {'with': 'O'}, {'caution': 'O'}, {'and': 'O'}, {'ensure': 'O'}, {'the': 'O'}, {'aircraft': 'B-COMPONENT'}, {'remains': 'O'}, {'within': 'O'}, {'your': 'O'}, {'line': 'O'}, {'of': 'O'}, {'sight.': 'O'}]\n",
      "word: Fly, tag: O\n",
      "word: with, tag: O\n",
      "word: caution, tag: O\n",
      "word: and, tag: O\n",
      "word: ensure, tag: O\n",
      "word: the, tag: O\n",
      "word: aircraft, tag: B-COMPONENT\n",
      "word: remains, tag: O\n",
      "word: within, tag: O\n",
      "word: your, tag: O\n",
      "word: line, tag: O\n",
      "word: of, tag: O\n",
      "word: sight., tag: O\n",
      "2018-06-19 14:57:23\n",
      "[{'Home': 'B-PARAMETER'}, {'Point': 'I-PARAMETER'}, {'recorded.': 'O'}, {'Return-to-Home': 'B-PARAMETER'}, {'Altitude:98FT': 'I-PARAMETER'}]\n",
      "word: Home, tag: B-PARAMETER\n",
      "word: Point, tag: I-PARAMETER\n",
      "word: recorded., tag: O\n",
      "word: Return-to-Home, tag: B-PARAMETER\n",
      "word: Altitude:98FT, tag: I-PARAMETER\n",
      "2018-06-19 14:58:19\n",
      "[{'High': 'B-ISSUE'}, {'wind': 'I-ISSUE'}, {'velocity.': 'I-ISSUE'}, {'Ensure': 'O'}, {'the': 'O'}, {'aircraft': 'B-COMPONENT'}, {'remains': 'O'}, {'within': 'O'}, {'your': 'O'}, {'line': 'O'}, {'of': 'O'}, {'sight': 'O'}, {'and': 'O'}, {'fly': 'O'}, {'with': 'O'}, {'caution.': 'O'}]\n",
      "word: High, tag: B-ISSUE\n",
      "word: wind, tag: I-ISSUE\n",
      "word: velocity., tag: I-ISSUE\n",
      "word: Ensure, tag: O\n",
      "word: the, tag: O\n",
      "word: aircraft, tag: B-COMPONENT\n",
      "word: remains, tag: O\n",
      "word: within, tag: O\n",
      "word: your, tag: O\n",
      "word: line, tag: O\n",
      "word: of, tag: O\n",
      "word: sight, tag: O\n",
      "word: and, tag: O\n",
      "word: fly, tag: O\n",
      "word: with, tag: O\n",
      "word: caution., tag: O\n",
      "2018-06-19 15:01:27\n",
      "[{'High': 'B-ISSUE'}, {'wind': 'I-ISSUE'}, {'velocity.': 'I-ISSUE'}, {'Fly': 'O'}, {'with': 'O'}, {'caution': 'O'}, {'and': 'O'}, {'land': 'O'}, {'in': 'O'}, {'a': 'O'}, {'safe': 'O'}, {'place': 'O'}, {'ASAP.': 'O'}]\n",
      "word: High, tag: B-ISSUE\n",
      "word: wind, tag: I-ISSUE\n",
      "word: velocity., tag: I-ISSUE\n",
      "word: Fly, tag: O\n",
      "word: with, tag: O\n",
      "word: caution, tag: O\n",
      "word: and, tag: O\n",
      "word: land, tag: O\n",
      "word: in, tag: O\n",
      "word: a, tag: O\n",
      "word: safe, tag: O\n",
      "word: place, tag: O\n",
      "word: ASAP., tag: O\n",
      "2018-06-19 15:01:58\n",
      "[{'The': 'O'}, {'remaining': 'O'}, {'battery': 'B-COMPONENT'}, {'is': 'O'}, {'only': 'O'}, {'enough': 'O'}, {'for': 'O'}, {'RTH.': 'B-ACTION'}, {'Return': 'O'}, {'home': 'O'}, {'now.': 'O'}]\n",
      "word: The, tag: O\n",
      "word: remaining, tag: O\n",
      "word: battery, tag: B-COMPONENT\n",
      "word: is, tag: O\n",
      "word: only, tag: O\n",
      "word: enough, tag: O\n",
      "word: for, tag: O\n",
      "word: RTH., tag: B-ACTION\n",
      "word: Return, tag: O\n",
      "word: home, tag: O\n",
      "word: now., tag: O\n",
      "2018-06-19 15:01:58\n",
      "[{'Warning': 'B-ACTION'}]\n",
      "word: Warning, tag: B-ACTION\n",
      "2018-06-19 15:02:00\n",
      "[{'Low': 'B-ISSUE'}, {'power.': 'I-ISSUE'}, {'Returning': 'B-ACTION'}, {'home.': 'I-ACTION'}]\n",
      "word: Low, tag: B-ISSUE\n",
      "word: power., tag: I-ISSUE\n",
      "word: Returning, tag: B-ACTION\n",
      "word: home., tag: I-ACTION\n",
      "2018-06-19 15:03:00\n",
      "[{'Obstacle': 'B-FUNCTION'}, {'Sensing': 'I-FUNCTION'}, {'will': 'O'}, {'be': 'O'}, {'disabled': 'O'}, {'when': 'O'}, {'aircraft': 'B-COMPONENT'}, {'is': 'O'}, {'landing.': 'O'}, {'Fly': 'O'}, {'with': 'O'}, {'caution.': 'O'}]\n",
      "word: Obstacle, tag: B-FUNCTION\n",
      "word: Sensing, tag: I-FUNCTION\n",
      "word: will, tag: O\n",
      "word: be, tag: O\n",
      "word: disabled, tag: O\n",
      "word: when, tag: O\n",
      "word: aircraft, tag: B-COMPONENT\n",
      "word: is, tag: O\n",
      "word: landing., tag: O\n",
      "word: Fly, tag: O\n",
      "word: with, tag: O\n",
      "word: caution., tag: O\n",
      "2018-06-19 15:03:02\n",
      "[{'Correcting': 'B-ACTION'}, {'Landing': 'B-PARAMETER'}, {'Position': 'I-PARAMETER'}]\n",
      "word: Correcting, tag: B-ACTION\n",
      "word: Landing, tag: B-PARAMETER\n",
      "word: Position, tag: I-PARAMETER\n",
      "2018-06-19 15:03:02\n",
      "[{'Precision': 'B-FUNCTION'}, {'Landing': 'I-FUNCTION'}]\n",
      "word: Precision, tag: B-FUNCTION\n",
      "word: Landing, tag: I-FUNCTION\n",
      "2018-06-19 15:03:09\n",
      "[{'Precision': 'B-FUNCTION'}, {'Landing': 'I-FUNCTION'}]\n",
      "word: Precision, tag: B-FUNCTION\n",
      "word: Landing, tag: I-FUNCTION\n",
      "2018-06-19 15:03:09\n",
      "[{'Correcting': 'B-ACTION'}, {'Landing': 'B-PARAMETER'}, {'Position': 'I-PARAMETER'}]\n",
      "word: Correcting, tag: B-ACTION\n",
      "word: Landing, tag: B-PARAMETER\n",
      "word: Position, tag: I-PARAMETER\n",
      "2018-06-19 15:03:16\n",
      "[{'Correcting': 'B-ACTION'}, {'Landing': 'B-PARAMETER'}, {'Position': 'I-PARAMETER'}]\n",
      "word: Correcting, tag: B-ACTION\n",
      "word: Landing, tag: B-PARAMETER\n",
      "word: Position, tag: I-PARAMETER\n",
      "2018-06-19 15:03:16\n",
      "[{'Precision': 'B-FUNCTION'}, {'Landing': 'I-FUNCTION'}]\n",
      "word: Precision, tag: B-FUNCTION\n",
      "word: Landing, tag: I-FUNCTION\n",
      "2018-06-19 15:03:22\n",
      "[{'Precision': 'B-FUNCTION'}, {'Landing': 'I-FUNCTION'}]\n",
      "word: Precision, tag: B-FUNCTION\n",
      "word: Landing, tag: I-FUNCTION\n",
      "2018-06-19 15:03:22\n",
      "[{'Correcting': 'B-ACTION'}, {'Landing': 'B-PARAMETER'}, {'Position': 'I-PARAMETER'}]\n",
      "word: Correcting, tag: B-ACTION\n",
      "word: Landing, tag: B-PARAMETER\n",
      "word: Position, tag: I-PARAMETER\n",
      "2018-06-19 15:04:07\n",
      "[{'Forward': 'B-FUNCTION'}, {'Obstacle': 'I-FUNCTION'}, {'Sensing': 'I-FUNCTION'}, {'is': 'O'}, {'not': 'O'}, {'functioning.': 'O'}]\n",
      "word: Forward, tag: B-FUNCTION\n",
      "word: Obstacle, tag: I-FUNCTION\n",
      "word: Sensing, tag: I-FUNCTION\n",
      "word: is, tag: O\n",
      "word: not, tag: O\n",
      "word: functioning., tag: O\n",
      "2018-06-19 15:04:07\n",
      "[{'Ambient': 'B-PARAMETER'}, {'Light': 'I-FUNCTION'}, {'is': 'O'}, {'too': 'O'}, {'weak.': 'O'}]\n",
      "word: Ambient, tag: B-PARAMETER\n",
      "word: Light, tag: I-FUNCTION\n",
      "word: is, tag: O\n",
      "word: too, tag: O\n",
      "word: weak., tag: O\n",
      "2018-06-19 15:04:09\n",
      "[{'Backward': 'B-FUNCTION'}, {'Obstacle': 'I-FUNCTION'}, {'Sensing': 'I-FUNCTION'}, {'is': 'O'}, {'not': 'O'}, {'functioning.': 'O'}]\n",
      "word: Backward, tag: B-FUNCTION\n",
      "word: Obstacle, tag: I-FUNCTION\n",
      "word: Sensing, tag: I-FUNCTION\n",
      "word: is, tag: O\n",
      "word: not, tag: O\n",
      "word: functioning., tag: O\n",
      "2018-06-19 15:04:09\n",
      "[{'Ambient': 'B-PARAMETER'}, {'Light': 'I-FUNCTION'}, {'is': 'O'}, {'too': 'O'}, {'weak.': 'O'}]\n",
      "word: Ambient, tag: B-PARAMETER\n",
      "word: Light, tag: I-FUNCTION\n",
      "word: is, tag: O\n",
      "word: too, tag: O\n",
      "word: weak., tag: O\n",
      "2018-06-19 15:24:01\n",
      "[{'Home': 'B-PARAMETER'}, {'Point': 'I-PARAMETER'}, {'Recorded.': 'O'}, {'RTH': 'B-PARAMETER'}, {'Altitude:Â': 'I-PARAMETER'}, {'30m.': 'O'}]\n",
      "word: Home, tag: B-PARAMETER\n",
      "word: Point, tag: I-PARAMETER\n",
      "word: Recorded., tag: O\n",
      "word: RTH, tag: B-PARAMETER\n",
      "word: Altitude:Â, tag: I-PARAMETER\n",
      "word: 30m., tag: O\n",
      "2018-06-19 15:24:42\n",
      "[{'Fly': 'O'}, {'with': 'O'}, {'caution': 'O'}, {'and': 'O'}, {'ensure': 'O'}, {'the': 'O'}, {'aircraft': 'B-COMPONENT'}, {'remains': 'O'}, {'within': 'O'}, {'your': 'O'}, {'line': 'O'}, {'of': 'O'}, {'sight.': 'O'}]\n",
      "word: Fly, tag: O\n",
      "word: with, tag: O\n",
      "word: caution, tag: O\n",
      "word: and, tag: O\n",
      "word: ensure, tag: O\n",
      "word: the, tag: O\n",
      "word: aircraft, tag: B-COMPONENT\n",
      "word: remains, tag: O\n",
      "word: within, tag: O\n",
      "word: your, tag: O\n",
      "word: line, tag: O\n",
      "word: of, tag: O\n",
      "word: sight., tag: O\n",
      "2018-06-19 15:25:31\n",
      "[{'Mobile': 'B-COMPONENT'}, {'device': 'I-COMPONENT'}, {'CPU': 'I-COMPONENT'}, {'fully': 'O'}, {'loaded.': 'O'}, {'Related': 'O'}, {'performance': 'O'}, {'will': 'O'}, {'be': 'O'}, {'affected.': 'O'}]\n",
      "word: Mobile, tag: B-COMPONENT\n",
      "word: device, tag: I-COMPONENT\n",
      "word: CPU, tag: I-COMPONENT\n",
      "word: fully, tag: O\n",
      "word: loaded., tag: O\n",
      "word: Related, tag: O\n",
      "word: performance, tag: O\n",
      "word: will, tag: O\n",
      "word: be, tag: O\n",
      "word: affected., tag: O\n",
      "2018-06-19 15:30:21\n",
      "[{'Fly': 'O'}, {'with': 'O'}, {'caution': 'O'}, {'and': 'O'}, {'ensure': 'O'}, {'the': 'O'}, {'aircraft': 'B-COMPONENT'}, {'remains': 'O'}, {'within': 'O'}, {'your': 'O'}, {'line': 'O'}, {'of': 'O'}, {'sight.': 'O'}]\n",
      "word: Fly, tag: O\n",
      "word: with, tag: O\n",
      "word: caution, tag: O\n",
      "word: and, tag: O\n",
      "word: ensure, tag: O\n",
      "word: the, tag: O\n",
      "word: aircraft, tag: B-COMPONENT\n",
      "word: remains, tag: O\n",
      "word: within, tag: O\n",
      "word: your, tag: O\n",
      "word: line, tag: O\n",
      "word: of, tag: O\n",
      "word: sight., tag: O\n",
      "2018-06-19 15:30:46\n",
      "[{'Fly': 'O'}, {'with': 'O'}, {'caution': 'O'}, {'and': 'O'}, {'ensure': 'O'}, {'the': 'O'}, {'aircraft': 'B-COMPONENT'}, {'remains': 'O'}, {'within': 'O'}, {'your': 'O'}, {'line': 'O'}, {'of': 'O'}, {'sight.': 'O'}]\n",
      "word: Fly, tag: O\n",
      "word: with, tag: O\n",
      "word: caution, tag: O\n",
      "word: and, tag: O\n",
      "word: ensure, tag: O\n",
      "word: the, tag: O\n",
      "word: aircraft, tag: B-COMPONENT\n",
      "word: remains, tag: O\n",
      "word: within, tag: O\n",
      "word: your, tag: O\n",
      "word: line, tag: O\n",
      "word: of, tag: O\n",
      "word: sight., tag: O\n",
      "2018-06-19 15:33:55\n",
      "[{'Weak': 'B-ISSUE'}, {'GPS': 'I-ISSUE'}, {'signal.': 'I-ISSUE'}, {'Aircraft': 'B-COMPONENT'}, {'is': 'O'}, {'in': 'O'}, {'Attitude': 'B-STATE'}, {'mode': 'I-STATE'}, {'and': 'O'}, {'hovering': 'O'}, {'may': 'O'}, {'be': 'O'}, {'unstable.': 'O'}, {'Fly': 'O'}, {'with': 'O'}, {'caution.': 'O'}]\n",
      "word: Weak, tag: B-ISSUE\n",
      "word: GPS, tag: I-ISSUE\n",
      "word: signal., tag: I-ISSUE\n",
      "word: Aircraft, tag: B-COMPONENT\n",
      "word: is, tag: O\n",
      "word: in, tag: O\n",
      "word: Attitude, tag: B-STATE\n",
      "word: mode, tag: I-STATE\n",
      "word: and, tag: O\n",
      "word: hovering, tag: O\n",
      "word: may, tag: O\n",
      "word: be, tag: O\n",
      "word: unstable., tag: O\n",
      "word: Fly, tag: O\n",
      "word: with, tag: O\n",
      "word: caution., tag: O\n",
      "2018-06-19 15:34:06\n",
      "[{'Weak': 'B-ISSUE'}, {'GPS': 'I-ISSUE'}, {'signal.': 'I-ISSUE'}, {'Aircraft': 'B-COMPONENT'}, {'is': 'O'}, {'in': 'O'}, {'Attitude': 'B-STATE'}, {'mode': 'I-STATE'}, {'and': 'O'}, {'hovering': 'O'}, {'may': 'O'}, {'be': 'O'}, {'unstable.': 'O'}, {'Fly': 'O'}, {'with': 'O'}, {'caution.': 'O'}]\n",
      "word: Weak, tag: B-ISSUE\n",
      "word: GPS, tag: I-ISSUE\n",
      "word: signal., tag: I-ISSUE\n",
      "word: Aircraft, tag: B-COMPONENT\n",
      "word: is, tag: O\n",
      "word: in, tag: O\n",
      "word: Attitude, tag: B-STATE\n",
      "word: mode, tag: I-STATE\n",
      "word: and, tag: O\n",
      "word: hovering, tag: O\n",
      "word: may, tag: O\n",
      "word: be, tag: O\n",
      "word: unstable., tag: O\n",
      "word: Fly, tag: O\n",
      "word: with, tag: O\n",
      "word: caution., tag: O\n",
      "2018-06-19 15:34:25\n",
      "[{'Weak': 'B-ISSUE'}, {'GPS': 'I-ISSUE'}, {'signal.': 'I-ISSUE'}, {'Aircraft': 'B-COMPONENT'}, {'is': 'O'}, {'in': 'O'}, {'Attitude': 'B-STATE'}, {'mode': 'I-STATE'}, {'and': 'O'}, {'hovering': 'O'}, {'may': 'O'}, {'be': 'O'}, {'unstable.': 'O'}, {'Fly': 'O'}, {'with': 'O'}, {'caution.': 'O'}]\n",
      "word: Weak, tag: B-ISSUE\n",
      "word: GPS, tag: I-ISSUE\n",
      "word: signal., tag: I-ISSUE\n",
      "word: Aircraft, tag: B-COMPONENT\n",
      "word: is, tag: O\n",
      "word: in, tag: O\n",
      "word: Attitude, tag: B-STATE\n",
      "word: mode, tag: I-STATE\n",
      "word: and, tag: O\n",
      "word: hovering, tag: O\n",
      "word: may, tag: O\n",
      "word: be, tag: O\n",
      "word: unstable., tag: O\n",
      "word: Fly, tag: O\n",
      "word: with, tag: O\n",
      "word: caution., tag: O\n",
      "2018-06-19 15:34:39\n",
      "[{'Home': 'B-PARAMETER'}, {'Point': 'I-PARAMETER'}, {'recorded.': 'O'}, {'Return-to-Home': 'B-PARAMETER'}, {'Altitude:98FT': 'I-PARAMETER'}]\n",
      "word: Home, tag: B-PARAMETER\n",
      "word: Point, tag: I-PARAMETER\n",
      "word: recorded., tag: O\n",
      "word: Return-to-Home, tag: B-PARAMETER\n",
      "word: Altitude:98FT, tag: I-PARAMETER\n",
      "2018-06-19 15:34:59\n",
      "[{'Home': 'B-PARAMETER'}, {'Point': 'I-PARAMETER'}, {'recorded.': 'O'}, {'Return-to-Home': 'B-PARAMETER'}, {'Altitude:98FT': 'I-PARAMETER'}]\n",
      "word: Home, tag: B-PARAMETER\n",
      "word: Point, tag: I-PARAMETER\n",
      "word: recorded., tag: O\n",
      "word: Return-to-Home, tag: B-PARAMETER\n",
      "word: Altitude:98FT, tag: I-PARAMETER\n",
      "2018-06-19 15:39:36\n",
      "[{'Aircraft': 'B-COMPONENT'}, {'is': 'O'}, {'close': 'O'}, {'to': 'O'}, {'the': 'O'}, {'Home': 'B-PARAMETER'}, {'Point.': 'I-PARAMETER'}, {'Initiating': 'O'}, {'Return': 'B-ACTION'}, {'to': 'I-ACTION'}, {'Home': 'I-ACTION'}, {'will': 'O'}, {'now': 'O'}, {'trigger': 'O'}, {'Auto': 'B-STATE'}, {'Landing.': 'I-STATE'}]\n",
      "word: Aircraft, tag: B-COMPONENT\n",
      "word: is, tag: O\n",
      "word: close, tag: O\n",
      "word: to, tag: O\n",
      "word: the, tag: O\n",
      "word: Home, tag: B-PARAMETER\n",
      "word: Point., tag: I-PARAMETER\n",
      "word: Initiating, tag: O\n",
      "word: Return, tag: B-ACTION\n",
      "word: to, tag: I-ACTION\n",
      "word: Home, tag: I-ACTION\n",
      "word: will, tag: O\n",
      "word: now, tag: O\n",
      "word: trigger, tag: O\n",
      "word: Auto, tag: B-STATE\n",
      "word: Landing., tag: I-STATE\n"
     ]
    }
   ],
   "source": [
    "for predict in pred_list:\n",
    "    print(predict['timestamp'])\n",
    "    print(predict['entities'])\n",
    "    for dic in predict['entities']:\n",
    "        for token, tag in dic.items():\n",
    "#             for word, tag in token:\n",
    "            print('word: {word}, tag: {tag}'.format(word=token, tag=tag))"
   ]
  },
  {
   "cell_type": "code",
   "execution_count": null,
   "id": "ddfb23c2",
   "metadata": {},
   "outputs": [],
   "source": []
  }
 ],
 "metadata": {
  "kernelspec": {
   "display_name": "Python 3 (ipykernel)",
   "language": "python",
   "name": "python3"
  },
  "language_info": {
   "codemirror_mode": {
    "name": "ipython",
    "version": 3
   },
   "file_extension": ".py",
   "mimetype": "text/x-python",
   "name": "python",
   "nbconvert_exporter": "python",
   "pygments_lexer": "ipython3",
   "version": "3.9.12"
  }
 },
 "nbformat": 4,
 "nbformat_minor": 5
}
